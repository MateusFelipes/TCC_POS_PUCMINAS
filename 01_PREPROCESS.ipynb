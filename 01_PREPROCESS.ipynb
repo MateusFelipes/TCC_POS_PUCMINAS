{
 "cells": [
  {
   "cell_type": "code",
   "execution_count": 1,
   "metadata": {},
   "outputs": [],
   "source": [
    "# Importando bibliotecas\n",
    "import pandas as pd\n",
    "import numpy as np\n",
    "import matplotlib.pyplot as plt\n",
    "import seaborn as sns\n",
    "from unidecode import unidecode"
   ]
  },
  {
   "cell_type": "code",
   "execution_count": 2,
   "metadata": {},
   "outputs": [
    {
     "data": {
      "text/html": [
       "<div>\n",
       "<style scoped>\n",
       "    .dataframe tbody tr th:only-of-type {\n",
       "        vertical-align: middle;\n",
       "    }\n",
       "\n",
       "    .dataframe tbody tr th {\n",
       "        vertical-align: top;\n",
       "    }\n",
       "\n",
       "    .dataframe thead th {\n",
       "        text-align: right;\n",
       "    }\n",
       "</style>\n",
       "<table border=\"1\" class=\"dataframe\">\n",
       "  <thead>\n",
       "    <tr style=\"text-align: right;\">\n",
       "      <th></th>\n",
       "      <th>Nome da coluna</th>\n",
       "      <th>Descrição da informação da coluna</th>\n",
       "    </tr>\n",
       "  </thead>\n",
       "  <tbody>\n",
       "    <tr>\n",
       "      <th>0</th>\n",
       "      <td>NU_ANO</td>\n",
       "      <td>Ano do processo seletivo</td>\n",
       "    </tr>\n",
       "    <tr>\n",
       "      <th>1</th>\n",
       "      <td>NU_EDICAO</td>\n",
       "      <td>Número da edição do processo seletivo no ano d...</td>\n",
       "    </tr>\n",
       "    <tr>\n",
       "      <th>2</th>\n",
       "      <td>CO_IES</td>\n",
       "      <td>Código da instituição de ensino superior confo...</td>\n",
       "    </tr>\n",
       "    <tr>\n",
       "      <th>3</th>\n",
       "      <td>NO_IES</td>\n",
       "      <td>Nome da instituição de ensino superior confome...</td>\n",
       "    </tr>\n",
       "    <tr>\n",
       "      <th>4</th>\n",
       "      <td>SG_IES</td>\n",
       "      <td>Sigla da instituição de ensino superior confom...</td>\n",
       "    </tr>\n",
       "    <tr>\n",
       "      <th>5</th>\n",
       "      <td>DS_ORGANIZACAO_ACADEMICA</td>\n",
       "      <td>Descrição da organização acadêmica da institui...</td>\n",
       "    </tr>\n",
       "    <tr>\n",
       "      <th>6</th>\n",
       "      <td>DS_CATEGORIA_ADM</td>\n",
       "      <td>Descrição da categoria administrativa da insti...</td>\n",
       "    </tr>\n",
       "    <tr>\n",
       "      <th>7</th>\n",
       "      <td>NO_CAMPUS</td>\n",
       "      <td>Nome do campus da instituição de ensino superi...</td>\n",
       "    </tr>\n",
       "    <tr>\n",
       "      <th>8</th>\n",
       "      <td>NO_MUNICIPIO_CAMPUS</td>\n",
       "      <td>Nome do município do campus da instituição de ...</td>\n",
       "    </tr>\n",
       "    <tr>\n",
       "      <th>9</th>\n",
       "      <td>SG_UF_CAMPUS</td>\n",
       "      <td>Sigla da unidade da federação (UF) na qual est...</td>\n",
       "    </tr>\n",
       "    <tr>\n",
       "      <th>10</th>\n",
       "      <td>DS_REGIAO_CAMPUS</td>\n",
       "      <td>Descrição da região na qual está localizada o ...</td>\n",
       "    </tr>\n",
       "    <tr>\n",
       "      <th>11</th>\n",
       "      <td>CO_IES_CURSO</td>\n",
       "      <td>Código do curso da instituição de ensino super...</td>\n",
       "    </tr>\n",
       "    <tr>\n",
       "      <th>12</th>\n",
       "      <td>NO_CURSO</td>\n",
       "      <td>Nome do curso da instituição de ensino superio...</td>\n",
       "    </tr>\n",
       "    <tr>\n",
       "      <th>13</th>\n",
       "      <td>DS_GRAU</td>\n",
       "      <td>Grau do curso da instituição de ensino superio...</td>\n",
       "    </tr>\n",
       "    <tr>\n",
       "      <th>14</th>\n",
       "      <td>DS_TURNO</td>\n",
       "      <td>Turno do curso da instituição de ensino superi...</td>\n",
       "    </tr>\n",
       "    <tr>\n",
       "      <th>15</th>\n",
       "      <td>TP_MODALIDADE</td>\n",
       "      <td>Tipo da modalidade da oferta do curso no proce...</td>\n",
       "    </tr>\n",
       "    <tr>\n",
       "      <th>16</th>\n",
       "      <td>DS_MOD_CONCORRENCIA</td>\n",
       "      <td>Descrição do tipo da modalidade de concorrênci...</td>\n",
       "    </tr>\n",
       "    <tr>\n",
       "      <th>17</th>\n",
       "      <td>NU_PERCENTUAL_BONUS</td>\n",
       "      <td>Percentual de bônus definido para as ações afi...</td>\n",
       "    </tr>\n",
       "    <tr>\n",
       "      <th>18</th>\n",
       "      <td>QT_VAGAS_CONCORRENCIA</td>\n",
       "      <td>Quantidade de vagas ofertadas naquela modalidade</td>\n",
       "    </tr>\n",
       "    <tr>\n",
       "      <th>19</th>\n",
       "      <td>NU_NOTACORTE</td>\n",
       "      <td>Nota de corte da modalidade/curso conforme o r...</td>\n",
       "    </tr>\n",
       "    <tr>\n",
       "      <th>20</th>\n",
       "      <td>QT_INSCRICAO</td>\n",
       "      <td>Quantidade de inscrições para a modalidade</td>\n",
       "    </tr>\n",
       "  </tbody>\n",
       "</table>\n",
       "</div>"
      ],
      "text/plain": [
       "              Nome da coluna  \\\n",
       "0                     NU_ANO   \n",
       "1                  NU_EDICAO   \n",
       "2                     CO_IES   \n",
       "3                     NO_IES   \n",
       "4                     SG_IES   \n",
       "5   DS_ORGANIZACAO_ACADEMICA   \n",
       "6           DS_CATEGORIA_ADM   \n",
       "7                  NO_CAMPUS   \n",
       "8        NO_MUNICIPIO_CAMPUS   \n",
       "9               SG_UF_CAMPUS   \n",
       "10          DS_REGIAO_CAMPUS   \n",
       "11              CO_IES_CURSO   \n",
       "12                  NO_CURSO   \n",
       "13                   DS_GRAU   \n",
       "14                  DS_TURNO   \n",
       "15             TP_MODALIDADE   \n",
       "16       DS_MOD_CONCORRENCIA   \n",
       "17       NU_PERCENTUAL_BONUS   \n",
       "18     QT_VAGAS_CONCORRENCIA   \n",
       "19              NU_NOTACORTE   \n",
       "20              QT_INSCRICAO   \n",
       "\n",
       "                    Descrição da informação da coluna  \n",
       "0                            Ano do processo seletivo  \n",
       "1   Número da edição do processo seletivo no ano d...  \n",
       "2   Código da instituição de ensino superior confo...  \n",
       "3   Nome da instituição de ensino superior confome...  \n",
       "4   Sigla da instituição de ensino superior confom...  \n",
       "5   Descrição da organização acadêmica da institui...  \n",
       "6   Descrição da categoria administrativa da insti...  \n",
       "7   Nome do campus da instituição de ensino superi...  \n",
       "8   Nome do município do campus da instituição de ...  \n",
       "9   Sigla da unidade da federação (UF) na qual est...  \n",
       "10  Descrição da região na qual está localizada o ...  \n",
       "11  Código do curso da instituição de ensino super...  \n",
       "12  Nome do curso da instituição de ensino superio...  \n",
       "13  Grau do curso da instituição de ensino superio...  \n",
       "14  Turno do curso da instituição de ensino superi...  \n",
       "15  Tipo da modalidade da oferta do curso no proce...  \n",
       "16  Descrição do tipo da modalidade de concorrênci...  \n",
       "17  Percentual de bônus definido para as ações afi...  \n",
       "18   Quantidade de vagas ofertadas naquela modalidade  \n",
       "19  Nota de corte da modalidade/curso conforme o r...  \n",
       "20         Quantidade de inscrições para a modalidade  "
      ]
     },
     "execution_count": 2,
     "metadata": {},
     "output_type": "execute_result"
    }
   ],
   "source": [
    "pd.read_excel('DADOS/portal_sisu_sisu 2023_1_inscricoes_notas_de_corte.xlsx', index=False)"
   ]
  },
  {
   "cell_type": "code",
   "execution_count": 3,
   "metadata": {},
   "outputs": [
    {
     "data": {
      "text/html": [
       "<div>\n",
       "<style scoped>\n",
       "    .dataframe tbody tr th:only-of-type {\n",
       "        vertical-align: middle;\n",
       "    }\n",
       "\n",
       "    .dataframe tbody tr th {\n",
       "        vertical-align: top;\n",
       "    }\n",
       "\n",
       "    .dataframe thead th {\n",
       "        text-align: right;\n",
       "    }\n",
       "</style>\n",
       "<table border=\"1\" class=\"dataframe\">\n",
       "  <thead>\n",
       "    <tr style=\"text-align: right;\">\n",
       "      <th></th>\n",
       "      <th>NU_ANO</th>\n",
       "      <th>NU_EDICAO</th>\n",
       "      <th>CO_IES</th>\n",
       "      <th>NO_IES</th>\n",
       "      <th>SG_IES</th>\n",
       "      <th>DS_ORGANIZACAO_ACADEMICA</th>\n",
       "      <th>DS_CATEGORIA_ADM</th>\n",
       "      <th>NO_CAMPUS</th>\n",
       "      <th>NO_MUNICIPIO_CAMPUS</th>\n",
       "      <th>SG_UF_CAMPUS</th>\n",
       "      <th>...</th>\n",
       "      <th>CO_IES_CURSO</th>\n",
       "      <th>NO_CURSO</th>\n",
       "      <th>DS_GRAU</th>\n",
       "      <th>DS_TURNO</th>\n",
       "      <th>TP_MOD_CONCORRENCIA</th>\n",
       "      <th>DS_MOD_CONCORRENCIA</th>\n",
       "      <th>NU_PERCENTUAL_BONUS</th>\n",
       "      <th>QT_VAGAS_CONCORRENCIA</th>\n",
       "      <th>NU_NOTACORTE</th>\n",
       "      <th>QT_INSCRICAO</th>\n",
       "    </tr>\n",
       "  </thead>\n",
       "  <tbody>\n",
       "    <tr>\n",
       "      <th>0</th>\n",
       "      <td>2023</td>\n",
       "      <td>1</td>\n",
       "      <td>580</td>\n",
       "      <td>UNIVERSIDADE FEDERAL DE PERNAMBUCO</td>\n",
       "      <td>UFPE</td>\n",
       "      <td>Universidade</td>\n",
       "      <td>Pública Federal</td>\n",
       "      <td>Campus do Agreste Caruaru</td>\n",
       "      <td>Caruaru</td>\n",
       "      <td>PE</td>\n",
       "      <td>...</td>\n",
       "      <td>118098</td>\n",
       "      <td>QUÍMICA</td>\n",
       "      <td>Licenciatura</td>\n",
       "      <td>Noturno</td>\n",
       "      <td>L</td>\n",
       "      <td>Candidatos autodeclarados indígenas, com renda...</td>\n",
       "      <td>0</td>\n",
       "      <td>1</td>\n",
       "      <td>NaN</td>\n",
       "      <td>NaN</td>\n",
       "    </tr>\n",
       "    <tr>\n",
       "      <th>1</th>\n",
       "      <td>2023</td>\n",
       "      <td>1</td>\n",
       "      <td>580</td>\n",
       "      <td>UNIVERSIDADE FEDERAL DE PERNAMBUCO</td>\n",
       "      <td>UFPE</td>\n",
       "      <td>Universidade</td>\n",
       "      <td>Pública Federal</td>\n",
       "      <td>Campus do Agreste Caruaru</td>\n",
       "      <td>Caruaru</td>\n",
       "      <td>PE</td>\n",
       "      <td>...</td>\n",
       "      <td>118098</td>\n",
       "      <td>QUÍMICA</td>\n",
       "      <td>Licenciatura</td>\n",
       "      <td>Noturno</td>\n",
       "      <td>L</td>\n",
       "      <td>Candidatos autodeclarados indígenas que, indep...</td>\n",
       "      <td>0</td>\n",
       "      <td>1</td>\n",
       "      <td>NaN</td>\n",
       "      <td>1.0</td>\n",
       "    </tr>\n",
       "    <tr>\n",
       "      <th>2</th>\n",
       "      <td>2023</td>\n",
       "      <td>1</td>\n",
       "      <td>580</td>\n",
       "      <td>UNIVERSIDADE FEDERAL DE PERNAMBUCO</td>\n",
       "      <td>UFPE</td>\n",
       "      <td>Universidade</td>\n",
       "      <td>Pública Federal</td>\n",
       "      <td>Campus do Agreste Caruaru</td>\n",
       "      <td>Caruaru</td>\n",
       "      <td>PE</td>\n",
       "      <td>...</td>\n",
       "      <td>118098</td>\n",
       "      <td>QUÍMICA</td>\n",
       "      <td>Licenciatura</td>\n",
       "      <td>Noturno</td>\n",
       "      <td>L</td>\n",
       "      <td>Candidatos autodeclarados pretos ou pardos, co...</td>\n",
       "      <td>0</td>\n",
       "      <td>11</td>\n",
       "      <td>564.04</td>\n",
       "      <td>52.0</td>\n",
       "    </tr>\n",
       "    <tr>\n",
       "      <th>3</th>\n",
       "      <td>2023</td>\n",
       "      <td>1</td>\n",
       "      <td>580</td>\n",
       "      <td>UNIVERSIDADE FEDERAL DE PERNAMBUCO</td>\n",
       "      <td>UFPE</td>\n",
       "      <td>Universidade</td>\n",
       "      <td>Pública Federal</td>\n",
       "      <td>Campus do Agreste Caruaru</td>\n",
       "      <td>Caruaru</td>\n",
       "      <td>PE</td>\n",
       "      <td>...</td>\n",
       "      <td>118098</td>\n",
       "      <td>QUÍMICA</td>\n",
       "      <td>Licenciatura</td>\n",
       "      <td>Noturno</td>\n",
       "      <td>L</td>\n",
       "      <td>Candidatos autodeclarados pretos ou pardos que...</td>\n",
       "      <td>0</td>\n",
       "      <td>11</td>\n",
       "      <td>555.87</td>\n",
       "      <td>48.0</td>\n",
       "    </tr>\n",
       "    <tr>\n",
       "      <th>4</th>\n",
       "      <td>2023</td>\n",
       "      <td>1</td>\n",
       "      <td>580</td>\n",
       "      <td>UNIVERSIDADE FEDERAL DE PERNAMBUCO</td>\n",
       "      <td>UFPE</td>\n",
       "      <td>Universidade</td>\n",
       "      <td>Pública Federal</td>\n",
       "      <td>Campus do Agreste Caruaru</td>\n",
       "      <td>Caruaru</td>\n",
       "      <td>PE</td>\n",
       "      <td>...</td>\n",
       "      <td>118098</td>\n",
       "      <td>QUÍMICA</td>\n",
       "      <td>Licenciatura</td>\n",
       "      <td>Noturno</td>\n",
       "      <td>L</td>\n",
       "      <td>Candidatos com deficiência autodeclarados pret...</td>\n",
       "      <td>0</td>\n",
       "      <td>1</td>\n",
       "      <td>441.18</td>\n",
       "      <td>2.0</td>\n",
       "    </tr>\n",
       "    <tr>\n",
       "      <th>...</th>\n",
       "      <td>...</td>\n",
       "      <td>...</td>\n",
       "      <td>...</td>\n",
       "      <td>...</td>\n",
       "      <td>...</td>\n",
       "      <td>...</td>\n",
       "      <td>...</td>\n",
       "      <td>...</td>\n",
       "      <td>...</td>\n",
       "      <td>...</td>\n",
       "      <td>...</td>\n",
       "      <td>...</td>\n",
       "      <td>...</td>\n",
       "      <td>...</td>\n",
       "      <td>...</td>\n",
       "      <td>...</td>\n",
       "      <td>...</td>\n",
       "      <td>...</td>\n",
       "      <td>...</td>\n",
       "      <td>...</td>\n",
       "      <td>...</td>\n",
       "    </tr>\n",
       "    <tr>\n",
       "      <th>44321</th>\n",
       "      <td>2023</td>\n",
       "      <td>1</td>\n",
       "      <td>367</td>\n",
       "      <td>UNIVERSIDADE ESTADUAL DE MONTES CLAROS</td>\n",
       "      <td>UNIMONTES</td>\n",
       "      <td>Universidade</td>\n",
       "      <td>Pública Estadual</td>\n",
       "      <td>CAMPUS DE MONTES CLAROS</td>\n",
       "      <td>Montes Claros</td>\n",
       "      <td>MG</td>\n",
       "      <td>...</td>\n",
       "      <td>1610573</td>\n",
       "      <td>FÍSICA</td>\n",
       "      <td>Licenciatura</td>\n",
       "      <td>Noturno</td>\n",
       "      <td>V</td>\n",
       "      <td>NEEP - Negros, de baixa renda que sejam egress...</td>\n",
       "      <td>0</td>\n",
       "      <td>5</td>\n",
       "      <td>514.98</td>\n",
       "      <td>11.0</td>\n",
       "    </tr>\n",
       "    <tr>\n",
       "      <th>44322</th>\n",
       "      <td>2023</td>\n",
       "      <td>1</td>\n",
       "      <td>367</td>\n",
       "      <td>UNIVERSIDADE ESTADUAL DE MONTES CLAROS</td>\n",
       "      <td>UNIMONTES</td>\n",
       "      <td>Universidade</td>\n",
       "      <td>Pública Estadual</td>\n",
       "      <td>CAMPUS DE MONTES CLAROS</td>\n",
       "      <td>Montes Claros</td>\n",
       "      <td>MG</td>\n",
       "      <td>...</td>\n",
       "      <td>1610573</td>\n",
       "      <td>FÍSICA</td>\n",
       "      <td>Licenciatura</td>\n",
       "      <td>Noturno</td>\n",
       "      <td>V</td>\n",
       "      <td>IEEP - Indígena, de baixa renda, egresso de es...</td>\n",
       "      <td>0</td>\n",
       "      <td>1</td>\n",
       "      <td>NaN</td>\n",
       "      <td>NaN</td>\n",
       "    </tr>\n",
       "    <tr>\n",
       "      <th>44323</th>\n",
       "      <td>2023</td>\n",
       "      <td>1</td>\n",
       "      <td>367</td>\n",
       "      <td>UNIVERSIDADE ESTADUAL DE MONTES CLAROS</td>\n",
       "      <td>UNIMONTES</td>\n",
       "      <td>Universidade</td>\n",
       "      <td>Pública Estadual</td>\n",
       "      <td>CAMPUS DE MONTES CLAROS</td>\n",
       "      <td>Montes Claros</td>\n",
       "      <td>MG</td>\n",
       "      <td>...</td>\n",
       "      <td>1610573</td>\n",
       "      <td>FÍSICA</td>\n",
       "      <td>Licenciatura</td>\n",
       "      <td>Noturno</td>\n",
       "      <td>V</td>\n",
       "      <td>EEP - Egresso da escola pública, de baixa renda</td>\n",
       "      <td>0</td>\n",
       "      <td>5</td>\n",
       "      <td>590.98</td>\n",
       "      <td>17.0</td>\n",
       "    </tr>\n",
       "    <tr>\n",
       "      <th>44324</th>\n",
       "      <td>2023</td>\n",
       "      <td>1</td>\n",
       "      <td>367</td>\n",
       "      <td>UNIVERSIDADE ESTADUAL DE MONTES CLAROS</td>\n",
       "      <td>UNIMONTES</td>\n",
       "      <td>Universidade</td>\n",
       "      <td>Pública Estadual</td>\n",
       "      <td>CAMPUS DE MONTES CLAROS</td>\n",
       "      <td>Montes Claros</td>\n",
       "      <td>MG</td>\n",
       "      <td>...</td>\n",
       "      <td>1610573</td>\n",
       "      <td>FÍSICA</td>\n",
       "      <td>Licenciatura</td>\n",
       "      <td>Noturno</td>\n",
       "      <td>V</td>\n",
       "      <td>PD - Pessoa com deficiência</td>\n",
       "      <td>0</td>\n",
       "      <td>1</td>\n",
       "      <td>504.13</td>\n",
       "      <td>2.0</td>\n",
       "    </tr>\n",
       "    <tr>\n",
       "      <th>44325</th>\n",
       "      <td>2023</td>\n",
       "      <td>1</td>\n",
       "      <td>367</td>\n",
       "      <td>UNIVERSIDADE ESTADUAL DE MONTES CLAROS</td>\n",
       "      <td>UNIMONTES</td>\n",
       "      <td>Universidade</td>\n",
       "      <td>Pública Estadual</td>\n",
       "      <td>CAMPUS DE MONTES CLAROS</td>\n",
       "      <td>Montes Claros</td>\n",
       "      <td>MG</td>\n",
       "      <td>...</td>\n",
       "      <td>1610573</td>\n",
       "      <td>FÍSICA</td>\n",
       "      <td>Licenciatura</td>\n",
       "      <td>Noturno</td>\n",
       "      <td>A</td>\n",
       "      <td>Ampla concorrência</td>\n",
       "      <td>0</td>\n",
       "      <td>13</td>\n",
       "      <td>615.28</td>\n",
       "      <td>48.0</td>\n",
       "    </tr>\n",
       "  </tbody>\n",
       "</table>\n",
       "<p>44326 rows × 21 columns</p>\n",
       "</div>"
      ],
      "text/plain": [
       "       NU_ANO  NU_EDICAO  CO_IES                                  NO_IES  \\\n",
       "0        2023          1     580      UNIVERSIDADE FEDERAL DE PERNAMBUCO   \n",
       "1        2023          1     580      UNIVERSIDADE FEDERAL DE PERNAMBUCO   \n",
       "2        2023          1     580      UNIVERSIDADE FEDERAL DE PERNAMBUCO   \n",
       "3        2023          1     580      UNIVERSIDADE FEDERAL DE PERNAMBUCO   \n",
       "4        2023          1     580      UNIVERSIDADE FEDERAL DE PERNAMBUCO   \n",
       "...       ...        ...     ...                                     ...   \n",
       "44321    2023          1     367  UNIVERSIDADE ESTADUAL DE MONTES CLAROS   \n",
       "44322    2023          1     367  UNIVERSIDADE ESTADUAL DE MONTES CLAROS   \n",
       "44323    2023          1     367  UNIVERSIDADE ESTADUAL DE MONTES CLAROS   \n",
       "44324    2023          1     367  UNIVERSIDADE ESTADUAL DE MONTES CLAROS   \n",
       "44325    2023          1     367  UNIVERSIDADE ESTADUAL DE MONTES CLAROS   \n",
       "\n",
       "          SG_IES DS_ORGANIZACAO_ACADEMICA  DS_CATEGORIA_ADM  \\\n",
       "0           UFPE             Universidade   Pública Federal   \n",
       "1           UFPE             Universidade   Pública Federal   \n",
       "2           UFPE             Universidade   Pública Federal   \n",
       "3           UFPE             Universidade   Pública Federal   \n",
       "4           UFPE             Universidade   Pública Federal   \n",
       "...          ...                      ...               ...   \n",
       "44321  UNIMONTES             Universidade  Pública Estadual   \n",
       "44322  UNIMONTES             Universidade  Pública Estadual   \n",
       "44323  UNIMONTES             Universidade  Pública Estadual   \n",
       "44324  UNIMONTES             Universidade  Pública Estadual   \n",
       "44325  UNIMONTES             Universidade  Pública Estadual   \n",
       "\n",
       "                       NO_CAMPUS NO_MUNICIPIO_CAMPUS SG_UF_CAMPUS  ...  \\\n",
       "0      Campus do Agreste Caruaru             Caruaru           PE  ...   \n",
       "1      Campus do Agreste Caruaru             Caruaru           PE  ...   \n",
       "2      Campus do Agreste Caruaru             Caruaru           PE  ...   \n",
       "3      Campus do Agreste Caruaru             Caruaru           PE  ...   \n",
       "4      Campus do Agreste Caruaru             Caruaru           PE  ...   \n",
       "...                          ...                 ...          ...  ...   \n",
       "44321    CAMPUS DE MONTES CLAROS       Montes Claros           MG  ...   \n",
       "44322    CAMPUS DE MONTES CLAROS       Montes Claros           MG  ...   \n",
       "44323    CAMPUS DE MONTES CLAROS       Montes Claros           MG  ...   \n",
       "44324    CAMPUS DE MONTES CLAROS       Montes Claros           MG  ...   \n",
       "44325    CAMPUS DE MONTES CLAROS       Montes Claros           MG  ...   \n",
       "\n",
       "      CO_IES_CURSO  NO_CURSO       DS_GRAU DS_TURNO TP_MOD_CONCORRENCIA  \\\n",
       "0           118098   QUÍMICA  Licenciatura  Noturno                   L   \n",
       "1           118098   QUÍMICA  Licenciatura  Noturno                   L   \n",
       "2           118098   QUÍMICA  Licenciatura  Noturno                   L   \n",
       "3           118098   QUÍMICA  Licenciatura  Noturno                   L   \n",
       "4           118098   QUÍMICA  Licenciatura  Noturno                   L   \n",
       "...            ...       ...           ...      ...                 ...   \n",
       "44321      1610573    FÍSICA  Licenciatura  Noturno                   V   \n",
       "44322      1610573    FÍSICA  Licenciatura  Noturno                   V   \n",
       "44323      1610573    FÍSICA  Licenciatura  Noturno                   V   \n",
       "44324      1610573    FÍSICA  Licenciatura  Noturno                   V   \n",
       "44325      1610573    FÍSICA  Licenciatura  Noturno                   A   \n",
       "\n",
       "                                     DS_MOD_CONCORRENCIA NU_PERCENTUAL_BONUS  \\\n",
       "0      Candidatos autodeclarados indígenas, com renda...                   0   \n",
       "1      Candidatos autodeclarados indígenas que, indep...                   0   \n",
       "2      Candidatos autodeclarados pretos ou pardos, co...                   0   \n",
       "3      Candidatos autodeclarados pretos ou pardos que...                   0   \n",
       "4      Candidatos com deficiência autodeclarados pret...                   0   \n",
       "...                                                  ...                 ...   \n",
       "44321  NEEP - Negros, de baixa renda que sejam egress...                   0   \n",
       "44322  IEEP - Indígena, de baixa renda, egresso de es...                   0   \n",
       "44323    EEP - Egresso da escola pública, de baixa renda                   0   \n",
       "44324                        PD - Pessoa com deficiência                   0   \n",
       "44325                                 Ampla concorrência                   0   \n",
       "\n",
       "       QT_VAGAS_CONCORRENCIA  NU_NOTACORTE  QT_INSCRICAO  \n",
       "0                          1           NaN           NaN  \n",
       "1                          1           NaN           1.0  \n",
       "2                         11        564.04          52.0  \n",
       "3                         11        555.87          48.0  \n",
       "4                          1        441.18           2.0  \n",
       "...                      ...           ...           ...  \n",
       "44321                      5        514.98          11.0  \n",
       "44322                      1           NaN           NaN  \n",
       "44323                      5        590.98          17.0  \n",
       "44324                      1        504.13           2.0  \n",
       "44325                     13        615.28          48.0  \n",
       "\n",
       "[44326 rows x 21 columns]"
      ]
     },
     "execution_count": 3,
     "metadata": {},
     "output_type": "execute_result"
    }
   ],
   "source": [
    "pd.read_excel('DADOS/portal_sisu_sisu 2023_1_inscricoes_notas_de_corte.xlsx', sheet_name='inscricao_2023_1', index=False)"
   ]
  },
  {
   "cell_type": "code",
   "execution_count": 4,
   "metadata": {},
   "outputs": [
    {
     "data": {
      "text/plain": [
       "(44326, 21)"
      ]
     },
     "execution_count": 4,
     "metadata": {},
     "output_type": "execute_result"
    }
   ],
   "source": [
    "sisu = pd.read_excel('DADOS/portal_sisu_sisu 2023_1_inscricoes_notas_de_corte.xlsx', sheet_name='inscricao_2023_1', index=False)\n",
    "sisu.shape"
   ]
  },
  {
   "cell_type": "code",
   "execution_count": 10,
   "metadata": {},
   "outputs": [
    {
     "data": {
      "text/plain": [
       "Universidade                                           36149\n",
       "Instituto Federal de Educação, Ciência e Tecnologia     7693\n",
       "Centro Federal de Educação Tecnológica                   404\n",
       "Faculdade                                                 80\n",
       "Name: DS_ORGANIZACAO_ACADEMICA, dtype: int64"
      ]
     },
     "execution_count": 10,
     "metadata": {},
     "output_type": "execute_result"
    }
   ],
   "source": [
    "sisu.DS_ORGANIZACAO_ACADEMICA.value_counts()"
   ]
  },
  {
   "cell_type": "code",
   "execution_count": 11,
   "metadata": {},
   "outputs": [
    {
     "data": {
      "text/plain": [
       "Pública Federal      38797\n",
       "Pública Estadual      5510\n",
       "Pública Municipal       19\n",
       "Name: DS_CATEGORIA_ADM, dtype: int64"
      ]
     },
     "execution_count": 11,
     "metadata": {},
     "output_type": "execute_result"
    }
   ],
   "source": [
    "sisu.DS_CATEGORIA_ADM.value_counts()"
   ]
  },
  {
   "cell_type": "code",
   "execution_count": 14,
   "metadata": {},
   "outputs": [
    {
     "data": {
      "text/plain": [
       "Nordeste        16966\n",
       "Sudeste         12000\n",
       "Sul              8531\n",
       "Centro_Oeste     4443\n",
       "Norte            2386\n",
       "Name: DS_REGIAO_CAMPUS, dtype: int64"
      ]
     },
     "execution_count": 14,
     "metadata": {},
     "output_type": "execute_result"
    }
   ],
   "source": [
    "sisu.DS_REGIAO_CAMPUS.value_counts()"
   ]
  },
  {
   "cell_type": "code",
   "execution_count": 16,
   "metadata": {},
   "outputs": [
    {
     "data": {
      "text/plain": [
       "Bacharelado                      27141\n",
       "Licenciatura                     12802\n",
       "Tecnológico                       3154\n",
       "Área Básica de Ingresso (ABI)     1229\n",
       "Name: DS_GRAU, dtype: int64"
      ]
     },
     "execution_count": 16,
     "metadata": {},
     "output_type": "execute_result"
    }
   ],
   "source": [
    "sisu.DS_GRAU.value_counts()"
   ]
  },
  {
   "cell_type": "code",
   "execution_count": 17,
   "metadata": {},
   "outputs": [
    {
     "data": {
      "text/plain": [
       "Integral      20359\n",
       "Noturno       14840\n",
       "Matutino       5116\n",
       "Vespertino     3580\n",
       "EaD             431\n",
       "Name: DS_TURNO, dtype: int64"
      ]
     },
     "execution_count": 17,
     "metadata": {},
     "output_type": "execute_result"
    }
   ],
   "source": [
    "sisu.DS_TURNO.value_counts()"
   ]
  },
  {
   "cell_type": "code",
   "execution_count": 18,
   "metadata": {},
   "outputs": [
    {
     "data": {
      "text/plain": [
       "L    31222\n",
       "A     6402\n",
       "V     5554\n",
       "B     1148\n",
       "Name: TP_MOD_CONCORRENCIA, dtype: int64"
      ]
     },
     "execution_count": 18,
     "metadata": {},
     "output_type": "execute_result"
    }
   ],
   "source": [
    "sisu.TP_MOD_CONCORRENCIA.value_counts()"
   ]
  },
  {
   "cell_type": "code",
   "execution_count": 19,
   "metadata": {},
   "outputs": [
    {
     "data": {
      "text/plain": [
       "Ampla concorrência                                                                                                                                                                                                                                                                                                                                           6402\n",
       "Candidatos com renda familiar bruta per capita igual ou inferior a 1,5 salário mínimo que tenham cursado integralmente o ensino médio em escolas públicas (Lei nº 12.711/2012).                                                                                                                                                                              4845\n",
       "Candidatos que, independentemente da renda (art. 14, II, Portaria Normativa nº 18/2012), tenham cursado integralmente o ensino médio em escolas públicas (Lei nº 12.711/2012).                                                                                                                                                                               4738\n",
       "Candidatos autodeclarados pretos, pardos ou indígenas, com renda familiar bruta per capita igual ou inferior a 1,5 salário mínimo e que tenham cursado integralmente o ensino médio em escolas públicas (Lei nº 12.711/2012).                                                                                                                                4686\n",
       "Candidatos autodeclarados pretos, pardos ou indígenas que, independentemente da renda (art. 14, II, Portaria Normativa nº 18/2012), tenham cursado integralmente o ensino médio em escolas públicas (Lei nº 12.711/2012).                                                                                                                                    4639\n",
       "                                                                                                                                                                                                                                                                                                                                                             ... \n",
       "Candidato (s) surdos                                                                                                                                                                                                                                                                                                                                            1\n",
       "Ação Afirmativa - Curso de Medicina do Campus A. C. Simões (Bônus de 3%), de acordo com a Resolução nº 91/2022 - CONSUNI/UFAL, de 01 de novembro de 2022.                                                                                                                                                                                                       1\n",
       "concorrentes às vagas de ampla concorrência para o Curso de Medicina - Natal que tiverem cursado todo o ensino médio em escolas regulares do Estado do Rio Grande do Norte, excluídos aqueles que concluíram o ensino médio por meio de exames supletivos, Exame Nacional para Certificação de Competências de Jovens e Adultos - ENCCEJA e equivalentes.       1\n",
       "Candidato (s) deficientes auditivos especificamente no curso de Letras-Libras.                                                                                                                                                                                                                                                                                  1\n",
       "surdos que optarem pelas vagas destinadas à ampla concorrência terão bonificação de 20% na pontuação final do Exame Nacional do Ensino Médio (ENEM).                                                                                                                                                                                                            1\n",
       "Name: DS_MOD_CONCORRENCIA, Length: 199, dtype: int64"
      ]
     },
     "execution_count": 19,
     "metadata": {},
     "output_type": "execute_result"
    }
   ],
   "source": [
    "sisu.DS_MOD_CONCORRENCIA.value_counts()"
   ]
  },
  {
   "cell_type": "code",
   "execution_count": 22,
   "metadata": {},
   "outputs": [
    {
     "data": {
      "text/plain": [
       "count    44326.000000\n",
       "mean         5.106461\n",
       "std          7.690474\n",
       "min          0.000000\n",
       "25%          1.000000\n",
       "50%          2.000000\n",
       "75%          6.000000\n",
       "max        307.000000\n",
       "Name: QT_VAGAS_CONCORRENCIA, dtype: float64"
      ]
     },
     "execution_count": 22,
     "metadata": {},
     "output_type": "execute_result"
    }
   ],
   "source": [
    "sisu.QT_VAGAS_CONCORRENCIA.describe()"
   ]
  },
  {
   "cell_type": "code",
   "execution_count": 23,
   "metadata": {},
   "outputs": [
    {
     "data": {
      "text/plain": [
       "count    33636.000000\n",
       "mean       601.628162\n",
       "std         77.231550\n",
       "min        137.040000\n",
       "25%        551.910000\n",
       "50%        602.310000\n",
       "75%        652.650000\n",
       "max        923.900000\n",
       "Name: NU_NOTACORTE, dtype: float64"
      ]
     },
     "execution_count": 23,
     "metadata": {},
     "output_type": "execute_result"
    }
   ],
   "source": [
    "sisu.NU_NOTACORTE.describe()"
   ]
  },
  {
   "cell_type": "code",
   "execution_count": 24,
   "metadata": {},
   "outputs": [
    {
     "data": {
      "text/plain": [
       "count    36170.000000\n",
       "mean        57.031103\n",
       "std        140.168361\n",
       "min          1.000000\n",
       "25%          5.000000\n",
       "50%         20.000000\n",
       "75%         56.000000\n",
       "max       8217.000000\n",
       "Name: QT_INSCRICAO, dtype: float64"
      ]
     },
     "execution_count": 24,
     "metadata": {},
     "output_type": "execute_result"
    }
   ],
   "source": [
    "sisu.QT_INSCRICAO.describe()"
   ]
  },
  {
   "cell_type": "markdown",
   "metadata": {},
   "source": [
    "# Corte dos dados"
   ]
  },
  {
   "cell_type": "code",
   "execution_count": 25,
   "metadata": {},
   "outputs": [],
   "source": [
    "sisu_a = sisu[sisu.TP_MOD_CONCORRENCIA==\"A\"].copy()"
   ]
  },
  {
   "cell_type": "code",
   "execution_count": 26,
   "metadata": {},
   "outputs": [
    {
     "data": {
      "text/plain": [
       "(6402, 21)"
      ]
     },
     "execution_count": 26,
     "metadata": {},
     "output_type": "execute_result"
    }
   ],
   "source": [
    "sisu_a.shape"
   ]
  },
  {
   "cell_type": "code",
   "execution_count": 36,
   "metadata": {},
   "outputs": [
    {
     "data": {
      "text/plain": [
       "Bacharelado                      3870\n",
       "Licenciatura                     1923\n",
       "Tecnológico                       434\n",
       "Área Básica de Ingresso (ABI)     175\n",
       "Name: DS_GRAU, dtype: int64"
      ]
     },
     "execution_count": 36,
     "metadata": {},
     "output_type": "execute_result"
    }
   ],
   "source": [
    "sisu_a.DS_GRAU.value_counts()"
   ]
  },
  {
   "cell_type": "code",
   "execution_count": 37,
   "metadata": {},
   "outputs": [
    {
     "data": {
      "text/plain": [
       "(5968, 21)"
      ]
     },
     "execution_count": 37,
     "metadata": {},
     "output_type": "execute_result"
    }
   ],
   "source": [
    "sisu_a = sisu_a[sisu_a.DS_GRAU!='Tecnológico']\n",
    "sisu_a.shape"
   ]
  },
  {
   "cell_type": "code",
   "execution_count": 40,
   "metadata": {},
   "outputs": [
    {
     "data": {
      "text/plain": [
       "(5961, 21)"
      ]
     },
     "execution_count": 40,
     "metadata": {},
     "output_type": "execute_result"
    }
   ],
   "source": [
    "sisu_a = sisu_a[sisu_a.QT_VAGAS_CONCORRENCIA!=0]\n",
    "sisu_a.shape"
   ]
  },
  {
   "cell_type": "code",
   "execution_count": 41,
   "metadata": {},
   "outputs": [
    {
     "data": {
      "text/plain": [
       "count    5817.000000\n",
       "mean      644.547430\n",
       "std        71.558542\n",
       "min       323.180000\n",
       "25%       595.660000\n",
       "50%       645.120000\n",
       "75%       693.870000\n",
       "max       923.900000\n",
       "Name: NU_NOTACORTE, dtype: float64"
      ]
     },
     "execution_count": 41,
     "metadata": {},
     "output_type": "execute_result"
    }
   ],
   "source": [
    "sisu_a.NU_NOTACORTE.describe()"
   ]
  },
  {
   "cell_type": "code",
   "execution_count": 42,
   "metadata": {},
   "outputs": [
    {
     "data": {
      "text/plain": [
       "(5817, 21)"
      ]
     },
     "execution_count": 42,
     "metadata": {},
     "output_type": "execute_result"
    }
   ],
   "source": [
    "sisu_a = sisu_a[pd.isna(sisu_a.NU_NOTACORTE)!=True]\n",
    "sisu_a.shape"
   ]
  },
  {
   "cell_type": "code",
   "execution_count": 44,
   "metadata": {},
   "outputs": [
    {
     "data": {
      "text/plain": [
       "(5817, 21)"
      ]
     },
     "execution_count": 44,
     "metadata": {},
     "output_type": "execute_result"
    }
   ],
   "source": [
    "sisu_a.shape"
   ]
  },
  {
   "cell_type": "code",
   "execution_count": 46,
   "metadata": {},
   "outputs": [
    {
     "data": {
      "text/plain": [
       "count    5817.000000\n",
       "mean      644.547430\n",
       "std        71.558542\n",
       "min       323.180000\n",
       "25%       595.660000\n",
       "50%       645.120000\n",
       "75%       693.870000\n",
       "max       923.900000\n",
       "Name: NU_NOTACORTE, dtype: float64"
      ]
     },
     "execution_count": 46,
     "metadata": {},
     "output_type": "execute_result"
    }
   ],
   "source": [
    "sisu_a.NU_NOTACORTE.describe()"
   ]
  },
  {
   "cell_type": "code",
   "execution_count": 47,
   "metadata": {},
   "outputs": [
    {
     "data": {
      "text/plain": [
       "count    5817.000000\n",
       "mean      148.442840\n",
       "std       272.482037\n",
       "min         1.000000\n",
       "25%        37.000000\n",
       "50%        74.000000\n",
       "75%       151.000000\n",
       "max      8217.000000\n",
       "Name: QT_INSCRICAO, dtype: float64"
      ]
     },
     "execution_count": 47,
     "metadata": {},
     "output_type": "execute_result"
    }
   ],
   "source": [
    "sisu_a.QT_INSCRICAO.describe()"
   ]
  },
  {
   "cell_type": "code",
   "execution_count": 48,
   "metadata": {},
   "outputs": [
    {
     "data": {
      "text/plain": [
       "count    5817.000000\n",
       "mean       17.350181\n",
       "std        13.368235\n",
       "min         1.000000\n",
       "25%        10.000000\n",
       "50%        16.000000\n",
       "75%        22.000000\n",
       "max       307.000000\n",
       "Name: QT_VAGAS_CONCORRENCIA, dtype: float64"
      ]
     },
     "execution_count": 48,
     "metadata": {},
     "output_type": "execute_result"
    }
   ],
   "source": [
    "sisu_a.QT_VAGAS_CONCORRENCIA.describe()"
   ]
  },
  {
   "cell_type": "code",
   "execution_count": 49,
   "metadata": {},
   "outputs": [
    {
     "data": {
      "image/png": "[encoded data removed]",
      "text/plain": [
       "<Figure size 432x288 with 1 Axes>"
      ]
     },
     "metadata": {
      "needs_background": "light"
     },
     "output_type": "display_data"
    }
   ],
   "source": [
    "# Criar o boxplot\n",
    "plt.boxplot(sisu_a.QT_VAGAS_CONCORRENCIA)\n",
    "# Adicionar título e rótulos dos eixos\n",
    "plt.title('Boxplot de Quantidade de Vagas ofertadas')\n",
    "plt.xlabel('')\n",
    "plt.ylabel('Número de Vagas')\n",
    "\n",
    "# Exibir o gráfico\n",
    "plt.show()"
   ]
  },
  {
   "cell_type": "code",
   "execution_count": 50,
   "metadata": {},
   "outputs": [
    {
     "data": {
      "text/plain": [
       "0.975    49.6\n",
       "0.990    51.0\n",
       "Name: QT_VAGAS_CONCORRENCIA, dtype: float64"
      ]
     },
     "execution_count": 50,
     "metadata": {},
     "output_type": "execute_result"
    }
   ],
   "source": [
    "sisu_a.QT_VAGAS_CONCORRENCIA.quantile([.975, .99])"
   ]
  },
  {
   "cell_type": "code",
   "execution_count": 51,
   "metadata": {},
   "outputs": [
    {
     "data": {
      "text/plain": [
       "(5759, 21)"
      ]
     },
     "execution_count": 51,
     "metadata": {},
     "output_type": "execute_result"
    }
   ],
   "source": [
    "sisu_a = sisu_a[sisu_a.QT_VAGAS_CONCORRENCIA<=51]\n",
    "sisu_a.shape"
   ]
  },
  {
   "cell_type": "code",
   "execution_count": 52,
   "metadata": {},
   "outputs": [
    {
     "data": {
      "text/plain": [
       "Integral      2713\n",
       "Noturno       1895\n",
       "Matutino       664\n",
       "Vespertino     439\n",
       "EaD             48\n",
       "Name: DS_TURNO, dtype: int64"
      ]
     },
     "execution_count": 52,
     "metadata": {},
     "output_type": "execute_result"
    }
   ],
   "source": [
    "sisu_a.DS_TURNO.value_counts()"
   ]
  },
  {
   "cell_type": "code",
   "execution_count": 53,
   "metadata": {},
   "outputs": [
    {
     "data": {
      "text/plain": [
       "(5711, 21)"
      ]
     },
     "execution_count": 53,
     "metadata": {},
     "output_type": "execute_result"
    }
   ],
   "source": [
    "sisu_a = sisu_a[sisu_a.DS_TURNO!='EaD']\n",
    "sisu_a.shape"
   ]
  },
  {
   "cell_type": "markdown",
   "metadata": {},
   "source": [
    "# 2. Adicionando Informação"
   ]
  },
  {
   "cell_type": "code",
   "execution_count": 54,
   "metadata": {},
   "outputs": [],
   "source": [
    "notas_mec = pd.read_excel(\"DADOS/relatorio_consulta_publica_avancada_ies_06_03_2024_19_52_28.xlsx\",skiprows=5,index=False)"
   ]
  },
  {
   "cell_type": "code",
   "execution_count": 55,
   "metadata": {},
   "outputs": [
    {
     "data": {
      "text/html": [
       "<div>\n",
       "<style scoped>\n",
       "    .dataframe tbody tr th:only-of-type {\n",
       "        vertical-align: middle;\n",
       "    }\n",
       "\n",
       "    .dataframe tbody tr th {\n",
       "        vertical-align: top;\n",
       "    }\n",
       "\n",
       "    .dataframe thead th {\n",
       "        text-align: right;\n",
       "    }\n",
       "</style>\n",
       "<table border=\"1\" class=\"dataframe\">\n",
       "  <thead>\n",
       "    <tr style=\"text-align: right;\">\n",
       "      <th></th>\n",
       "      <th>Código Mantenedora</th>\n",
       "      <th>Razão Social</th>\n",
       "      <th>CNPJ</th>\n",
       "      <th>Natureza Jurídica</th>\n",
       "      <th>Código IES</th>\n",
       "      <th>Instituição(IES)</th>\n",
       "      <th>Sigla</th>\n",
       "      <th>Telefone</th>\n",
       "      <th>Sitio</th>\n",
       "      <th>e-Mail</th>\n",
       "      <th>...</th>\n",
       "      <th>CI</th>\n",
       "      <th>Ano CI</th>\n",
       "      <th>CI-EaD</th>\n",
       "      <th>Ano CI-EaD</th>\n",
       "      <th>IGC</th>\n",
       "      <th>Ano IGC</th>\n",
       "      <th>Reitor/Dirigente Principal</th>\n",
       "      <th>Representante Legal</th>\n",
       "      <th>Sinalizações Vigentes</th>\n",
       "      <th>Situação da IES</th>\n",
       "    </tr>\n",
       "  </thead>\n",
       "  <tbody>\n",
       "    <tr>\n",
       "      <th>0</th>\n",
       "      <td>18344</td>\n",
       "      <td>COMANDO DA AERONAUTICA</td>\n",
       "      <td>00.394.429/0111-45</td>\n",
       "      <td>Pessoa Jurídica de Direito Público - Federal</td>\n",
       "      <td>26777</td>\n",
       "      <td>ACADEMIA DA FORÇA AÉREA (AFA)</td>\n",
       "      <td>AFA</td>\n",
       "      <td>NaN</td>\n",
       "      <td>https://www2.fab.mil.br/afa/</td>\n",
       "      <td>dpl.direns@gmail.com</td>\n",
       "      <td>...</td>\n",
       "      <td>-</td>\n",
       "      <td>NaN</td>\n",
       "      <td>-</td>\n",
       "      <td>NaN</td>\n",
       "      <td>-</td>\n",
       "      <td>NaN</td>\n",
       "      <td>NaN</td>\n",
       "      <td>NaN</td>\n",
       "      <td>NaN</td>\n",
       "      <td>Ativa</td>\n",
       "    </tr>\n",
       "    <tr>\n",
       "      <th>1</th>\n",
       "      <td>18177</td>\n",
       "      <td>CORPO DE BOMBEIROS MILITAR DE MINAS GERAIS</td>\n",
       "      <td>03.389.126/0001-98</td>\n",
       "      <td>Pessoa Jurídica de Direito Público - Estadual</td>\n",
       "      <td>26238</td>\n",
       "      <td>ACADEMIA DE BOMBEIROS MILITAR (ABM)</td>\n",
       "      <td>ABM</td>\n",
       "      <td>3133119179</td>\n",
       "      <td>NaN</td>\n",
       "      <td>abm.ste@bombeiros.mg.gov.br</td>\n",
       "      <td>...</td>\n",
       "      <td>-</td>\n",
       "      <td>NaN</td>\n",
       "      <td>-</td>\n",
       "      <td>NaN</td>\n",
       "      <td>-</td>\n",
       "      <td>NaN</td>\n",
       "      <td>NaN</td>\n",
       "      <td>NaN</td>\n",
       "      <td>NaN</td>\n",
       "      <td>Ativa</td>\n",
       "    </tr>\n",
       "    <tr>\n",
       "      <th>2</th>\n",
       "      <td>17963</td>\n",
       "      <td>POLICIA MILITAR DO ESTADO DE MINAS GERAIS</td>\n",
       "      <td>16.695.025/0001-97</td>\n",
       "      <td>Pessoa Jurídica de Direito Público - Estadual</td>\n",
       "      <td>25613</td>\n",
       "      <td>ACADEMIA DE POLÍCIA MILITAR DE MINAS GERAIS (APM)</td>\n",
       "      <td>APM</td>\n",
       "      <td>(31) 2123-9484</td>\n",
       "      <td>https://www.policiamilitar.mg.gov.br/portal-pm...</td>\n",
       "      <td>divisaodeensino.apm@pmmg.mg.gov.br</td>\n",
       "      <td>...</td>\n",
       "      <td>-</td>\n",
       "      <td>NaN</td>\n",
       "      <td>-</td>\n",
       "      <td>NaN</td>\n",
       "      <td>-</td>\n",
       "      <td>NaN</td>\n",
       "      <td>NaN</td>\n",
       "      <td>NaN</td>\n",
       "      <td>NaN</td>\n",
       "      <td>Ativa</td>\n",
       "    </tr>\n",
       "    <tr>\n",
       "      <th>3</th>\n",
       "      <td>17403</td>\n",
       "      <td>ESPIRITO SANTO SECRETARIA DE EST DE SEGURANCA ...</td>\n",
       "      <td>27.476.373/0001-90</td>\n",
       "      <td>Pessoa Jurídica de Direito Público - Estadual</td>\n",
       "      <td>24465</td>\n",
       "      <td>ACADEMIA DE POLÍCIA MILITAR DO ESPÍRITO SANTO ...</td>\n",
       "      <td>APM/ES</td>\n",
       "      <td>3636-2950</td>\n",
       "      <td>pm.es.gov.br</td>\n",
       "      <td>NaN</td>\n",
       "      <td>...</td>\n",
       "      <td>-</td>\n",
       "      <td>NaN</td>\n",
       "      <td>-</td>\n",
       "      <td>NaN</td>\n",
       "      <td>-</td>\n",
       "      <td>NaN</td>\n",
       "      <td>NaN</td>\n",
       "      <td>NaN</td>\n",
       "      <td>NaN</td>\n",
       "      <td>Ativa</td>\n",
       "    </tr>\n",
       "    <tr>\n",
       "      <th>4</th>\n",
       "      <td>15797</td>\n",
       "      <td>SANTA CATARINA TRIBUNAL DE JUSTICA</td>\n",
       "      <td>83.845.701/0001-59</td>\n",
       "      <td>Pessoa Jurídica de Direito Público - Estadual</td>\n",
       "      <td>17969</td>\n",
       "      <td>ACADEMIA JUDICIAL DO TRIBUNAL DE JUSTIÇA DE SA...</td>\n",
       "      <td>AJ</td>\n",
       "      <td>48-32872800</td>\n",
       "      <td>http://acadjud.tjsc.jus.br</td>\n",
       "      <td>academia@tjsc.jus.br</td>\n",
       "      <td>...</td>\n",
       "      <td>5</td>\n",
       "      <td>2015.0</td>\n",
       "      <td>-</td>\n",
       "      <td>NaN</td>\n",
       "      <td>-</td>\n",
       "      <td>NaN</td>\n",
       "      <td>NaN</td>\n",
       "      <td>NaN</td>\n",
       "      <td>NaN</td>\n",
       "      <td>Ativa</td>\n",
       "    </tr>\n",
       "  </tbody>\n",
       "</table>\n",
       "<p>5 rows × 28 columns</p>\n",
       "</div>"
      ],
      "text/plain": [
       "   Código Mantenedora                                       Razão Social  \\\n",
       "0               18344                             COMANDO DA AERONAUTICA   \n",
       "1               18177         CORPO DE BOMBEIROS MILITAR DE MINAS GERAIS   \n",
       "2               17963          POLICIA MILITAR DO ESTADO DE MINAS GERAIS   \n",
       "3               17403  ESPIRITO SANTO SECRETARIA DE EST DE SEGURANCA ...   \n",
       "4               15797                 SANTA CATARINA TRIBUNAL DE JUSTICA   \n",
       "\n",
       "                 CNPJ                              Natureza Jurídica  \\\n",
       "0  00.394.429/0111-45   Pessoa Jurídica de Direito Público - Federal   \n",
       "1  03.389.126/0001-98  Pessoa Jurídica de Direito Público - Estadual   \n",
       "2  16.695.025/0001-97  Pessoa Jurídica de Direito Público - Estadual   \n",
       "3  27.476.373/0001-90  Pessoa Jurídica de Direito Público - Estadual   \n",
       "4  83.845.701/0001-59  Pessoa Jurídica de Direito Público - Estadual   \n",
       "\n",
       "   Código IES                                   Instituição(IES)   Sigla  \\\n",
       "0       26777                      ACADEMIA DA FORÇA AÉREA (AFA)     AFA   \n",
       "1       26238                ACADEMIA DE BOMBEIROS MILITAR (ABM)     ABM   \n",
       "2       25613  ACADEMIA DE POLÍCIA MILITAR DE MINAS GERAIS (APM)     APM   \n",
       "3       24465  ACADEMIA DE POLÍCIA MILITAR DO ESPÍRITO SANTO ...  APM/ES   \n",
       "4       17969  ACADEMIA JUDICIAL DO TRIBUNAL DE JUSTIÇA DE SA...      AJ   \n",
       "\n",
       "         Telefone                                              Sitio  \\\n",
       "0             NaN                       https://www2.fab.mil.br/afa/   \n",
       "1      3133119179                                                NaN   \n",
       "2  (31) 2123-9484  https://www.policiamilitar.mg.gov.br/portal-pm...   \n",
       "3       3636-2950                                       pm.es.gov.br   \n",
       "4     48-32872800                         http://acadjud.tjsc.jus.br   \n",
       "\n",
       "                               e-Mail  ... CI  Ano CI CI-EaD Ano CI-EaD IGC  \\\n",
       "0                dpl.direns@gmail.com  ...  -     NaN      -        NaN   -   \n",
       "1         abm.ste@bombeiros.mg.gov.br  ...  -     NaN      -        NaN   -   \n",
       "2  divisaodeensino.apm@pmmg.mg.gov.br  ...  -     NaN      -        NaN   -   \n",
       "3                                 NaN  ...  -     NaN      -        NaN   -   \n",
       "4                academia@tjsc.jus.br  ...  5  2015.0      -        NaN   -   \n",
       "\n",
       "  Ano IGC Reitor/Dirigente Principal Representante Legal  \\\n",
       "0     NaN                        NaN                 NaN   \n",
       "1     NaN                        NaN                 NaN   \n",
       "2     NaN                        NaN                 NaN   \n",
       "3     NaN                        NaN                 NaN   \n",
       "4     NaN                        NaN                 NaN   \n",
       "\n",
       "  Sinalizações Vigentes  Situação da IES  \n",
       "0                   NaN            Ativa  \n",
       "1                   NaN            Ativa  \n",
       "2                   NaN            Ativa  \n",
       "3                   NaN            Ativa  \n",
       "4                   NaN            Ativa  \n",
       "\n",
       "[5 rows x 28 columns]"
      ]
     },
     "execution_count": 55,
     "metadata": {},
     "output_type": "execute_result"
    }
   ],
   "source": [
    "notas_mec.head()"
   ]
  },
  {
   "cell_type": "code",
   "execution_count": 56,
   "metadata": {},
   "outputs": [
    {
     "data": {
      "text/plain": [
       "Index(['Código Mantenedora', 'Razão Social', 'CNPJ', 'Natureza Jurídica',\n",
       "       'Código IES', 'Instituição(IES)', 'Sigla', 'Telefone', 'Sitio',\n",
       "       'e-Mail', 'Endereço Sede', 'Município', 'UF', 'Organização Acadêmica',\n",
       "       'Tipo de Credenciamento', 'Categoria', 'Categoria Administrativa',\n",
       "       'Data do Ato de Criação da IES', 'CI', 'Ano CI', 'CI-EaD', 'Ano CI-EaD',\n",
       "       'IGC', 'Ano IGC', 'Reitor/Dirigente Principal', 'Representante Legal',\n",
       "       'Sinalizações Vigentes', 'Situação da IES'],\n",
       "      dtype='object')"
      ]
     },
     "execution_count": 56,
     "metadata": {},
     "output_type": "execute_result"
    }
   ],
   "source": [
    "notas_mec.columns"
   ]
  },
  {
   "cell_type": "code",
   "execution_count": 57,
   "metadata": {},
   "outputs": [],
   "source": [
    "notas_mec = notas_mec[['Código IES', 'Instituição(IES)', 'Município', 'UF', 'CI', 'IGC']]"
   ]
  },
  {
   "cell_type": "code",
   "execution_count": 58,
   "metadata": {},
   "outputs": [
    {
     "data": {
      "text/html": [
       "<div>\n",
       "<style scoped>\n",
       "    .dataframe tbody tr th:only-of-type {\n",
       "        vertical-align: middle;\n",
       "    }\n",
       "\n",
       "    .dataframe tbody tr th {\n",
       "        vertical-align: top;\n",
       "    }\n",
       "\n",
       "    .dataframe thead th {\n",
       "        text-align: right;\n",
       "    }\n",
       "</style>\n",
       "<table border=\"1\" class=\"dataframe\">\n",
       "  <thead>\n",
       "    <tr style=\"text-align: right;\">\n",
       "      <th></th>\n",
       "      <th>Código IES</th>\n",
       "      <th>Instituição(IES)</th>\n",
       "      <th>Município</th>\n",
       "      <th>UF</th>\n",
       "      <th>CI</th>\n",
       "      <th>IGC</th>\n",
       "    </tr>\n",
       "  </thead>\n",
       "  <tbody>\n",
       "    <tr>\n",
       "      <th>0</th>\n",
       "      <td>26777</td>\n",
       "      <td>ACADEMIA DA FORÇA AÉREA (AFA)</td>\n",
       "      <td>NaN</td>\n",
       "      <td>NaN</td>\n",
       "      <td>-</td>\n",
       "      <td>-</td>\n",
       "    </tr>\n",
       "    <tr>\n",
       "      <th>1</th>\n",
       "      <td>26238</td>\n",
       "      <td>ACADEMIA DE BOMBEIROS MILITAR (ABM)</td>\n",
       "      <td>NaN</td>\n",
       "      <td>NaN</td>\n",
       "      <td>-</td>\n",
       "      <td>-</td>\n",
       "    </tr>\n",
       "    <tr>\n",
       "      <th>2</th>\n",
       "      <td>25613</td>\n",
       "      <td>ACADEMIA DE POLÍCIA MILITAR DE MINAS GERAIS (APM)</td>\n",
       "      <td>Belo Horizonte</td>\n",
       "      <td>MG</td>\n",
       "      <td>-</td>\n",
       "      <td>-</td>\n",
       "    </tr>\n",
       "    <tr>\n",
       "      <th>3</th>\n",
       "      <td>24465</td>\n",
       "      <td>ACADEMIA DE POLÍCIA MILITAR DO ESPÍRITO SANTO ...</td>\n",
       "      <td>NaN</td>\n",
       "      <td>NaN</td>\n",
       "      <td>-</td>\n",
       "      <td>-</td>\n",
       "    </tr>\n",
       "    <tr>\n",
       "      <th>4</th>\n",
       "      <td>17969</td>\n",
       "      <td>ACADEMIA JUDICIAL DO TRIBUNAL DE JUSTIÇA DE SA...</td>\n",
       "      <td>Florianópolis</td>\n",
       "      <td>SC</td>\n",
       "      <td>5</td>\n",
       "      <td>-</td>\n",
       "    </tr>\n",
       "    <tr>\n",
       "      <th>...</th>\n",
       "      <td>...</td>\n",
       "      <td>...</td>\n",
       "      <td>...</td>\n",
       "      <td>...</td>\n",
       "      <td>...</td>\n",
       "      <td>...</td>\n",
       "    </tr>\n",
       "    <tr>\n",
       "      <th>360</th>\n",
       "      <td>605</td>\n",
       "      <td>UNIVERSIDADE MUNICIPAL DE SÃO CAETANO DO SUL (...</td>\n",
       "      <td>São Caetano do Sul</td>\n",
       "      <td>SP</td>\n",
       "      <td>-</td>\n",
       "      <td>3</td>\n",
       "    </tr>\n",
       "    <tr>\n",
       "      <th>361</th>\n",
       "      <td>76</td>\n",
       "      <td>UNIVERSIDADE REGIONAL DE BLUMENAU (FURB)</td>\n",
       "      <td>Blumenau</td>\n",
       "      <td>SC</td>\n",
       "      <td>-</td>\n",
       "      <td>4</td>\n",
       "    </tr>\n",
       "    <tr>\n",
       "      <th>362</th>\n",
       "      <td>746</td>\n",
       "      <td>UNIVERSIDADE REGIONAL DO CARIRI (URCA)</td>\n",
       "      <td>Crato</td>\n",
       "      <td>CE</td>\n",
       "      <td>-</td>\n",
       "      <td>3</td>\n",
       "    </tr>\n",
       "    <tr>\n",
       "      <th>363</th>\n",
       "      <td>588</td>\n",
       "      <td>UNIVERSIDADE TECNOLÓGICA FEDERAL DO PARANÁ (UT...</td>\n",
       "      <td>Curitiba</td>\n",
       "      <td>PR</td>\n",
       "      <td>4</td>\n",
       "      <td>4</td>\n",
       "    </tr>\n",
       "    <tr>\n",
       "      <th>364</th>\n",
       "      <td>3835</td>\n",
       "      <td>UNIVERSIDADE VIRTUAL DO ESTADO DO MARANHÃO (UN...</td>\n",
       "      <td>São Luís</td>\n",
       "      <td>MA</td>\n",
       "      <td>-</td>\n",
       "      <td>-</td>\n",
       "    </tr>\n",
       "  </tbody>\n",
       "</table>\n",
       "<p>365 rows × 6 columns</p>\n",
       "</div>"
      ],
      "text/plain": [
       "     Código IES                                   Instituição(IES)  \\\n",
       "0         26777                      ACADEMIA DA FORÇA AÉREA (AFA)   \n",
       "1         26238                ACADEMIA DE BOMBEIROS MILITAR (ABM)   \n",
       "2         25613  ACADEMIA DE POLÍCIA MILITAR DE MINAS GERAIS (APM)   \n",
       "3         24465  ACADEMIA DE POLÍCIA MILITAR DO ESPÍRITO SANTO ...   \n",
       "4         17969  ACADEMIA JUDICIAL DO TRIBUNAL DE JUSTIÇA DE SA...   \n",
       "..          ...                                                ...   \n",
       "360         605  UNIVERSIDADE MUNICIPAL DE SÃO CAETANO DO SUL (...   \n",
       "361          76           UNIVERSIDADE REGIONAL DE BLUMENAU (FURB)   \n",
       "362         746             UNIVERSIDADE REGIONAL DO CARIRI (URCA)   \n",
       "363         588  UNIVERSIDADE TECNOLÓGICA FEDERAL DO PARANÁ (UT...   \n",
       "364        3835  UNIVERSIDADE VIRTUAL DO ESTADO DO MARANHÃO (UN...   \n",
       "\n",
       "              Município   UF CI IGC  \n",
       "0                   NaN  NaN  -   -  \n",
       "1                   NaN  NaN  -   -  \n",
       "2        Belo Horizonte   MG  -   -  \n",
       "3                   NaN  NaN  -   -  \n",
       "4         Florianópolis   SC  5   -  \n",
       "..                  ...  ... ..  ..  \n",
       "360  São Caetano do Sul   SP  -   3  \n",
       "361            Blumenau   SC  -   4  \n",
       "362               Crato   CE  -   3  \n",
       "363            Curitiba   PR  4   4  \n",
       "364            São Luís   MA  -   -  \n",
       "\n",
       "[365 rows x 6 columns]"
      ]
     },
     "execution_count": 58,
     "metadata": {},
     "output_type": "execute_result"
    }
   ],
   "source": [
    "notas_mec"
   ]
  },
  {
   "cell_type": "code",
   "execution_count": 59,
   "metadata": {},
   "outputs": [
    {
     "data": {
      "text/plain": [
       "(365, 6)"
      ]
     },
     "execution_count": 59,
     "metadata": {},
     "output_type": "execute_result"
    }
   ],
   "source": [
    "notas_mec.shape"
   ]
  },
  {
   "cell_type": "code",
   "execution_count": 68,
   "metadata": {},
   "outputs": [
    {
     "data": {
      "text/plain": [
       "(5711, 27)"
      ]
     },
     "execution_count": 68,
     "metadata": {},
     "output_type": "execute_result"
    }
   ],
   "source": [
    "sisu_a1 = sisu_a.merge(notas_mec, how='left', left_on='CO_IES', right_on='Código IES')\n",
    "sisu_a1.shape"
   ]
  },
  {
   "cell_type": "code",
   "execution_count": 69,
   "metadata": {},
   "outputs": [
    {
     "data": {
      "text/plain": [
       "2"
      ]
     },
     "execution_count": 69,
     "metadata": {},
     "output_type": "execute_result"
    }
   ],
   "source": [
    "sum(pd.isna(sisu_a1['Município']))"
   ]
  },
  {
   "cell_type": "code",
   "execution_count": 70,
   "metadata": {},
   "outputs": [
    {
     "data": {
      "text/html": [
       "<div>\n",
       "<style scoped>\n",
       "    .dataframe tbody tr th:only-of-type {\n",
       "        vertical-align: middle;\n",
       "    }\n",
       "\n",
       "    .dataframe tbody tr th {\n",
       "        vertical-align: top;\n",
       "    }\n",
       "\n",
       "    .dataframe thead th {\n",
       "        text-align: right;\n",
       "    }\n",
       "</style>\n",
       "<table border=\"1\" class=\"dataframe\">\n",
       "  <thead>\n",
       "    <tr style=\"text-align: right;\">\n",
       "      <th></th>\n",
       "      <th>NU_ANO</th>\n",
       "      <th>NU_EDICAO</th>\n",
       "      <th>CO_IES</th>\n",
       "      <th>NO_IES</th>\n",
       "      <th>SG_IES</th>\n",
       "      <th>DS_ORGANIZACAO_ACADEMICA</th>\n",
       "      <th>DS_CATEGORIA_ADM</th>\n",
       "      <th>NO_CAMPUS</th>\n",
       "      <th>NO_MUNICIPIO_CAMPUS</th>\n",
       "      <th>SG_UF_CAMPUS</th>\n",
       "      <th>...</th>\n",
       "      <th>NU_PERCENTUAL_BONUS</th>\n",
       "      <th>QT_VAGAS_CONCORRENCIA</th>\n",
       "      <th>NU_NOTACORTE</th>\n",
       "      <th>QT_INSCRICAO</th>\n",
       "      <th>Código IES</th>\n",
       "      <th>Instituição(IES)</th>\n",
       "      <th>Município</th>\n",
       "      <th>UF</th>\n",
       "      <th>CI</th>\n",
       "      <th>IGC</th>\n",
       "    </tr>\n",
       "  </thead>\n",
       "  <tbody>\n",
       "    <tr>\n",
       "      <th>1306</th>\n",
       "      <td>2023</td>\n",
       "      <td>1</td>\n",
       "      <td>3223</td>\n",
       "      <td>ESCOLA SUPERIOR DE CIÊNCIAS DA SAÚDE</td>\n",
       "      <td>ESCS</td>\n",
       "      <td>Faculdade</td>\n",
       "      <td>Pública Estadual</td>\n",
       "      <td>Brasília-Asa Norte</td>\n",
       "      <td>Brasília</td>\n",
       "      <td>DF</td>\n",
       "      <td>...</td>\n",
       "      <td>0</td>\n",
       "      <td>48</td>\n",
       "      <td>784.47</td>\n",
       "      <td>3182.0</td>\n",
       "      <td>NaN</td>\n",
       "      <td>NaN</td>\n",
       "      <td>NaN</td>\n",
       "      <td>NaN</td>\n",
       "      <td>NaN</td>\n",
       "      <td>NaN</td>\n",
       "    </tr>\n",
       "    <tr>\n",
       "      <th>1307</th>\n",
       "      <td>2023</td>\n",
       "      <td>1</td>\n",
       "      <td>3223</td>\n",
       "      <td>ESCOLA SUPERIOR DE CIÊNCIAS DA SAÚDE</td>\n",
       "      <td>ESCS</td>\n",
       "      <td>Faculdade</td>\n",
       "      <td>Pública Estadual</td>\n",
       "      <td>Curso Graduação de Enfermagem</td>\n",
       "      <td>Brasília</td>\n",
       "      <td>DF</td>\n",
       "      <td>...</td>\n",
       "      <td>0</td>\n",
       "      <td>48</td>\n",
       "      <td>706.10</td>\n",
       "      <td>1424.0</td>\n",
       "      <td>NaN</td>\n",
       "      <td>NaN</td>\n",
       "      <td>NaN</td>\n",
       "      <td>NaN</td>\n",
       "      <td>NaN</td>\n",
       "      <td>NaN</td>\n",
       "    </tr>\n",
       "  </tbody>\n",
       "</table>\n",
       "<p>2 rows × 27 columns</p>\n",
       "</div>"
      ],
      "text/plain": [
       "      NU_ANO  NU_EDICAO  CO_IES                                NO_IES SG_IES  \\\n",
       "1306    2023          1    3223  ESCOLA SUPERIOR DE CIÊNCIAS DA SAÚDE   ESCS   \n",
       "1307    2023          1    3223  ESCOLA SUPERIOR DE CIÊNCIAS DA SAÚDE   ESCS   \n",
       "\n",
       "     DS_ORGANIZACAO_ACADEMICA  DS_CATEGORIA_ADM  \\\n",
       "1306               Faculdade   Pública Estadual   \n",
       "1307               Faculdade   Pública Estadual   \n",
       "\n",
       "                          NO_CAMPUS NO_MUNICIPIO_CAMPUS SG_UF_CAMPUS  ...  \\\n",
       "1306             Brasília-Asa Norte            Brasília           DF  ...   \n",
       "1307  Curso Graduação de Enfermagem            Brasília           DF  ...   \n",
       "\n",
       "     NU_PERCENTUAL_BONUS  QT_VAGAS_CONCORRENCIA NU_NOTACORTE QT_INSCRICAO  \\\n",
       "1306                   0                     48       784.47       3182.0   \n",
       "1307                   0                     48       706.10       1424.0   \n",
       "\n",
       "     Código IES Instituição(IES) Município   UF   CI  IGC  \n",
       "1306        NaN              NaN       NaN  NaN  NaN  NaN  \n",
       "1307        NaN              NaN       NaN  NaN  NaN  NaN  \n",
       "\n",
       "[2 rows x 27 columns]"
      ]
     },
     "execution_count": 70,
     "metadata": {},
     "output_type": "execute_result"
    }
   ],
   "source": [
    "sisu_a1[pd.isna(sisu_a1['Município'])]"
   ]
  },
  {
   "cell_type": "code",
   "execution_count": 71,
   "metadata": {},
   "outputs": [
    {
     "data": {
      "text/plain": [
       "(5709, 27)"
      ]
     },
     "execution_count": 71,
     "metadata": {},
     "output_type": "execute_result"
    }
   ],
   "source": [
    "sisu_a1 = sisu_a1[sisu_a1.SG_IES!='ESCS']\n",
    "sisu_a1.shape"
   ]
  },
  {
   "cell_type": "markdown",
   "metadata": {},
   "source": [
    "## 2.1 Usando os Municípios"
   ]
  },
  {
   "cell_type": "markdown",
   "metadata": {},
   "source": [
    "### 2.1.1 População Censo 2022"
   ]
  },
  {
   "cell_type": "code",
   "execution_count": 76,
   "metadata": {},
   "outputs": [],
   "source": [
    "pop_censo = pd.read_excel(\"DADOS/pop_censo_2022.xlsx\",skiprows=2,index=False)\\\n",
    "            .drop([0,5571],axis=0)\\\n",
    "            .drop('Nível',axis=1)\\\n",
    "            .rename(columns={\"Cód.\":\"COD\",\"Município\":\"MUNIC\",\"Ano\":\"POP\"})"
   ]
  },
  {
   "cell_type": "code",
   "execution_count": 77,
   "metadata": {},
   "outputs": [
    {
     "data": {
      "text/plain": [
       "1    Alta Floresta D'Oeste (RO)\n",
       "2                Ariquemes (RO)\n",
       "3                   Cabixi (RO)\n",
       "4                   Cacoal (RO)\n",
       "5               Cerejeiras (RO)\n",
       "Name: MUNIC, dtype: object"
      ]
     },
     "execution_count": 77,
     "metadata": {},
     "output_type": "execute_result"
    }
   ],
   "source": [
    "pop_censo.MUNIC.head()"
   ]
  },
  {
   "cell_type": "code",
   "execution_count": 78,
   "metadata": {},
   "outputs": [
    {
     "data": {
      "text/html": [
       "<div>\n",
       "<style scoped>\n",
       "    .dataframe tbody tr th:only-of-type {\n",
       "        vertical-align: middle;\n",
       "    }\n",
       "\n",
       "    .dataframe tbody tr th {\n",
       "        vertical-align: top;\n",
       "    }\n",
       "\n",
       "    .dataframe thead th {\n",
       "        text-align: right;\n",
       "    }\n",
       "</style>\n",
       "<table border=\"1\" class=\"dataframe\">\n",
       "  <thead>\n",
       "    <tr style=\"text-align: right;\">\n",
       "      <th></th>\n",
       "      <th>MUNIC</th>\n",
       "      <th>UF</th>\n",
       "    </tr>\n",
       "  </thead>\n",
       "  <tbody>\n",
       "    <tr>\n",
       "      <th>1</th>\n",
       "      <td>Alta Floresta D'Oeste</td>\n",
       "      <td>RO</td>\n",
       "    </tr>\n",
       "    <tr>\n",
       "      <th>2</th>\n",
       "      <td>Ariquemes</td>\n",
       "      <td>RO</td>\n",
       "    </tr>\n",
       "    <tr>\n",
       "      <th>3</th>\n",
       "      <td>Cabixi</td>\n",
       "      <td>RO</td>\n",
       "    </tr>\n",
       "    <tr>\n",
       "      <th>4</th>\n",
       "      <td>Cacoal</td>\n",
       "      <td>RO</td>\n",
       "    </tr>\n",
       "    <tr>\n",
       "      <th>5</th>\n",
       "      <td>Cerejeiras</td>\n",
       "      <td>RO</td>\n",
       "    </tr>\n",
       "  </tbody>\n",
       "</table>\n",
       "</div>"
      ],
      "text/plain": [
       "                   MUNIC  UF\n",
       "1  Alta Floresta D'Oeste  RO\n",
       "2              Ariquemes  RO\n",
       "3                 Cabixi  RO\n",
       "4                 Cacoal  RO\n",
       "5             Cerejeiras  RO"
      ]
     },
     "execution_count": 78,
     "metadata": {},
     "output_type": "execute_result"
    }
   ],
   "source": [
    "# Dividir a coluna \"MUNIC\" em duas colunas: \"MUNIC\" e \"UF\"\n",
    "pop_censo[['MUNIC', 'UF']] = pop_censo['MUNIC'].str.extract(r'(.+) \\((.+)\\)')\n",
    "pop_censo[['MUNIC', 'UF']].head()"
   ]
  },
  {
   "cell_type": "code",
   "execution_count": 79,
   "metadata": {},
   "outputs": [],
   "source": [
    "# Remover acentos e caracteres especiais dos nomes dos municípios\n",
    "pop_censo['MUNIC'] = pop_censo['MUNIC'].str.replace(r'[^a-zA-Z\\s]', '', regex=True).apply(lambda x: x.upper())\n",
    "\n",
    "# Alterando Código do Município para STRING\n",
    "pop_censo[\"COD\"] = pop_censo.COD.astype(int).astype(str)"
   ]
  },
  {
   "cell_type": "code",
   "execution_count": 80,
   "metadata": {},
   "outputs": [],
   "source": [
    "sisu_a1[\"MUNIC\"] = sisu_a1['Município'].str.replace(r'[^a-zA-Z\\s]', '', regex=True).apply(lambda x: x.upper())"
   ]
  },
  {
   "cell_type": "code",
   "execution_count": 81,
   "metadata": {},
   "outputs": [
    {
     "data": {
      "text/plain": [
       "(5709, 30)"
      ]
     },
     "execution_count": 81,
     "metadata": {},
     "output_type": "execute_result"
    }
   ],
   "source": [
    "sisu_a2 = sisu_a1.merge(pop_censo, on=[\"MUNIC\",\"UF\"],how=\"left\")\n",
    "sisu_a2.shape"
   ]
  },
  {
   "cell_type": "markdown",
   "metadata": {},
   "source": [
    "### 2.1.2 Hierarquia Urbana"
   ]
  },
  {
   "cell_type": "code",
   "execution_count": 82,
   "metadata": {},
   "outputs": [],
   "source": [
    "regic = pd.read_excel(\"DADOS/REGIC2018_Municipios_Hierarquia_e_regiao.xlsx\",skiprows=0,index=False)\\\n",
    "        [[\"siguf\",\"codmun\",\"Hierarquia 2\",\"Hierarquia 3\",\"Hierarquia - grupo\"]]\n",
    "regic.columns = [\"UF\",\"COD\",\"HIERARQUIA_URBANA\",\"COD_HIERARQUIA_URBANA\",\"GRUPO_HIERARQUIA_URBANA\"]"
   ]
  },
  {
   "cell_type": "code",
   "execution_count": 83,
   "metadata": {},
   "outputs": [],
   "source": [
    "regic[\"COD\"] = regic.COD.astype(str)"
   ]
  },
  {
   "cell_type": "code",
   "execution_count": 84,
   "metadata": {},
   "outputs": [
    {
     "data": {
      "text/plain": [
       "(5709, 34)"
      ]
     },
     "execution_count": 84,
     "metadata": {},
     "output_type": "execute_result"
    }
   ],
   "source": [
    "sisu_a3 = sisu_a2.merge(regic, on=[\"COD\"],how=\"left\")\n",
    "sisu_a3.shape"
   ]
  },
  {
   "cell_type": "markdown",
   "metadata": {},
   "source": [
    "### 2.1.3 Atração"
   ]
  },
  {
   "cell_type": "code",
   "execution_count": 85,
   "metadata": {},
   "outputs": [],
   "source": [
    "atracao = pd.read_excel(\"DADOS/REGIC2018_Quest_Atracao_Municipios.xlsx\",skiprows=0,index=False)\\\n",
    "        [[\"CODMUN\",\"IA\",\"IA_Q5\"]]\\\n",
    "        .rename(columns={\"CODMUN\":\"COD\"})"
   ]
  },
  {
   "cell_type": "code",
   "execution_count": 86,
   "metadata": {},
   "outputs": [],
   "source": [
    "atracao[\"COD\"] = atracao.COD.astype(str)"
   ]
  },
  {
   "cell_type": "code",
   "execution_count": 87,
   "metadata": {},
   "outputs": [
    {
     "data": {
      "text/plain": [
       "(5709, 36)"
      ]
     },
     "execution_count": 87,
     "metadata": {},
     "output_type": "execute_result"
    }
   ],
   "source": [
    "sisu_a4 = sisu_a3.merge(atracao, on=[\"COD\"],how=\"left\")\n",
    "sisu_a4.shape"
   ]
  },
  {
   "cell_type": "code",
   "execution_count": 88,
   "metadata": {},
   "outputs": [],
   "source": [
    "sisu_a4.to_csv(\"sisu_trabalhado.csv\", index=False)"
   ]
  }
 ],
 "metadata": {
  "kernelspec": {
   "display_name": "Python 3",
   "language": "python",
   "name": "python3"
  },
  "language_info": {
   "codemirror_mode": {
    "name": "ipython",
    "version": 3
   },
   "file_extension": ".py",
   "mimetype": "text/x-python",
   "name": "python",
   "nbconvert_exporter": "python",
   "pygments_lexer": "ipython3",
   "version": "3.7.6"
  }
 },
 "nbformat": 4,
 "nbformat_minor": 4
}
