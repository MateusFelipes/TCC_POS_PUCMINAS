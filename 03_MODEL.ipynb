{
 "cells": [
  {
   "cell_type": "code",
   "execution_count": 43,
   "metadata": {},
   "outputs": [],
   "source": [
    "import warnings\n",
    "import pandas as pd\n",
    "import numpy as np\n",
    "import matplotlib.pyplot as plt\n",
    "import seaborn as sns\n",
    "from sklearn.preprocessing import StandardScaler, OneHotEncoder, OrdinalEncoder\n",
    "from sklearn.linear_model import LinearRegression, Ridge\n",
    "from sklearn.tree import DecisionTreeRegressor\n",
    "from sklearn.svm import SVR\n",
    "from sklearn.metrics import mean_squared_error, mean_absolute_error, r2_score\n",
    "from sklearn.model_selection import cross_val_score, KFold\n",
    "from sklearn.model_selection import train_test_split, cross_val_score, KFold, GridSearchCV\n",
    "from sklearn.inspection import permutation_importance\n",
    "import optuna"
   ]
  },
  {
   "cell_type": "code",
   "execution_count": 3,
   "metadata": {},
   "outputs": [
    {
     "data": {
      "text/plain": [
       "(5709, 20)"
      ]
     },
     "execution_count": 3,
     "metadata": {},
     "output_type": "execute_result"
    }
   ],
   "source": [
    "sisu.shape"
   ]
  },
  {
   "cell_type": "code",
   "execution_count": 4,
   "metadata": {},
   "outputs": [
    {
     "data": {
      "text/html": [
       "<div>\n",
       "<style scoped>\n",
       "    .dataframe tbody tr th:only-of-type {\n",
       "        vertical-align: middle;\n",
       "    }\n",
       "\n",
       "    .dataframe tbody tr th {\n",
       "        vertical-align: top;\n",
       "    }\n",
       "\n",
       "    .dataframe thead th {\n",
       "        text-align: right;\n",
       "    }\n",
       "</style>\n",
       "<table border=\"1\" class=\"dataframe\">\n",
       "  <thead>\n",
       "    <tr style=\"text-align: right;\">\n",
       "      <th></th>\n",
       "      <th>SG_IES</th>\n",
       "      <th>DS_CATEGORIA_ADM</th>\n",
       "      <th>SG_UF_CAMPUS</th>\n",
       "      <th>DS_REGIAO_CAMPUS</th>\n",
       "      <th>NO_MUNICIPIO_CAMPUS</th>\n",
       "      <th>NO_CURSO</th>\n",
       "      <th>DS_GRAU</th>\n",
       "      <th>DS_TURNO</th>\n",
       "      <th>QT_VAGAS_CONCORRENCIA</th>\n",
       "      <th>QT_INSCRICAO</th>\n",
       "    </tr>\n",
       "  </thead>\n",
       "  <tbody>\n",
       "    <tr>\n",
       "      <th>0</th>\n",
       "      <td>UFPE</td>\n",
       "      <td>Pública Federal</td>\n",
       "      <td>PE</td>\n",
       "      <td>Nordeste</td>\n",
       "      <td>Caruaru</td>\n",
       "      <td>QUÍMICA</td>\n",
       "      <td>Licenciatura</td>\n",
       "      <td>Noturno</td>\n",
       "      <td>40</td>\n",
       "      <td>28.0</td>\n",
       "    </tr>\n",
       "    <tr>\n",
       "      <th>1</th>\n",
       "      <td>UFPE</td>\n",
       "      <td>Pública Federal</td>\n",
       "      <td>PE</td>\n",
       "      <td>Nordeste</td>\n",
       "      <td>Caruaru</td>\n",
       "      <td>MEDICINA</td>\n",
       "      <td>Bacharelado</td>\n",
       "      <td>Integral</td>\n",
       "      <td>40</td>\n",
       "      <td>221.0</td>\n",
       "    </tr>\n",
       "    <tr>\n",
       "      <th>2</th>\n",
       "      <td>UFPE</td>\n",
       "      <td>Pública Federal</td>\n",
       "      <td>PE</td>\n",
       "      <td>Nordeste</td>\n",
       "      <td>Caruaru</td>\n",
       "      <td>PEDAGOGIA</td>\n",
       "      <td>Licenciatura</td>\n",
       "      <td>Noturno</td>\n",
       "      <td>40</td>\n",
       "      <td>150.0</td>\n",
       "    </tr>\n",
       "    <tr>\n",
       "      <th>3</th>\n",
       "      <td>UFPE</td>\n",
       "      <td>Pública Federal</td>\n",
       "      <td>PE</td>\n",
       "      <td>Nordeste</td>\n",
       "      <td>Caruaru</td>\n",
       "      <td>COMUNICAÇÃO SOCIAL</td>\n",
       "      <td>Bacharelado</td>\n",
       "      <td>Integral</td>\n",
       "      <td>20</td>\n",
       "      <td>37.0</td>\n",
       "    </tr>\n",
       "    <tr>\n",
       "      <th>4</th>\n",
       "      <td>UFPE</td>\n",
       "      <td>Pública Federal</td>\n",
       "      <td>PE</td>\n",
       "      <td>Nordeste</td>\n",
       "      <td>Caruaru</td>\n",
       "      <td>ENGENHARIA DE PRODUÇÃO</td>\n",
       "      <td>Bacharelado</td>\n",
       "      <td>Integral</td>\n",
       "      <td>40</td>\n",
       "      <td>21.0</td>\n",
       "    </tr>\n",
       "  </tbody>\n",
       "</table>\n",
       "</div>"
      ],
      "text/plain": [
       "  SG_IES DS_CATEGORIA_ADM SG_UF_CAMPUS DS_REGIAO_CAMPUS NO_MUNICIPIO_CAMPUS  \\\n",
       "0   UFPE  Pública Federal           PE         Nordeste             Caruaru   \n",
       "1   UFPE  Pública Federal           PE         Nordeste             Caruaru   \n",
       "2   UFPE  Pública Federal           PE         Nordeste             Caruaru   \n",
       "3   UFPE  Pública Federal           PE         Nordeste             Caruaru   \n",
       "4   UFPE  Pública Federal           PE         Nordeste             Caruaru   \n",
       "\n",
       "                 NO_CURSO       DS_GRAU  DS_TURNO  QT_VAGAS_CONCORRENCIA  \\\n",
       "0                 QUÍMICA  Licenciatura   Noturno                     40   \n",
       "1                MEDICINA   Bacharelado  Integral                     40   \n",
       "2               PEDAGOGIA  Licenciatura   Noturno                     40   \n",
       "3      COMUNICAÇÃO SOCIAL   Bacharelado  Integral                     20   \n",
       "4  ENGENHARIA DE PRODUÇÃO   Bacharelado  Integral                     40   \n",
       "\n",
       "   QT_INSCRICAO  \n",
       "0          28.0  \n",
       "1         221.0  \n",
       "2         150.0  \n",
       "3          37.0  \n",
       "4          21.0  "
      ]
     },
     "execution_count": 4,
     "metadata": {},
     "output_type": "execute_result"
    }
   ],
   "source": [
    "sisu.iloc[:,0:10].head()"
   ]
  },
  {
   "cell_type": "code",
   "execution_count": 5,
   "metadata": {},
   "outputs": [
    {
     "data": {
      "text/html": [
       "<div>\n",
       "<style scoped>\n",
       "    .dataframe tbody tr th:only-of-type {\n",
       "        vertical-align: middle;\n",
       "    }\n",
       "\n",
       "    .dataframe tbody tr th {\n",
       "        vertical-align: top;\n",
       "    }\n",
       "\n",
       "    .dataframe thead th {\n",
       "        text-align: right;\n",
       "    }\n",
       "</style>\n",
       "<table border=\"1\" class=\"dataframe\">\n",
       "  <thead>\n",
       "    <tr style=\"text-align: right;\">\n",
       "      <th></th>\n",
       "      <th>CI</th>\n",
       "      <th>IGC</th>\n",
       "      <th>POP</th>\n",
       "      <th>HIERARQUIA_URBANA</th>\n",
       "      <th>COD_HIERARQUIA_URBANA</th>\n",
       "      <th>GRUPO_HIERARQUIA_URBANA</th>\n",
       "      <th>IA</th>\n",
       "      <th>IA_Q5</th>\n",
       "      <th>NU_NOTACORTE</th>\n",
       "      <th>curso_smoothed</th>\n",
       "    </tr>\n",
       "  </thead>\n",
       "  <tbody>\n",
       "    <tr>\n",
       "      <th>0</th>\n",
       "      <td>5</td>\n",
       "      <td>4</td>\n",
       "      <td>1488920.0</td>\n",
       "      <td>Metrópole - Integrante de Arranjo Populacional</td>\n",
       "      <td>1C - Integrante de Arranjo Populacional</td>\n",
       "      <td>1</td>\n",
       "      <td>3.002146e+06</td>\n",
       "      <td>2294139.05</td>\n",
       "      <td>625.85</td>\n",
       "      <td>604.450564</td>\n",
       "    </tr>\n",
       "    <tr>\n",
       "      <th>1</th>\n",
       "      <td>5</td>\n",
       "      <td>4</td>\n",
       "      <td>1488920.0</td>\n",
       "      <td>Metrópole - Integrante de Arranjo Populacional</td>\n",
       "      <td>1C - Integrante de Arranjo Populacional</td>\n",
       "      <td>1</td>\n",
       "      <td>3.002146e+06</td>\n",
       "      <td>2294139.05</td>\n",
       "      <td>854.48</td>\n",
       "      <td>747.350892</td>\n",
       "    </tr>\n",
       "    <tr>\n",
       "      <th>2</th>\n",
       "      <td>5</td>\n",
       "      <td>4</td>\n",
       "      <td>1488920.0</td>\n",
       "      <td>Metrópole - Integrante de Arranjo Populacional</td>\n",
       "      <td>1C - Integrante de Arranjo Populacional</td>\n",
       "      <td>1</td>\n",
       "      <td>3.002146e+06</td>\n",
       "      <td>2294139.05</td>\n",
       "      <td>652.25</td>\n",
       "      <td>606.180478</td>\n",
       "    </tr>\n",
       "    <tr>\n",
       "      <th>3</th>\n",
       "      <td>5</td>\n",
       "      <td>4</td>\n",
       "      <td>1488920.0</td>\n",
       "      <td>Metrópole - Integrante de Arranjo Populacional</td>\n",
       "      <td>1C - Integrante de Arranjo Populacional</td>\n",
       "      <td>1</td>\n",
       "      <td>3.002146e+06</td>\n",
       "      <td>2294139.05</td>\n",
       "      <td>715.56</td>\n",
       "      <td>645.970918</td>\n",
       "    </tr>\n",
       "    <tr>\n",
       "      <th>4</th>\n",
       "      <td>5</td>\n",
       "      <td>4</td>\n",
       "      <td>1488920.0</td>\n",
       "      <td>Metrópole - Integrante de Arranjo Populacional</td>\n",
       "      <td>1C - Integrante de Arranjo Populacional</td>\n",
       "      <td>1</td>\n",
       "      <td>3.002146e+06</td>\n",
       "      <td>2294139.05</td>\n",
       "      <td>671.32</td>\n",
       "      <td>657.030919</td>\n",
       "    </tr>\n",
       "  </tbody>\n",
       "</table>\n",
       "</div>"
      ],
      "text/plain": [
       "   CI  IGC        POP                               HIERARQUIA_URBANA  \\\n",
       "0   5    4  1488920.0  Metrópole - Integrante de Arranjo Populacional   \n",
       "1   5    4  1488920.0  Metrópole - Integrante de Arranjo Populacional   \n",
       "2   5    4  1488920.0  Metrópole - Integrante de Arranjo Populacional   \n",
       "3   5    4  1488920.0  Metrópole - Integrante de Arranjo Populacional   \n",
       "4   5    4  1488920.0  Metrópole - Integrante de Arranjo Populacional   \n",
       "\n",
       "                     COD_HIERARQUIA_URBANA  GRUPO_HIERARQUIA_URBANA  \\\n",
       "0  1C - Integrante de Arranjo Populacional                        1   \n",
       "1  1C - Integrante de Arranjo Populacional                        1   \n",
       "2  1C - Integrante de Arranjo Populacional                        1   \n",
       "3  1C - Integrante de Arranjo Populacional                        1   \n",
       "4  1C - Integrante de Arranjo Populacional                        1   \n",
       "\n",
       "             IA       IA_Q5  NU_NOTACORTE  curso_smoothed  \n",
       "0  3.002146e+06  2294139.05        625.85      604.450564  \n",
       "1  3.002146e+06  2294139.05        854.48      747.350892  \n",
       "2  3.002146e+06  2294139.05        652.25      606.180478  \n",
       "3  3.002146e+06  2294139.05        715.56      645.970918  \n",
       "4  3.002146e+06  2294139.05        671.32      657.030919  "
      ]
     },
     "execution_count": 5,
     "metadata": {},
     "output_type": "execute_result"
    }
   ],
   "source": [
    "sisu.iloc[:,10:20].head()"
   ]
  },
  {
   "cell_type": "code",
   "execution_count": 2,
   "metadata": {},
   "outputs": [],
   "source": [
    "sisu = pd.read_csv('sisu_trabalhado2.csv')"
   ]
  },
  {
   "cell_type": "code",
   "execution_count": 6,
   "metadata": {},
   "outputs": [
    {
     "data": {
      "text/plain": [
       "Index(['SG_IES', 'DS_CATEGORIA_ADM', 'SG_UF_CAMPUS', 'DS_REGIAO_CAMPUS',\n",
       "       'NO_MUNICIPIO_CAMPUS', 'NO_CURSO', 'DS_GRAU', 'DS_TURNO',\n",
       "       'QT_VAGAS_CONCORRENCIA', 'QT_INSCRICAO', 'CI', 'IGC', 'POP',\n",
       "       'HIERARQUIA_URBANA', 'COD_HIERARQUIA_URBANA', 'GRUPO_HIERARQUIA_URBANA',\n",
       "       'IA', 'IA_Q5', 'NU_NOTACORTE', 'curso_smoothed'],\n",
       "      dtype='object')"
      ]
     },
     "execution_count": 6,
     "metadata": {},
     "output_type": "execute_result"
    }
   ],
   "source": [
    "sisu.columns"
   ]
  },
  {
   "cell_type": "code",
   "execution_count": 7,
   "metadata": {},
   "outputs": [],
   "source": [
    "df = sisu[[\"DS_CATEGORIA_ADM\",\"DS_REGIAO_CAMPUS\",\"DS_GRAU\",\"DS_TURNO\",\"QT_VAGAS_CONCORRENCIA\",\n",
    "     \"QT_INSCRICAO\",\"POP\",\"GRUPO_HIERARQUIA_URBANA\",\"IA_Q5\",\"CI\",\"IGC\",\"curso_smoothed\",\"NU_NOTACORTE\"]].copy()"
   ]
  },
  {
   "cell_type": "markdown",
   "metadata": {},
   "source": [
    "# Tratando atributos para modelo"
   ]
  },
  {
   "cell_type": "code",
   "execution_count": 12,
   "metadata": {},
   "outputs": [],
   "source": [
    "df.CI = df.CI.apply(lambda x: str(x))\n",
    "df.IGC = df.IGC.apply(lambda x: str(x))"
   ]
  },
  {
   "cell_type": "code",
   "execution_count": 8,
   "metadata": {},
   "outputs": [
    {
     "data": {
      "text/plain": [
       "Pública Federal      4468\n",
       "Pública Estadual     1240\n",
       "Pública Municipal       1\n",
       "Name: DS_CATEGORIA_ADM, dtype: int64"
      ]
     },
     "execution_count": 8,
     "metadata": {},
     "output_type": "execute_result"
    }
   ],
   "source": [
    "df.DS_CATEGORIA_ADM.value_counts()"
   ]
  },
  {
   "cell_type": "code",
   "execution_count": 9,
   "metadata": {},
   "outputs": [],
   "source": [
    "df.DS_CATEGORIA_ADM = df.DS_CATEGORIA_ADM.apply(lambda x: 1 if x==\"Pública Federal\" else 0)"
   ]
  },
  {
   "cell_type": "code",
   "execution_count": 10,
   "metadata": {
    "scrolled": true
   },
   "outputs": [
    {
     "data": {
      "text/plain": [
       "1    4468\n",
       "0    1241\n",
       "Name: DS_CATEGORIA_ADM, dtype: int64"
      ]
     },
     "execution_count": 10,
     "metadata": {},
     "output_type": "execute_result"
    }
   ],
   "source": [
    "df.DS_CATEGORIA_ADM.value_counts()"
   ]
  },
  {
   "cell_type": "code",
   "execution_count": 27,
   "metadata": {},
   "outputs": [],
   "source": [
    "# 1. Definir as colunas numéricas, categóricas e ordinais\n",
    "numeric_features = ['QT_VAGAS_CONCORRENCIA','QT_INSCRICAO','POP','IA_Q5','curso_smoothed']\n",
    "categorical_features = ['DS_CATEGORIA_ADM','DS_REGIAO_CAMPUS','DS_GRAU','DS_TURNO','GRUPO_HIERARQUIA_URBANA']\n",
    "ordinal_features = ['CI','IGC']"
   ]
  },
  {
   "cell_type": "code",
   "execution_count": 29,
   "metadata": {},
   "outputs": [],
   "source": [
    "df2 = df.copy()"
   ]
  },
  {
   "cell_type": "code",
   "execution_count": 30,
   "metadata": {},
   "outputs": [],
   "source": [
    "# 2. Definir a ordem das categorias ordinais\n",
    "ordinal_categories = [['2', '3', '4', '5'], ['3', '4', '5']]"
   ]
  },
  {
   "cell_type": "code",
   "execution_count": 31,
   "metadata": {},
   "outputs": [],
   "source": [
    "# 3. Aplicar transformações separadamente\n",
    "\n",
    "# Normalizar os dados numéricos\n",
    "scaler = StandardScaler()\n",
    "df2[numeric_features] = scaler.fit_transform(df2[numeric_features])\n",
    "\n",
    "# Codificar variáveis categóricas nominais\n",
    "one_hot = pd.get_dummies(df2[categorical_features])\n",
    "\n",
    "# Codificar variáveis ordinais\n",
    "ordinal = OrdinalEncoder(categories=ordinal_categories)\n",
    "ord_transform = pd.DataFrame(ordinal.fit_transform(df2[ordinal_features]), columns=ordinal_features)\n",
    "\n",
    "# 4. Combinar as transformações\n",
    "df3 = pd.concat([df2[numeric_features], one_hot, ord_transform], axis=1)"
   ]
  },
  {
   "cell_type": "code",
   "execution_count": 32,
   "metadata": {
    "scrolled": true
   },
   "outputs": [
    {
     "data": {
      "text/plain": [
       "Index(['QT_VAGAS_CONCORRENCIA', 'QT_INSCRICAO', 'POP', 'IA_Q5',\n",
       "       'curso_smoothed', 'DS_CATEGORIA_ADM', 'GRUPO_HIERARQUIA_URBANA',\n",
       "       'DS_REGIAO_CAMPUS_Centro_Oeste', 'DS_REGIAO_CAMPUS_Nordeste',\n",
       "       'DS_REGIAO_CAMPUS_Norte', 'DS_REGIAO_CAMPUS_Sudeste',\n",
       "       'DS_REGIAO_CAMPUS_Sul', 'DS_GRAU_Bacharelado', 'DS_GRAU_Licenciatura',\n",
       "       'DS_GRAU_Área Básica de Ingresso (ABI)', 'DS_TURNO_Integral',\n",
       "       'DS_TURNO_Matutino', 'DS_TURNO_Noturno', 'DS_TURNO_Vespertino', 'CI',\n",
       "       'IGC'],\n",
       "      dtype='object')"
      ]
     },
     "execution_count": 32,
     "metadata": {},
     "output_type": "execute_result"
    }
   ],
   "source": [
    "df3.columns"
   ]
  },
  {
   "cell_type": "code",
   "execution_count": 33,
   "metadata": {},
   "outputs": [],
   "source": [
    "# Dividir os dados em conjunto de treino e teste\n",
    "X = df3\n",
    "y = df['NU_NOTACORTE']\n",
    "X_train, X_test, y_train, y_test = train_test_split(X, y, test_size=0.25, random_state=42)"
   ]
  },
  {
   "cell_type": "code",
   "execution_count": 34,
   "metadata": {},
   "outputs": [
    {
     "name": "stdout",
     "output_type": "stream",
     "text": [
      "(4281, 21)\n",
      "(4281,)\n",
      "(1428, 21)\n",
      "(1428,)\n"
     ]
    }
   ],
   "source": [
    "print(X_train.shape)\n",
    "print(y_train.shape)\n",
    "print(X_test.shape)\n",
    "print(y_test.shape)"
   ]
  },
  {
   "cell_type": "code",
   "execution_count": 38,
   "metadata": {},
   "outputs": [],
   "source": [
    "# Função objetivo para Ridge Regression com a métrica MAE\n",
    "def objective_ridge(trial):\n",
    "    alpha = trial.suggest_loguniform('alpha', 1e-6, 100)  # Amostrar o parâmetro alpha\n",
    "    model = Ridge(alpha=alpha)\n",
    "    \n",
    "    # Avaliar o modelo com validação cruzada (k=5) usando MAE\n",
    "    score = cross_val_score(model, X_train, y_train, cv=5, scoring='neg_mean_absolute_error').mean()\n",
    "    \n",
    "    # Retornar o MAE positivo (Optuna minimiza)\n",
    "    return -score\n",
    "\n",
    "# Função objetivo para Support Vector Regression (SVR) com a métrica MAE\n",
    "def objective_svr(trial):\n",
    "    C = trial.suggest_loguniform('C', 1e-6, 100)\n",
    "    epsilon = trial.suggest_uniform('epsilon', 0.001, 0.5)\n",
    "    kernel = trial.suggest_categorical('kernel', ['linear', 'poly', 'rbf'])\n",
    "    \n",
    "    model = SVR(C=C, epsilon=epsilon, kernel=kernel)\n",
    "    \n",
    "    # Avaliar o modelo com validação cruzada (k=5) usando MAE\n",
    "    score = cross_val_score(model, X_train, y_train, cv=5, scoring='neg_mean_absolute_error').mean()\n",
    "    \n",
    "    # Retornar o MAE positivo (Optuna minimiza)\n",
    "    return -score\n",
    "\n",
    "# Função objetivo para Decision Tree Regressor com a métrica MAE\n",
    "def objective_tree(trial):\n",
    "    max_depth = trial.suggest_int('max_depth', 2, 20)\n",
    "    min_samples_split = trial.suggest_int('min_samples_split', 2, 20)\n",
    "    min_samples_leaf = trial.suggest_int('min_samples_leaf', 1, 10)\n",
    "    \n",
    "    model = DecisionTreeRegressor(max_depth=max_depth, min_samples_split=min_samples_split, \n",
    "                                  min_samples_leaf=min_samples_leaf, random_state=42)\n",
    "    \n",
    "    # Avaliar o modelo com validação cruzada (k=5) usando MAE\n",
    "    score = cross_val_score(model, X_train, y_train, cv=5, scoring='neg_mean_absolute_error').mean()\n",
    "    \n",
    "    # Retornar o MAE positivo (Optuna minimiza)\n",
    "    return -score\n"
   ]
  },
  {
   "cell_type": "code",
   "execution_count": 39,
   "metadata": {},
   "outputs": [
    {
     "name": "stderr",
     "output_type": "stream",
     "text": [
      "[I 2024-09-23 22:07:24,666] A new study created in memory with name: no-name-73b8bc94-3515-48de-be95-20418798ded2\n",
      "C:\\Users\\Mateus\\anaconda3\\lib\\site-packages\\ipykernel_launcher.py:14: FutureWarning: suggest_loguniform has been deprecated in v3.0.0. This feature will be removed in v6.0.0. See https://github.com/optuna/optuna/releases/tag/v3.0.0. Use suggest_float(..., log=True) instead.\n",
      "  \n",
      "[I 2024-09-23 22:07:24,697] Trial 0 finished with value: 36.341998126437375 and parameters: {'alpha': 7.32794605863687e-06}. Best is trial 0 with value: 36.341998126437375.\n",
      "C:\\Users\\Mateus\\anaconda3\\lib\\site-packages\\ipykernel_launcher.py:14: FutureWarning: suggest_loguniform has been deprecated in v3.0.0. This feature will be removed in v6.0.0. See https://github.com/optuna/optuna/releases/tag/v3.0.0. Use suggest_float(..., log=True) instead.\n",
      "  \n",
      "[I 2024-09-23 22:07:24,727] Trial 1 finished with value: 36.34199812838602 and parameters: {'alpha': 1.3954373953912716e-05}. Best is trial 0 with value: 36.341998126437375.\n",
      "C:\\Users\\Mateus\\anaconda3\\lib\\site-packages\\ipykernel_launcher.py:14: FutureWarning: suggest_loguniform has been deprecated in v3.0.0. This feature will be removed in v6.0.0. See https://github.com/optuna/optuna/releases/tag/v3.0.0. Use suggest_float(..., log=True) instead.\n",
      "  \n",
      "[I 2024-09-23 22:07:24,754] Trial 2 finished with value: 36.57046805888358 and parameters: {'alpha': 82.80308619892948}. Best is trial 0 with value: 36.341998126437375.\n",
      "C:\\Users\\Mateus\\anaconda3\\lib\\site-packages\\ipykernel_launcher.py:14: FutureWarning: suggest_loguniform has been deprecated in v3.0.0. This feature will be removed in v6.0.0. See https://github.com/optuna/optuna/releases/tag/v3.0.0. Use suggest_float(..., log=True) instead.\n",
      "  \n",
      "[I 2024-09-23 22:07:24,782] Trial 3 finished with value: 36.34388953732499 and parameters: {'alpha': 4.202643704316529}. Best is trial 0 with value: 36.341998126437375.\n",
      "C:\\Users\\Mateus\\anaconda3\\lib\\site-packages\\ipykernel_launcher.py:14: FutureWarning: suggest_loguniform has been deprecated in v3.0.0. This feature will be removed in v6.0.0. See https://github.com/optuna/optuna/releases/tag/v3.0.0. Use suggest_float(..., log=True) instead.\n",
      "  \n",
      "[I 2024-09-23 22:07:24,809] Trial 4 finished with value: 36.34200291314656 and parameters: {'alpha': 0.016287111014827726}. Best is trial 0 with value: 36.341998126437375.\n",
      "C:\\Users\\Mateus\\anaconda3\\lib\\site-packages\\ipykernel_launcher.py:14: FutureWarning: suggest_loguniform has been deprecated in v3.0.0. This feature will be removed in v6.0.0. See https://github.com/optuna/optuna/releases/tag/v3.0.0. Use suggest_float(..., log=True) instead.\n",
      "  \n",
      "[I 2024-09-23 22:07:24,835] Trial 5 finished with value: 36.34199813499153 and parameters: {'alpha': 3.641665671323925e-05}. Best is trial 0 with value: 36.341998126437375.\n",
      "C:\\Users\\Mateus\\anaconda3\\lib\\site-packages\\ipykernel_launcher.py:14: FutureWarning: suggest_loguniform has been deprecated in v3.0.0. This feature will be removed in v6.0.0. See https://github.com/optuna/optuna/releases/tag/v3.0.0. Use suggest_float(..., log=True) instead.\n",
      "  \n",
      "[I 2024-09-23 22:07:24,861] Trial 6 finished with value: 36.498108493208704 and parameters: {'alpha': 62.57351828876628}. Best is trial 0 with value: 36.341998126437375.\n",
      "C:\\Users\\Mateus\\anaconda3\\lib\\site-packages\\ipykernel_launcher.py:14: FutureWarning: suggest_loguniform has been deprecated in v3.0.0. This feature will be removed in v6.0.0. See https://github.com/optuna/optuna/releases/tag/v3.0.0. Use suggest_float(..., log=True) instead.\n",
      "  \n",
      "[I 2024-09-23 22:07:24,885] Trial 7 finished with value: 36.342349312489176 and parameters: {'alpha': 1.0242302937134848}. Best is trial 0 with value: 36.341998126437375.\n",
      "C:\\Users\\Mateus\\anaconda3\\lib\\site-packages\\ipykernel_launcher.py:14: FutureWarning: suggest_loguniform has been deprecated in v3.0.0. This feature will be removed in v6.0.0. See https://github.com/optuna/optuna/releases/tag/v3.0.0. Use suggest_float(..., log=True) instead.\n",
      "  \n",
      "[I 2024-09-23 22:07:24,911] Trial 8 finished with value: 36.342013185208955 and parameters: {'alpha': 0.051238976809737734}. Best is trial 0 with value: 36.341998126437375.\n",
      "C:\\Users\\Mateus\\anaconda3\\lib\\site-packages\\ipykernel_launcher.py:14: FutureWarning: suggest_loguniform has been deprecated in v3.0.0. This feature will be removed in v6.0.0. See https://github.com/optuna/optuna/releases/tag/v3.0.0. Use suggest_float(..., log=True) instead.\n",
      "  \n",
      "[I 2024-09-23 22:07:24,937] Trial 9 finished with value: 36.342150467103764 and parameters: {'alpha': 0.5071048564449695}. Best is trial 0 with value: 36.341998126437375.\n",
      "C:\\Users\\Mateus\\anaconda3\\lib\\site-packages\\ipykernel_launcher.py:14: FutureWarning: suggest_loguniform has been deprecated in v3.0.0. This feature will be removed in v6.0.0. See https://github.com/optuna/optuna/releases/tag/v3.0.0. Use suggest_float(..., log=True) instead.\n",
      "  \n",
      "[I 2024-09-23 22:07:24,967] Trial 10 finished with value: 36.34199812463818 and parameters: {'alpha': 1.2097030158063943e-06}. Best is trial 10 with value: 36.34199812463818.\n",
      "C:\\Users\\Mateus\\anaconda3\\lib\\site-packages\\ipykernel_launcher.py:14: FutureWarning: suggest_loguniform has been deprecated in v3.0.0. This feature will be removed in v6.0.0. See https://github.com/optuna/optuna/releases/tag/v3.0.0. Use suggest_float(..., log=True) instead.\n",
      "  \n",
      "[I 2024-09-23 22:07:24,998] Trial 11 finished with value: 36.34199812476162 and parameters: {'alpha': 1.6294810717712248e-06}. Best is trial 10 with value: 36.34199812463818.\n",
      "C:\\Users\\Mateus\\anaconda3\\lib\\site-packages\\ipykernel_launcher.py:14: FutureWarning: suggest_loguniform has been deprecated in v3.0.0. This feature will be removed in v6.0.0. See https://github.com/optuna/optuna/releases/tag/v3.0.0. Use suggest_float(..., log=True) instead.\n",
      "  \n",
      "[I 2024-09-23 22:07:25,029] Trial 12 finished with value: 36.341998207040675 and parameters: {'alpha': 0.0002814232438492853}. Best is trial 10 with value: 36.34199812463818.\n",
      "C:\\Users\\Mateus\\anaconda3\\lib\\site-packages\\ipykernel_launcher.py:14: FutureWarning: suggest_loguniform has been deprecated in v3.0.0. This feature will be removed in v6.0.0. See https://github.com/optuna/optuna/releases/tag/v3.0.0. Use suggest_float(..., log=True) instead.\n",
      "  \n",
      "[I 2024-09-23 22:07:25,059] Trial 13 finished with value: 36.34199833382887 and parameters: {'alpha': 0.0007125751378906852}. Best is trial 10 with value: 36.34199812463818.\n",
      "C:\\Users\\Mateus\\anaconda3\\lib\\site-packages\\ipykernel_launcher.py:14: FutureWarning: suggest_loguniform has been deprecated in v3.0.0. This feature will be removed in v6.0.0. See https://github.com/optuna/optuna/releases/tag/v3.0.0. Use suggest_float(..., log=True) instead.\n",
      "  \n",
      "[I 2024-09-23 22:07:25,098] Trial 14 finished with value: 36.341998125557964 and parameters: {'alpha': 4.337493941239525e-06}. Best is trial 10 with value: 36.34199812463818.\n",
      "C:\\Users\\Mateus\\anaconda3\\lib\\site-packages\\ipykernel_launcher.py:14: FutureWarning: suggest_loguniform has been deprecated in v3.0.0. This feature will be removed in v6.0.0. See https://github.com/optuna/optuna/releases/tag/v3.0.0. Use suggest_float(..., log=True) instead.\n",
      "  \n",
      "[I 2024-09-23 22:07:25,129] Trial 15 finished with value: 36.341998124664215 and parameters: {'alpha': 1.2982182666498764e-06}. Best is trial 10 with value: 36.34199812463818.\n",
      "C:\\Users\\Mateus\\anaconda3\\lib\\site-packages\\ipykernel_launcher.py:14: FutureWarning: suggest_loguniform has been deprecated in v3.0.0. This feature will be removed in v6.0.0. See https://github.com/optuna/optuna/releases/tag/v3.0.0. Use suggest_float(..., log=True) instead.\n",
      "  \n",
      "[I 2024-09-23 22:07:25,175] Trial 16 finished with value: 36.34199820088818 and parameters: {'alpha': 0.00026050132293941756}. Best is trial 10 with value: 36.34199812463818.\n",
      "C:\\Users\\Mateus\\anaconda3\\lib\\site-packages\\ipykernel_launcher.py:14: FutureWarning: suggest_loguniform has been deprecated in v3.0.0. This feature will be removed in v6.0.0. See https://github.com/optuna/optuna/releases/tag/v3.0.0. Use suggest_float(..., log=True) instead.\n",
      "  \n",
      "[I 2024-09-23 22:07:25,223] Trial 17 finished with value: 36.341998908652116 and parameters: {'alpha': 0.002667342963536115}. Best is trial 10 with value: 36.34199812463818.\n"
     ]
    },
    {
     "name": "stderr",
     "output_type": "stream",
     "text": [
      "C:\\Users\\Mateus\\anaconda3\\lib\\site-packages\\ipykernel_launcher.py:14: FutureWarning: suggest_loguniform has been deprecated in v3.0.0. This feature will be removed in v6.0.0. See https://github.com/optuna/optuna/releases/tag/v3.0.0. Use suggest_float(..., log=True) instead.\n",
      "  \n",
      "[I 2024-09-23 22:07:25,260] Trial 18 finished with value: 36.341998124581096 and parameters: {'alpha': 1.0155858136457292e-06}. Best is trial 18 with value: 36.341998124581096.\n",
      "C:\\Users\\Mateus\\anaconda3\\lib\\site-packages\\ipykernel_launcher.py:14: FutureWarning: suggest_loguniform has been deprecated in v3.0.0. This feature will be removed in v6.0.0. See https://github.com/optuna/optuna/releases/tag/v3.0.0. Use suggest_float(..., log=True) instead.\n",
      "  \n",
      "[I 2024-09-23 22:07:25,302] Trial 19 finished with value: 36.34199814064233 and parameters: {'alpha': 5.563244109440996e-05}. Best is trial 18 with value: 36.341998124581096.\n",
      "C:\\Users\\Mateus\\anaconda3\\lib\\site-packages\\ipykernel_launcher.py:14: FutureWarning: suggest_loguniform has been deprecated in v3.0.0. This feature will be removed in v6.0.0. See https://github.com/optuna/optuna/releases/tag/v3.0.0. Use suggest_float(..., log=True) instead.\n",
      "  \n",
      "[I 2024-09-23 22:07:25,351] Trial 20 finished with value: 36.34199813947235 and parameters: {'alpha': 5.1653878889907875e-05}. Best is trial 18 with value: 36.341998124581096.\n",
      "C:\\Users\\Mateus\\anaconda3\\lib\\site-packages\\ipykernel_launcher.py:14: FutureWarning: suggest_loguniform has been deprecated in v3.0.0. This feature will be removed in v6.0.0. See https://github.com/optuna/optuna/releases/tag/v3.0.0. Use suggest_float(..., log=True) instead.\n",
      "  \n",
      "[I 2024-09-23 22:07:25,382] Trial 21 finished with value: 36.34199812465855 and parameters: {'alpha': 1.2789762488535392e-06}. Best is trial 18 with value: 36.341998124581096.\n",
      "C:\\Users\\Mateus\\anaconda3\\lib\\site-packages\\ipykernel_launcher.py:14: FutureWarning: suggest_loguniform has been deprecated in v3.0.0. This feature will be removed in v6.0.0. See https://github.com/optuna/optuna/releases/tag/v3.0.0. Use suggest_float(..., log=True) instead.\n",
      "  \n",
      "[I 2024-09-23 22:07:25,412] Trial 22 finished with value: 36.34199812485698 and parameters: {'alpha': 1.9537528841786698e-06}. Best is trial 18 with value: 36.341998124581096.\n",
      "C:\\Users\\Mateus\\anaconda3\\lib\\site-packages\\ipykernel_launcher.py:14: FutureWarning: suggest_loguniform has been deprecated in v3.0.0. This feature will be removed in v6.0.0. See https://github.com/optuna/optuna/releases/tag/v3.0.0. Use suggest_float(..., log=True) instead.\n",
      "  \n",
      "[I 2024-09-23 22:07:25,442] Trial 23 finished with value: 36.341998124581686 and parameters: {'alpha': 1.0175744814055732e-06}. Best is trial 18 with value: 36.341998124581096.\n",
      "C:\\Users\\Mateus\\anaconda3\\lib\\site-packages\\ipykernel_launcher.py:14: FutureWarning: suggest_loguniform has been deprecated in v3.0.0. This feature will be removed in v6.0.0. See https://github.com/optuna/optuna/releases/tag/v3.0.0. Use suggest_float(..., log=True) instead.\n",
      "  \n",
      "[I 2024-09-23 22:07:25,477] Trial 24 finished with value: 36.34199812812419 and parameters: {'alpha': 1.3064017784563771e-05}. Best is trial 18 with value: 36.341998124581096.\n",
      "C:\\Users\\Mateus\\anaconda3\\lib\\site-packages\\ipykernel_launcher.py:14: FutureWarning: suggest_loguniform has been deprecated in v3.0.0. This feature will be removed in v6.0.0. See https://github.com/optuna/optuna/releases/tag/v3.0.0. Use suggest_float(..., log=True) instead.\n",
      "  \n",
      "[I 2024-09-23 22:07:25,507] Trial 25 finished with value: 36.34199812746542 and parameters: {'alpha': 1.0823853664057569e-05}. Best is trial 18 with value: 36.341998124581096.\n",
      "C:\\Users\\Mateus\\anaconda3\\lib\\site-packages\\ipykernel_launcher.py:14: FutureWarning: suggest_loguniform has been deprecated in v3.0.0. This feature will be removed in v6.0.0. See https://github.com/optuna/optuna/releases/tag/v3.0.0. Use suggest_float(..., log=True) instead.\n",
      "  \n",
      "[I 2024-09-23 22:07:25,536] Trial 26 finished with value: 36.341998159100754 and parameters: {'alpha': 0.00011840108207487154}. Best is trial 18 with value: 36.341998124581096.\n",
      "C:\\Users\\Mateus\\anaconda3\\lib\\site-packages\\ipykernel_launcher.py:14: FutureWarning: suggest_loguniform has been deprecated in v3.0.0. This feature will be removed in v6.0.0. See https://github.com/optuna/optuna/releases/tag/v3.0.0. Use suggest_float(..., log=True) instead.\n",
      "  \n",
      "[I 2024-09-23 22:07:25,569] Trial 27 finished with value: 36.34199848097559 and parameters: {'alpha': 0.0012129618176900392}. Best is trial 18 with value: 36.341998124581096.\n",
      "C:\\Users\\Mateus\\anaconda3\\lib\\site-packages\\ipykernel_launcher.py:14: FutureWarning: suggest_loguniform has been deprecated in v3.0.0. This feature will be removed in v6.0.0. See https://github.com/optuna/optuna/releases/tag/v3.0.0. Use suggest_float(..., log=True) instead.\n",
      "  \n",
      "[I 2024-09-23 22:07:25,601] Trial 28 finished with value: 36.34199812563447 and parameters: {'alpha': 4.597615532686276e-06}. Best is trial 18 with value: 36.341998124581096.\n",
      "C:\\Users\\Mateus\\anaconda3\\lib\\site-packages\\ipykernel_launcher.py:14: FutureWarning: suggest_loguniform has been deprecated in v3.0.0. This feature will be removed in v6.0.0. See https://github.com/optuna/optuna/releases/tag/v3.0.0. Use suggest_float(..., log=True) instead.\n",
      "  \n",
      "[I 2024-09-23 22:07:25,636] Trial 29 finished with value: 36.341998130046136 and parameters: {'alpha': 1.9599652513280695e-05}. Best is trial 18 with value: 36.341998124581096.\n",
      "C:\\Users\\Mateus\\anaconda3\\lib\\site-packages\\ipykernel_launcher.py:14: FutureWarning: suggest_loguniform has been deprecated in v3.0.0. This feature will be removed in v6.0.0. See https://github.com/optuna/optuna/releases/tag/v3.0.0. Use suggest_float(..., log=True) instead.\n",
      "  \n",
      "[I 2024-09-23 22:07:25,669] Trial 30 finished with value: 36.34199812590104 and parameters: {'alpha': 5.50412882846736e-06}. Best is trial 18 with value: 36.341998124581096.\n",
      "C:\\Users\\Mateus\\anaconda3\\lib\\site-packages\\ipykernel_launcher.py:14: FutureWarning: suggest_loguniform has been deprecated in v3.0.0. This feature will be removed in v6.0.0. See https://github.com/optuna/optuna/releases/tag/v3.0.0. Use suggest_float(..., log=True) instead.\n",
      "  \n",
      "[I 2024-09-23 22:07:25,725] Trial 31 finished with value: 36.34199812457766 and parameters: {'alpha': 1.0038785486465014e-06}. Best is trial 31 with value: 36.34199812457766.\n",
      "C:\\Users\\Mateus\\anaconda3\\lib\\site-packages\\ipykernel_launcher.py:14: FutureWarning: suggest_loguniform has been deprecated in v3.0.0. This feature will be removed in v6.0.0. See https://github.com/optuna/optuna/releases/tag/v3.0.0. Use suggest_float(..., log=True) instead.\n",
      "  \n",
      "[I 2024-09-23 22:07:25,761] Trial 32 finished with value: 36.341998125459654 and parameters: {'alpha': 4.003152124577738e-06}. Best is trial 31 with value: 36.34199812457766.\n",
      "C:\\Users\\Mateus\\anaconda3\\lib\\site-packages\\ipykernel_launcher.py:14: FutureWarning: suggest_loguniform has been deprecated in v3.0.0. This feature will be removed in v6.0.0. See https://github.com/optuna/optuna/releases/tag/v3.0.0. Use suggest_float(..., log=True) instead.\n",
      "  \n",
      "[I 2024-09-23 22:07:25,798] Trial 33 finished with value: 36.34199812876368 and parameters: {'alpha': 1.523863018323472e-05}. Best is trial 31 with value: 36.34199812457766.\n",
      "C:\\Users\\Mateus\\anaconda3\\lib\\site-packages\\ipykernel_launcher.py:14: FutureWarning: suggest_loguniform has been deprecated in v3.0.0. This feature will be removed in v6.0.0. See https://github.com/optuna/optuna/releases/tag/v3.0.0. Use suggest_float(..., log=True) instead.\n",
      "  \n",
      "[I 2024-09-23 22:07:25,834] Trial 34 finished with value: 36.34199812460421 and parameters: {'alpha': 1.0941732723200007e-06}. Best is trial 31 with value: 36.34199812457766.\n",
      "C:\\Users\\Mateus\\anaconda3\\lib\\site-packages\\ipykernel_launcher.py:14: FutureWarning: suggest_loguniform has been deprecated in v3.0.0. This feature will be removed in v6.0.0. See https://github.com/optuna/optuna/releases/tag/v3.0.0. Use suggest_float(..., log=True) instead.\n",
      "  \n",
      "[I 2024-09-23 22:07:25,881] Trial 35 finished with value: 36.34199812458117 and parameters: {'alpha': 1.0158376864208553e-06}. Best is trial 31 with value: 36.34199812457766.\n",
      "C:\\Users\\Mateus\\anaconda3\\lib\\site-packages\\ipykernel_launcher.py:14: FutureWarning: suggest_loguniform has been deprecated in v3.0.0. This feature will be removed in v6.0.0. See https://github.com/optuna/optuna/releases/tag/v3.0.0. Use suggest_float(..., log=True) instead.\n",
      "  \n",
      "[I 2024-09-23 22:07:25,921] Trial 36 finished with value: 36.34199812580964 and parameters: {'alpha': 5.19327173156782e-06}. Best is trial 31 with value: 36.34199812457766.\n"
     ]
    },
    {
     "name": "stderr",
     "output_type": "stream",
     "text": [
      "C:\\Users\\Mateus\\anaconda3\\lib\\site-packages\\ipykernel_launcher.py:14: FutureWarning: suggest_loguniform has been deprecated in v3.0.0. This feature will be removed in v6.0.0. See https://github.com/optuna/optuna/releases/tag/v3.0.0. Use suggest_float(..., log=True) instead.\n",
      "  \n",
      "[I 2024-09-23 22:07:25,957] Trial 37 finished with value: 36.34199813111799 and parameters: {'alpha': 2.3244564130375544e-05}. Best is trial 31 with value: 36.34199812457766.\n",
      "C:\\Users\\Mateus\\anaconda3\\lib\\site-packages\\ipykernel_launcher.py:14: FutureWarning: suggest_loguniform has been deprecated in v3.0.0. This feature will be removed in v6.0.0. See https://github.com/optuna/optuna/releases/tag/v3.0.0. Use suggest_float(..., log=True) instead.\n",
      "  \n",
      "[I 2024-09-23 22:07:26,005] Trial 38 finished with value: 36.341998156593256 and parameters: {'alpha': 0.00010987427488380791}. Best is trial 31 with value: 36.34199812457766.\n",
      "C:\\Users\\Mateus\\anaconda3\\lib\\site-packages\\ipykernel_launcher.py:14: FutureWarning: suggest_loguniform has been deprecated in v3.0.0. This feature will be removed in v6.0.0. See https://github.com/optuna/optuna/releases/tag/v3.0.0. Use suggest_float(..., log=True) instead.\n",
      "  \n",
      "[I 2024-09-23 22:07:26,045] Trial 39 finished with value: 36.34201949686526 and parameters: {'alpha': 0.07272606992145071}. Best is trial 31 with value: 36.34199812457766.\n",
      "C:\\Users\\Mateus\\anaconda3\\lib\\site-packages\\ipykernel_launcher.py:14: FutureWarning: suggest_loguniform has been deprecated in v3.0.0. This feature will be removed in v6.0.0. See https://github.com/optuna/optuna/releases/tag/v3.0.0. Use suggest_float(..., log=True) instead.\n",
      "  \n",
      "[I 2024-09-23 22:07:26,077] Trial 40 finished with value: 36.39908812255972 and parameters: {'alpha': 32.198273109869206}. Best is trial 31 with value: 36.34199812457766.\n",
      "C:\\Users\\Mateus\\anaconda3\\lib\\site-packages\\ipykernel_launcher.py:14: FutureWarning: suggest_loguniform has been deprecated in v3.0.0. This feature will be removed in v6.0.0. See https://github.com/optuna/optuna/releases/tag/v3.0.0. Use suggest_float(..., log=True) instead.\n",
      "  \n",
      "[I 2024-09-23 22:07:26,108] Trial 41 finished with value: 36.34199812517441 and parameters: {'alpha': 3.0331731632783234e-06}. Best is trial 31 with value: 36.34199812457766.\n",
      "C:\\Users\\Mateus\\anaconda3\\lib\\site-packages\\ipykernel_launcher.py:14: FutureWarning: suggest_loguniform has been deprecated in v3.0.0. This feature will be removed in v6.0.0. See https://github.com/optuna/optuna/releases/tag/v3.0.0. Use suggest_float(..., log=True) instead.\n",
      "  \n",
      "[I 2024-09-23 22:07:26,142] Trial 42 finished with value: 36.3419981246225 and parameters: {'alpha': 1.1563729920154153e-06}. Best is trial 31 with value: 36.34199812457766.\n",
      "C:\\Users\\Mateus\\anaconda3\\lib\\site-packages\\ipykernel_launcher.py:14: FutureWarning: suggest_loguniform has been deprecated in v3.0.0. This feature will be removed in v6.0.0. See https://github.com/optuna/optuna/releases/tag/v3.0.0. Use suggest_float(..., log=True) instead.\n",
      "  \n",
      "[I 2024-09-23 22:07:26,174] Trial 43 finished with value: 36.34199812688685 and parameters: {'alpha': 8.856410769568677e-06}. Best is trial 31 with value: 36.34199812457766.\n",
      "C:\\Users\\Mateus\\anaconda3\\lib\\site-packages\\ipykernel_launcher.py:14: FutureWarning: suggest_loguniform has been deprecated in v3.0.0. This feature will be removed in v6.0.0. See https://github.com/optuna/optuna/releases/tag/v3.0.0. Use suggest_float(..., log=True) instead.\n",
      "  \n",
      "[I 2024-09-23 22:07:26,207] Trial 44 finished with value: 36.341998124580556 and parameters: {'alpha': 1.0137628179599063e-06}. Best is trial 31 with value: 36.34199812457766.\n",
      "C:\\Users\\Mateus\\anaconda3\\lib\\site-packages\\ipykernel_launcher.py:14: FutureWarning: suggest_loguniform has been deprecated in v3.0.0. This feature will be removed in v6.0.0. See https://github.com/optuna/optuna/releases/tag/v3.0.0. Use suggest_float(..., log=True) instead.\n",
      "  \n",
      "[I 2024-09-23 22:07:26,237] Trial 45 finished with value: 36.34199812514391 and parameters: {'alpha': 2.929468646066224e-06}. Best is trial 31 with value: 36.34199812457766.\n",
      "C:\\Users\\Mateus\\anaconda3\\lib\\site-packages\\ipykernel_launcher.py:14: FutureWarning: suggest_loguniform has been deprecated in v3.0.0. This feature will be removed in v6.0.0. See https://github.com/optuna/optuna/releases/tag/v3.0.0. Use suggest_float(..., log=True) instead.\n",
      "  \n",
      "[I 2024-09-23 22:07:26,267] Trial 46 finished with value: 36.341998126722864 and parameters: {'alpha': 8.298762725273847e-06}. Best is trial 31 with value: 36.34199812457766.\n",
      "C:\\Users\\Mateus\\anaconda3\\lib\\site-packages\\ipykernel_launcher.py:14: FutureWarning: suggest_loguniform has been deprecated in v3.0.0. This feature will be removed in v6.0.0. See https://github.com/optuna/optuna/releases/tag/v3.0.0. Use suggest_float(..., log=True) instead.\n",
      "  \n",
      "[I 2024-09-23 22:07:26,302] Trial 47 finished with value: 36.34199812515243 and parameters: {'alpha': 2.958428014097399e-06}. Best is trial 31 with value: 36.34199812457766.\n",
      "C:\\Users\\Mateus\\anaconda3\\lib\\site-packages\\ipykernel_launcher.py:14: FutureWarning: suggest_loguniform has been deprecated in v3.0.0. This feature will be removed in v6.0.0. See https://github.com/optuna/optuna/releases/tag/v3.0.0. Use suggest_float(..., log=True) instead.\n",
      "  \n",
      "[I 2024-09-23 22:07:26,335] Trial 48 finished with value: 36.341998134715716 and parameters: {'alpha': 3.5478751669984876e-05}. Best is trial 31 with value: 36.34199812457766.\n",
      "C:\\Users\\Mateus\\anaconda3\\lib\\site-packages\\ipykernel_launcher.py:14: FutureWarning: suggest_loguniform has been deprecated in v3.0.0. This feature will be removed in v6.0.0. See https://github.com/optuna/optuna/releases/tag/v3.0.0. Use suggest_float(..., log=True) instead.\n",
      "  \n",
      "[I 2024-09-23 22:07:26,367] Trial 49 finished with value: 36.3420025666196 and parameters: {'alpha': 0.015108398480472705}. Best is trial 31 with value: 36.34199812457766.\n",
      "[I 2024-09-23 22:07:26,369] A new study created in memory with name: no-name-de763e00-a9c9-483e-907a-13583cf00240\n",
      "C:\\Users\\Mateus\\anaconda3\\lib\\site-packages\\ipykernel_launcher.py:25: FutureWarning: suggest_loguniform has been deprecated in v3.0.0. This feature will be removed in v6.0.0. See https://github.com/optuna/optuna/releases/tag/v3.0.0. Use suggest_float(..., log=True) instead.\n",
      "C:\\Users\\Mateus\\anaconda3\\lib\\site-packages\\ipykernel_launcher.py:26: FutureWarning: suggest_uniform has been deprecated in v3.0.0. This feature will be removed in v6.0.0. See https://github.com/optuna/optuna/releases/tag/v3.0.0. Use suggest_float instead.\n"
     ]
    },
    {
     "name": "stdout",
     "output_type": "stream",
     "text": [
      "Best Ridge Regression parameters:  {'alpha': 1.0038785486465014e-06}\n",
      "Best Ridge Regression MAE score:  36.34199812457766\n"
     ]
    },
    {
     "name": "stderr",
     "output_type": "stream",
     "text": [
      "[I 2024-09-23 22:07:30,171] Trial 0 finished with value: 46.47872836689156 and parameters: {'C': 0.20430081810199188, 'epsilon': 0.12894902611028125, 'kernel': 'rbf'}. Best is trial 0 with value: 46.47872836689156.\n",
      "C:\\Users\\Mateus\\anaconda3\\lib\\site-packages\\ipykernel_launcher.py:25: FutureWarning: suggest_loguniform has been deprecated in v3.0.0. This feature will be removed in v6.0.0. See https://github.com/optuna/optuna/releases/tag/v3.0.0. Use suggest_float(..., log=True) instead.\n",
      "C:\\Users\\Mateus\\anaconda3\\lib\\site-packages\\ipykernel_launcher.py:26: FutureWarning: suggest_uniform has been deprecated in v3.0.0. This feature will be removed in v6.0.0. See https://github.com/optuna/optuna/releases/tag/v3.0.0. Use suggest_float instead.\n",
      "[I 2024-09-23 22:07:33,821] Trial 1 finished with value: 56.94138524760881 and parameters: {'C': 0.00017791849657793066, 'epsilon': 0.31527518282895056, 'kernel': 'rbf'}. Best is trial 0 with value: 46.47872836689156.\n",
      "C:\\Users\\Mateus\\anaconda3\\lib\\site-packages\\ipykernel_launcher.py:25: FutureWarning: suggest_loguniform has been deprecated in v3.0.0. This feature will be removed in v6.0.0. See https://github.com/optuna/optuna/releases/tag/v3.0.0. Use suggest_float(..., log=True) instead.\n",
      "C:\\Users\\Mateus\\anaconda3\\lib\\site-packages\\ipykernel_launcher.py:26: FutureWarning: suggest_uniform has been deprecated in v3.0.0. This feature will be removed in v6.0.0. See https://github.com/optuna/optuna/releases/tag/v3.0.0. Use suggest_float instead.\n",
      "[I 2024-09-23 22:07:36,054] Trial 2 finished with value: 56.931692306248394 and parameters: {'C': 7.568246618228394e-05, 'epsilon': 0.42021822402991965, 'kernel': 'poly'}. Best is trial 0 with value: 46.47872836689156.\n",
      "C:\\Users\\Mateus\\anaconda3\\lib\\site-packages\\ipykernel_launcher.py:25: FutureWarning: suggest_loguniform has been deprecated in v3.0.0. This feature will be removed in v6.0.0. See https://github.com/optuna/optuna/releases/tag/v3.0.0. Use suggest_float(..., log=True) instead.\n",
      "C:\\Users\\Mateus\\anaconda3\\lib\\site-packages\\ipykernel_launcher.py:26: FutureWarning: suggest_uniform has been deprecated in v3.0.0. This feature will be removed in v6.0.0. See https://github.com/optuna/optuna/releases/tag/v3.0.0. Use suggest_float instead.\n",
      "[I 2024-09-23 22:07:38,403] Trial 3 finished with value: 56.95423298794613 and parameters: {'C': 1.038290293646808e-06, 'epsilon': 0.1722977103524555, 'kernel': 'poly'}. Best is trial 0 with value: 46.47872836689156.\n",
      "C:\\Users\\Mateus\\anaconda3\\lib\\site-packages\\ipykernel_launcher.py:25: FutureWarning: suggest_loguniform has been deprecated in v3.0.0. This feature will be removed in v6.0.0. See https://github.com/optuna/optuna/releases/tag/v3.0.0. Use suggest_float(..., log=True) instead.\n",
      "C:\\Users\\Mateus\\anaconda3\\lib\\site-packages\\ipykernel_launcher.py:26: FutureWarning: suggest_uniform has been deprecated in v3.0.0. This feature will be removed in v6.0.0. See https://github.com/optuna/optuna/releases/tag/v3.0.0. Use suggest_float instead.\n",
      "[I 2024-09-23 22:07:41,203] Trial 4 finished with value: 32.24768889250181 and parameters: {'C': 13.072393516656424, 'epsilon': 0.29308541201721877, 'kernel': 'poly'}. Best is trial 4 with value: 32.24768889250181.\n",
      "C:\\Users\\Mateus\\anaconda3\\lib\\site-packages\\ipykernel_launcher.py:25: FutureWarning: suggest_loguniform has been deprecated in v3.0.0. This feature will be removed in v6.0.0. See https://github.com/optuna/optuna/releases/tag/v3.0.0. Use suggest_float(..., log=True) instead.\n",
      "C:\\Users\\Mateus\\anaconda3\\lib\\site-packages\\ipykernel_launcher.py:26: FutureWarning: suggest_uniform has been deprecated in v3.0.0. This feature will be removed in v6.0.0. See https://github.com/optuna/optuna/releases/tag/v3.0.0. Use suggest_float instead.\n",
      "[I 2024-09-23 22:07:43,545] Trial 5 finished with value: 51.00111950203965 and parameters: {'C': 0.031179277494287762, 'epsilon': 0.4328138518294222, 'kernel': 'poly'}. Best is trial 4 with value: 32.24768889250181.\n",
      "C:\\Users\\Mateus\\anaconda3\\lib\\site-packages\\ipykernel_launcher.py:25: FutureWarning: suggest_loguniform has been deprecated in v3.0.0. This feature will be removed in v6.0.0. See https://github.com/optuna/optuna/releases/tag/v3.0.0. Use suggest_float(..., log=True) instead.\n",
      "C:\\Users\\Mateus\\anaconda3\\lib\\site-packages\\ipykernel_launcher.py:26: FutureWarning: suggest_uniform has been deprecated in v3.0.0. This feature will be removed in v6.0.0. See https://github.com/optuna/optuna/releases/tag/v3.0.0. Use suggest_float instead.\n",
      "[I 2024-09-23 22:07:45,792] Trial 6 finished with value: 56.82304311048845 and parameters: {'C': 0.0004248551809765409, 'epsilon': 0.2760480289005974, 'kernel': 'poly'}. Best is trial 4 with value: 32.24768889250181.\n",
      "C:\\Users\\Mateus\\anaconda3\\lib\\site-packages\\ipykernel_launcher.py:25: FutureWarning: suggest_loguniform has been deprecated in v3.0.0. This feature will be removed in v6.0.0. See https://github.com/optuna/optuna/releases/tag/v3.0.0. Use suggest_float(..., log=True) instead.\n",
      "C:\\Users\\Mateus\\anaconda3\\lib\\site-packages\\ipykernel_launcher.py:26: FutureWarning: suggest_uniform has been deprecated in v3.0.0. This feature will be removed in v6.0.0. See https://github.com/optuna/optuna/releases/tag/v3.0.0. Use suggest_float instead.\n",
      "[I 2024-09-23 22:07:48,176] Trial 7 finished with value: 35.913152578405295 and parameters: {'C': 2.026725475182545, 'epsilon': 0.37993442376471, 'kernel': 'poly'}. Best is trial 4 with value: 32.24768889250181.\n",
      "C:\\Users\\Mateus\\anaconda3\\lib\\site-packages\\ipykernel_launcher.py:25: FutureWarning: suggest_loguniform has been deprecated in v3.0.0. This feature will be removed in v6.0.0. See https://github.com/optuna/optuna/releases/tag/v3.0.0. Use suggest_float(..., log=True) instead.\n",
      "C:\\Users\\Mateus\\anaconda3\\lib\\site-packages\\ipykernel_launcher.py:26: FutureWarning: suggest_uniform has been deprecated in v3.0.0. This feature will be removed in v6.0.0. See https://github.com/optuna/optuna/releases/tag/v3.0.0. Use suggest_float instead.\n",
      "[I 2024-09-23 22:07:52,120] Trial 8 finished with value: 28.92977188053098 and parameters: {'C': 59.64005248185402, 'epsilon': 0.23769820141786172, 'kernel': 'rbf'}. Best is trial 8 with value: 28.92977188053098.\n",
      "C:\\Users\\Mateus\\anaconda3\\lib\\site-packages\\ipykernel_launcher.py:25: FutureWarning: suggest_loguniform has been deprecated in v3.0.0. This feature will be removed in v6.0.0. See https://github.com/optuna/optuna/releases/tag/v3.0.0. Use suggest_float(..., log=True) instead.\n",
      "C:\\Users\\Mateus\\anaconda3\\lib\\site-packages\\ipykernel_launcher.py:26: FutureWarning: suggest_uniform has been deprecated in v3.0.0. This feature will be removed in v6.0.0. See https://github.com/optuna/optuna/releases/tag/v3.0.0. Use suggest_float instead.\n",
      "[I 2024-09-23 22:07:55,290] Trial 9 finished with value: 36.00321428621019 and parameters: {'C': 20.054338716652094, 'epsilon': 0.3709239388475821, 'kernel': 'linear'}. Best is trial 8 with value: 28.92977188053098.\n",
      "C:\\Users\\Mateus\\anaconda3\\lib\\site-packages\\ipykernel_launcher.py:25: FutureWarning: suggest_loguniform has been deprecated in v3.0.0. This feature will be removed in v6.0.0. See https://github.com/optuna/optuna/releases/tag/v3.0.0. Use suggest_float(..., log=True) instead.\n",
      "C:\\Users\\Mateus\\anaconda3\\lib\\site-packages\\ipykernel_launcher.py:26: FutureWarning: suggest_uniform has been deprecated in v3.0.0. This feature will be removed in v6.0.0. See https://github.com/optuna/optuna/releases/tag/v3.0.0. Use suggest_float instead.\n",
      "[I 2024-09-23 22:07:59,388] Trial 10 finished with value: 28.406599858372374 and parameters: {'C': 82.46349537667135, 'epsilon': 0.015723145638675273, 'kernel': 'rbf'}. Best is trial 10 with value: 28.406599858372374.\n",
      "C:\\Users\\Mateus\\anaconda3\\lib\\site-packages\\ipykernel_launcher.py:25: FutureWarning: suggest_loguniform has been deprecated in v3.0.0. This feature will be removed in v6.0.0. See https://github.com/optuna/optuna/releases/tag/v3.0.0. Use suggest_float(..., log=True) instead.\n",
      "C:\\Users\\Mateus\\anaconda3\\lib\\site-packages\\ipykernel_launcher.py:26: FutureWarning: suggest_uniform has been deprecated in v3.0.0. This feature will be removed in v6.0.0. See https://github.com/optuna/optuna/releases/tag/v3.0.0. Use suggest_float instead.\n"
     ]
    },
    {
     "name": "stderr",
     "output_type": "stream",
     "text": [
      "[I 2024-09-23 22:08:03,467] Trial 11 finished with value: 28.662661321752317 and parameters: {'C': 70.74490543516049, 'epsilon': 0.007810715931758222, 'kernel': 'rbf'}. Best is trial 10 with value: 28.406599858372374.\n",
      "C:\\Users\\Mateus\\anaconda3\\lib\\site-packages\\ipykernel_launcher.py:25: FutureWarning: suggest_loguniform has been deprecated in v3.0.0. This feature will be removed in v6.0.0. See https://github.com/optuna/optuna/releases/tag/v3.0.0. Use suggest_float(..., log=True) instead.\n",
      "C:\\Users\\Mateus\\anaconda3\\lib\\site-packages\\ipykernel_launcher.py:26: FutureWarning: suggest_uniform has been deprecated in v3.0.0. This feature will be removed in v6.0.0. See https://github.com/optuna/optuna/releases/tag/v3.0.0. Use suggest_float instead.\n",
      "[I 2024-09-23 22:08:07,534] Trial 12 finished with value: 40.2887385870438 and parameters: {'C': 0.5485113233962904, 'epsilon': 0.014258620580271941, 'kernel': 'rbf'}. Best is trial 10 with value: 28.406599858372374.\n",
      "C:\\Users\\Mateus\\anaconda3\\lib\\site-packages\\ipykernel_launcher.py:25: FutureWarning: suggest_loguniform has been deprecated in v3.0.0. This feature will be removed in v6.0.0. See https://github.com/optuna/optuna/releases/tag/v3.0.0. Use suggest_float(..., log=True) instead.\n",
      "C:\\Users\\Mateus\\anaconda3\\lib\\site-packages\\ipykernel_launcher.py:26: FutureWarning: suggest_uniform has been deprecated in v3.0.0. This feature will be removed in v6.0.0. See https://github.com/optuna/optuna/releases/tag/v3.0.0. Use suggest_float instead.\n",
      "[I 2024-09-23 22:08:11,970] Trial 13 finished with value: 28.414777613851708 and parameters: {'C': 82.03949169747975, 'epsilon': 0.00585511472530653, 'kernel': 'rbf'}. Best is trial 10 with value: 28.406599858372374.\n",
      "C:\\Users\\Mateus\\anaconda3\\lib\\site-packages\\ipykernel_launcher.py:25: FutureWarning: suggest_loguniform has been deprecated in v3.0.0. This feature will be removed in v6.0.0. See https://github.com/optuna/optuna/releases/tag/v3.0.0. Use suggest_float(..., log=True) instead.\n",
      "C:\\Users\\Mateus\\anaconda3\\lib\\site-packages\\ipykernel_launcher.py:26: FutureWarning: suggest_uniform has been deprecated in v3.0.0. This feature will be removed in v6.0.0. See https://github.com/optuna/optuna/releases/tag/v3.0.0. Use suggest_float instead.\n",
      "[I 2024-09-23 22:08:14,403] Trial 14 finished with value: 36.00861630586748 and parameters: {'C': 2.254822816934762, 'epsilon': 0.09111562744665133, 'kernel': 'linear'}. Best is trial 10 with value: 28.406599858372374.\n",
      "C:\\Users\\Mateus\\anaconda3\\lib\\site-packages\\ipykernel_launcher.py:25: FutureWarning: suggest_loguniform has been deprecated in v3.0.0. This feature will be removed in v6.0.0. See https://github.com/optuna/optuna/releases/tag/v3.0.0. Use suggest_float(..., log=True) instead.\n",
      "C:\\Users\\Mateus\\anaconda3\\lib\\site-packages\\ipykernel_launcher.py:26: FutureWarning: suggest_uniform has been deprecated in v3.0.0. This feature will be removed in v6.0.0. See https://github.com/optuna/optuna/releases/tag/v3.0.0. Use suggest_float instead.\n",
      "[I 2024-09-23 22:08:18,272] Trial 15 finished with value: 55.08247617297093 and parameters: {'C': 0.02592422993058262, 'epsilon': 0.07256908612037766, 'kernel': 'rbf'}. Best is trial 10 with value: 28.406599858372374.\n",
      "C:\\Users\\Mateus\\anaconda3\\lib\\site-packages\\ipykernel_launcher.py:25: FutureWarning: suggest_loguniform has been deprecated in v3.0.0. This feature will be removed in v6.0.0. See https://github.com/optuna/optuna/releases/tag/v3.0.0. Use suggest_float(..., log=True) instead.\n",
      "C:\\Users\\Mateus\\anaconda3\\lib\\site-packages\\ipykernel_launcher.py:26: FutureWarning: suggest_uniform has been deprecated in v3.0.0. This feature will be removed in v6.0.0. See https://github.com/optuna/optuna/releases/tag/v3.0.0. Use suggest_float instead.\n",
      "[I 2024-09-23 22:08:21,978] Trial 16 finished with value: 56.759764159510745 and parameters: {'C': 0.002622515660735822, 'epsilon': 0.19385157669141725, 'kernel': 'rbf'}. Best is trial 10 with value: 28.406599858372374.\n",
      "C:\\Users\\Mateus\\anaconda3\\lib\\site-packages\\ipykernel_launcher.py:25: FutureWarning: suggest_loguniform has been deprecated in v3.0.0. This feature will be removed in v6.0.0. See https://github.com/optuna/optuna/releases/tag/v3.0.0. Use suggest_float(..., log=True) instead.\n",
      "C:\\Users\\Mateus\\anaconda3\\lib\\site-packages\\ipykernel_launcher.py:26: FutureWarning: suggest_uniform has been deprecated in v3.0.0. This feature will be removed in v6.0.0. See https://github.com/optuna/optuna/releases/tag/v3.0.0. Use suggest_float instead.\n",
      "[I 2024-09-23 22:08:25,751] Trial 17 finished with value: 32.868697078983885 and parameters: {'C': 6.889422720385957, 'epsilon': 0.06438662863651229, 'kernel': 'rbf'}. Best is trial 10 with value: 28.406599858372374.\n",
      "C:\\Users\\Mateus\\anaconda3\\lib\\site-packages\\ipykernel_launcher.py:25: FutureWarning: suggest_loguniform has been deprecated in v3.0.0. This feature will be removed in v6.0.0. See https://github.com/optuna/optuna/releases/tag/v3.0.0. Use suggest_float(..., log=True) instead.\n",
      "C:\\Users\\Mateus\\anaconda3\\lib\\site-packages\\ipykernel_launcher.py:26: FutureWarning: suggest_uniform has been deprecated in v3.0.0. This feature will be removed in v6.0.0. See https://github.com/optuna/optuna/releases/tag/v3.0.0. Use suggest_float instead.\n",
      "[I 2024-09-23 22:08:28,059] Trial 18 finished with value: 36.973673272297034 and parameters: {'C': 0.19881456407791756, 'epsilon': 0.499171525764652, 'kernel': 'linear'}. Best is trial 10 with value: 28.406599858372374.\n",
      "C:\\Users\\Mateus\\anaconda3\\lib\\site-packages\\ipykernel_launcher.py:25: FutureWarning: suggest_loguniform has been deprecated in v3.0.0. This feature will be removed in v6.0.0. See https://github.com/optuna/optuna/releases/tag/v3.0.0. Use suggest_float(..., log=True) instead.\n",
      "C:\\Users\\Mateus\\anaconda3\\lib\\site-packages\\ipykernel_launcher.py:26: FutureWarning: suggest_uniform has been deprecated in v3.0.0. This feature will be removed in v6.0.0. See https://github.com/optuna/optuna/releases/tag/v3.0.0. Use suggest_float instead.\n",
      "[I 2024-09-23 22:08:32,514] Trial 19 finished with value: 28.23744039656133 and parameters: {'C': 91.62188460100363, 'epsilon': 0.14600642217940685, 'kernel': 'rbf'}. Best is trial 19 with value: 28.23744039656133.\n",
      "C:\\Users\\Mateus\\anaconda3\\lib\\site-packages\\ipykernel_launcher.py:25: FutureWarning: suggest_loguniform has been deprecated in v3.0.0. This feature will be removed in v6.0.0. See https://github.com/optuna/optuna/releases/tag/v3.0.0. Use suggest_float(..., log=True) instead.\n",
      "C:\\Users\\Mateus\\anaconda3\\lib\\site-packages\\ipykernel_launcher.py:26: FutureWarning: suggest_uniform has been deprecated in v3.0.0. This feature will be removed in v6.0.0. See https://github.com/optuna/optuna/releases/tag/v3.0.0. Use suggest_float instead.\n",
      "[I 2024-09-23 22:08:36,375] Trial 20 finished with value: 56.953601741660556 and parameters: {'C': 8.147009139329706e-06, 'epsilon': 0.14712260804223826, 'kernel': 'rbf'}. Best is trial 19 with value: 28.23744039656133.\n",
      "C:\\Users\\Mateus\\anaconda3\\lib\\site-packages\\ipykernel_launcher.py:25: FutureWarning: suggest_loguniform has been deprecated in v3.0.0. This feature will be removed in v6.0.0. See https://github.com/optuna/optuna/releases/tag/v3.0.0. Use suggest_float(..., log=True) instead.\n",
      "C:\\Users\\Mateus\\anaconda3\\lib\\site-packages\\ipykernel_launcher.py:26: FutureWarning: suggest_uniform has been deprecated in v3.0.0. This feature will be removed in v6.0.0. See https://github.com/optuna/optuna/releases/tag/v3.0.0. Use suggest_float instead.\n",
      "[I 2024-09-23 22:08:40,404] Trial 21 finished with value: 29.238983242531503 and parameters: {'C': 49.588007567912115, 'epsilon': 0.039647380005462605, 'kernel': 'rbf'}. Best is trial 19 with value: 28.23744039656133.\n",
      "C:\\Users\\Mateus\\anaconda3\\lib\\site-packages\\ipykernel_launcher.py:25: FutureWarning: suggest_loguniform has been deprecated in v3.0.0. This feature will be removed in v6.0.0. See https://github.com/optuna/optuna/releases/tag/v3.0.0. Use suggest_float(..., log=True) instead.\n",
      "C:\\Users\\Mateus\\anaconda3\\lib\\site-packages\\ipykernel_launcher.py:26: FutureWarning: suggest_uniform has been deprecated in v3.0.0. This feature will be removed in v6.0.0. See https://github.com/optuna/optuna/releases/tag/v3.0.0. Use suggest_float instead.\n"
     ]
    },
    {
     "name": "stderr",
     "output_type": "stream",
     "text": [
      "[I 2024-09-23 22:08:44,078] Trial 22 finished with value: 36.13444450792626 and parameters: {'C': 1.8272435329375945, 'epsilon': 0.09349661445914369, 'kernel': 'rbf'}. Best is trial 19 with value: 28.23744039656133.\n",
      "C:\\Users\\Mateus\\anaconda3\\lib\\site-packages\\ipykernel_launcher.py:25: FutureWarning: suggest_loguniform has been deprecated in v3.0.0. This feature will be removed in v6.0.0. See https://github.com/optuna/optuna/releases/tag/v3.0.0. Use suggest_float(..., log=True) instead.\n",
      "C:\\Users\\Mateus\\anaconda3\\lib\\site-packages\\ipykernel_launcher.py:26: FutureWarning: suggest_uniform has been deprecated in v3.0.0. This feature will be removed in v6.0.0. See https://github.com/optuna/optuna/releases/tag/v3.0.0. Use suggest_float instead.\n",
      "[I 2024-09-23 22:08:47,854] Trial 23 finished with value: 33.46002992470324 and parameters: {'C': 5.267876759150182, 'epsilon': 0.20762702476014738, 'kernel': 'rbf'}. Best is trial 19 with value: 28.23744039656133.\n",
      "C:\\Users\\Mateus\\anaconda3\\lib\\site-packages\\ipykernel_launcher.py:25: FutureWarning: suggest_loguniform has been deprecated in v3.0.0. This feature will be removed in v6.0.0. See https://github.com/optuna/optuna/releases/tag/v3.0.0. Use suggest_float(..., log=True) instead.\n",
      "C:\\Users\\Mateus\\anaconda3\\lib\\site-packages\\ipykernel_launcher.py:26: FutureWarning: suggest_uniform has been deprecated in v3.0.0. This feature will be removed in v6.0.0. See https://github.com/optuna/optuna/releases/tag/v3.0.0. Use suggest_float instead.\n",
      "[I 2024-09-23 22:08:52,128] Trial 24 finished with value: 28.360037664036252 and parameters: {'C': 84.98210856765637, 'epsilon': 0.12796857782390872, 'kernel': 'rbf'}. Best is trial 19 with value: 28.23744039656133.\n",
      "C:\\Users\\Mateus\\anaconda3\\lib\\site-packages\\ipykernel_launcher.py:25: FutureWarning: suggest_loguniform has been deprecated in v3.0.0. This feature will be removed in v6.0.0. See https://github.com/optuna/optuna/releases/tag/v3.0.0. Use suggest_float(..., log=True) instead.\n",
      "C:\\Users\\Mateus\\anaconda3\\lib\\site-packages\\ipykernel_launcher.py:26: FutureWarning: suggest_uniform has been deprecated in v3.0.0. This feature will be removed in v6.0.0. See https://github.com/optuna/optuna/releases/tag/v3.0.0. Use suggest_float instead.\n",
      "[I 2024-09-23 22:08:54,911] Trial 25 finished with value: 36.0010598299411 and parameters: {'C': 13.533242465368145, 'epsilon': 0.12215207472910791, 'kernel': 'linear'}. Best is trial 19 with value: 28.23744039656133.\n",
      "C:\\Users\\Mateus\\anaconda3\\lib\\site-packages\\ipykernel_launcher.py:25: FutureWarning: suggest_loguniform has been deprecated in v3.0.0. This feature will be removed in v6.0.0. See https://github.com/optuna/optuna/releases/tag/v3.0.0. Use suggest_float(..., log=True) instead.\n",
      "C:\\Users\\Mateus\\anaconda3\\lib\\site-packages\\ipykernel_launcher.py:26: FutureWarning: suggest_uniform has been deprecated in v3.0.0. This feature will be removed in v6.0.0. See https://github.com/optuna/optuna/releases/tag/v3.0.0. Use suggest_float instead.\n",
      "[I 2024-09-23 22:08:58,587] Trial 26 finished with value: 42.70247908202777 and parameters: {'C': 0.351588708448523, 'epsilon': 0.16322424162414098, 'kernel': 'rbf'}. Best is trial 19 with value: 28.23744039656133.\n",
      "C:\\Users\\Mateus\\anaconda3\\lib\\site-packages\\ipykernel_launcher.py:25: FutureWarning: suggest_loguniform has been deprecated in v3.0.0. This feature will be removed in v6.0.0. See https://github.com/optuna/optuna/releases/tag/v3.0.0. Use suggest_float(..., log=True) instead.\n",
      "C:\\Users\\Mateus\\anaconda3\\lib\\site-packages\\ipykernel_launcher.py:26: FutureWarning: suggest_uniform has been deprecated in v3.0.0. This feature will be removed in v6.0.0. See https://github.com/optuna/optuna/releases/tag/v3.0.0. Use suggest_float instead.\n",
      "[I 2024-09-23 22:09:02,381] Trial 27 finished with value: 30.29297354815572 and parameters: {'C': 24.954456966266275, 'epsilon': 0.23510728206544323, 'kernel': 'rbf'}. Best is trial 19 with value: 28.23744039656133.\n",
      "C:\\Users\\Mateus\\anaconda3\\lib\\site-packages\\ipykernel_launcher.py:25: FutureWarning: suggest_loguniform has been deprecated in v3.0.0. This feature will be removed in v6.0.0. See https://github.com/optuna/optuna/releases/tag/v3.0.0. Use suggest_float(..., log=True) instead.\n",
      "C:\\Users\\Mateus\\anaconda3\\lib\\site-packages\\ipykernel_launcher.py:26: FutureWarning: suggest_uniform has been deprecated in v3.0.0. This feature will be removed in v6.0.0. See https://github.com/optuna/optuna/releases/tag/v3.0.0. Use suggest_float instead.\n",
      "[I 2024-09-23 22:09:06,527] Trial 28 finished with value: 38.055557935606245 and parameters: {'C': 0.9479199679046832, 'epsilon': 0.11648446932109008, 'kernel': 'rbf'}. Best is trial 19 with value: 28.23744039656133.\n",
      "C:\\Users\\Mateus\\anaconda3\\lib\\site-packages\\ipykernel_launcher.py:25: FutureWarning: suggest_loguniform has been deprecated in v3.0.0. This feature will be removed in v6.0.0. See https://github.com/optuna/optuna/releases/tag/v3.0.0. Use suggest_float(..., log=True) instead.\n",
      "C:\\Users\\Mateus\\anaconda3\\lib\\site-packages\\ipykernel_launcher.py:26: FutureWarning: suggest_uniform has been deprecated in v3.0.0. This feature will be removed in v6.0.0. See https://github.com/optuna/optuna/releases/tag/v3.0.0. Use suggest_float instead.\n",
      "[I 2024-09-23 22:09:10,254] Trial 29 finished with value: 52.03516705604174 and parameters: {'C': 0.07385951929423412, 'epsilon': 0.044073435718962425, 'kernel': 'rbf'}. Best is trial 19 with value: 28.23744039656133.\n",
      "C:\\Users\\Mateus\\anaconda3\\lib\\site-packages\\ipykernel_launcher.py:25: FutureWarning: suggest_loguniform has been deprecated in v3.0.0. This feature will be removed in v6.0.0. See https://github.com/optuna/optuna/releases/tag/v3.0.0. Use suggest_float(..., log=True) instead.\n",
      "C:\\Users\\Mateus\\anaconda3\\lib\\site-packages\\ipykernel_launcher.py:26: FutureWarning: suggest_uniform has been deprecated in v3.0.0. This feature will be removed in v6.0.0. See https://github.com/optuna/optuna/releases/tag/v3.0.0. Use suggest_float instead.\n",
      "[I 2024-09-23 22:09:12,369] Trial 30 finished with value: 53.518679753971355 and parameters: {'C': 0.0020938357267686436, 'epsilon': 0.13173924126925748, 'kernel': 'linear'}. Best is trial 19 with value: 28.23744039656133.\n",
      "C:\\Users\\Mateus\\anaconda3\\lib\\site-packages\\ipykernel_launcher.py:25: FutureWarning: suggest_loguniform has been deprecated in v3.0.0. This feature will be removed in v6.0.0. See https://github.com/optuna/optuna/releases/tag/v3.0.0. Use suggest_float(..., log=True) instead.\n",
      "C:\\Users\\Mateus\\anaconda3\\lib\\site-packages\\ipykernel_launcher.py:26: FutureWarning: suggest_uniform has been deprecated in v3.0.0. This feature will be removed in v6.0.0. See https://github.com/optuna/optuna/releases/tag/v3.0.0. Use suggest_float instead.\n",
      "[I 2024-09-23 22:09:16,548] Trial 31 finished with value: 28.378937475032938 and parameters: {'C': 83.91829850169303, 'epsilon': 0.030019009817563162, 'kernel': 'rbf'}. Best is trial 19 with value: 28.23744039656133.\n",
      "C:\\Users\\Mateus\\anaconda3\\lib\\site-packages\\ipykernel_launcher.py:25: FutureWarning: suggest_loguniform has been deprecated in v3.0.0. This feature will be removed in v6.0.0. See https://github.com/optuna/optuna/releases/tag/v3.0.0. Use suggest_float(..., log=True) instead.\n",
      "C:\\Users\\Mateus\\anaconda3\\lib\\site-packages\\ipykernel_launcher.py:26: FutureWarning: suggest_uniform has been deprecated in v3.0.0. This feature will be removed in v6.0.0. See https://github.com/optuna/optuna/releases/tag/v3.0.0. Use suggest_float instead.\n",
      "[I 2024-09-23 22:09:20,471] Trial 32 finished with value: 33.42416527647207 and parameters: {'C': 5.357490904356958, 'epsilon': 0.046154912310820695, 'kernel': 'rbf'}. Best is trial 19 with value: 28.23744039656133.\n",
      "C:\\Users\\Mateus\\anaconda3\\lib\\site-packages\\ipykernel_launcher.py:25: FutureWarning: suggest_loguniform has been deprecated in v3.0.0. This feature will be removed in v6.0.0. See https://github.com/optuna/optuna/releases/tag/v3.0.0. Use suggest_float(..., log=True) instead.\n",
      "C:\\Users\\Mateus\\anaconda3\\lib\\site-packages\\ipykernel_launcher.py:26: FutureWarning: suggest_uniform has been deprecated in v3.0.0. This feature will be removed in v6.0.0. See https://github.com/optuna/optuna/releases/tag/v3.0.0. Use suggest_float instead.\n"
     ]
    },
    {
     "name": "stderr",
     "output_type": "stream",
     "text": [
      "[I 2024-09-23 22:09:24,545] Trial 33 finished with value: 28.1144794871182 and parameters: {'C': 99.01827867193182, 'epsilon': 0.08738116706156973, 'kernel': 'rbf'}. Best is trial 33 with value: 28.1144794871182.\n",
      "C:\\Users\\Mateus\\anaconda3\\lib\\site-packages\\ipykernel_launcher.py:25: FutureWarning: suggest_loguniform has been deprecated in v3.0.0. This feature will be removed in v6.0.0. See https://github.com/optuna/optuna/releases/tag/v3.0.0. Use suggest_float(..., log=True) instead.\n",
      "C:\\Users\\Mateus\\anaconda3\\lib\\site-packages\\ipykernel_launcher.py:26: FutureWarning: suggest_uniform has been deprecated in v3.0.0. This feature will be removed in v6.0.0. See https://github.com/optuna/optuna/releases/tag/v3.0.0. Use suggest_float instead.\n",
      "[I 2024-09-23 22:09:28,433] Trial 34 finished with value: 30.349406131243978 and parameters: {'C': 24.193874046258717, 'epsilon': 0.10504853179310064, 'kernel': 'rbf'}. Best is trial 33 with value: 28.1144794871182.\n",
      "C:\\Users\\Mateus\\anaconda3\\lib\\site-packages\\ipykernel_launcher.py:25: FutureWarning: suggest_loguniform has been deprecated in v3.0.0. This feature will be removed in v6.0.0. See https://github.com/optuna/optuna/releases/tag/v3.0.0. Use suggest_float(..., log=True) instead.\n",
      "C:\\Users\\Mateus\\anaconda3\\lib\\site-packages\\ipykernel_launcher.py:26: FutureWarning: suggest_uniform has been deprecated in v3.0.0. This feature will be removed in v6.0.0. See https://github.com/optuna/optuna/releases/tag/v3.0.0. Use suggest_float instead.\n",
      "[I 2024-09-23 22:09:32,176] Trial 35 finished with value: 33.239315707762124 and parameters: {'C': 5.799190574691723, 'epsilon': 0.19048628492146125, 'kernel': 'rbf'}. Best is trial 33 with value: 28.1144794871182.\n",
      "C:\\Users\\Mateus\\anaconda3\\lib\\site-packages\\ipykernel_launcher.py:25: FutureWarning: suggest_loguniform has been deprecated in v3.0.0. This feature will be removed in v6.0.0. See https://github.com/optuna/optuna/releases/tag/v3.0.0. Use suggest_float(..., log=True) instead.\n",
      "C:\\Users\\Mateus\\anaconda3\\lib\\site-packages\\ipykernel_launcher.py:26: FutureWarning: suggest_uniform has been deprecated in v3.0.0. This feature will be removed in v6.0.0. See https://github.com/optuna/optuna/releases/tag/v3.0.0. Use suggest_float instead.\n",
      "[I 2024-09-23 22:09:35,927] Trial 36 finished with value: 30.906950566755995 and parameters: {'C': 17.684439844729, 'epsilon': 0.0744310892900585, 'kernel': 'rbf'}. Best is trial 33 with value: 28.1144794871182.\n",
      "C:\\Users\\Mateus\\anaconda3\\lib\\site-packages\\ipykernel_launcher.py:25: FutureWarning: suggest_loguniform has been deprecated in v3.0.0. This feature will be removed in v6.0.0. See https://github.com/optuna/optuna/releases/tag/v3.0.0. Use suggest_float(..., log=True) instead.\n",
      "C:\\Users\\Mateus\\anaconda3\\lib\\site-packages\\ipykernel_launcher.py:26: FutureWarning: suggest_uniform has been deprecated in v3.0.0. This feature will be removed in v6.0.0. See https://github.com/optuna/optuna/releases/tag/v3.0.0. Use suggest_float instead.\n",
      "[I 2024-09-23 22:09:40,756] Trial 37 finished with value: 29.191074864729273 and parameters: {'C': 94.3573170123231, 'epsilon': 0.1524943715574899, 'kernel': 'poly'}. Best is trial 33 with value: 28.1144794871182.\n",
      "C:\\Users\\Mateus\\anaconda3\\lib\\site-packages\\ipykernel_launcher.py:25: FutureWarning: suggest_loguniform has been deprecated in v3.0.0. This feature will be removed in v6.0.0. See https://github.com/optuna/optuna/releases/tag/v3.0.0. Use suggest_float(..., log=True) instead.\n",
      "C:\\Users\\Mateus\\anaconda3\\lib\\site-packages\\ipykernel_launcher.py:26: FutureWarning: suggest_uniform has been deprecated in v3.0.0. This feature will be removed in v6.0.0. See https://github.com/optuna/optuna/releases/tag/v3.0.0. Use suggest_float instead.\n",
      "[I 2024-09-23 22:09:44,790] Trial 38 finished with value: 29.97137690050028 and parameters: {'C': 30.469930322312152, 'epsilon': 0.21010451008977965, 'kernel': 'rbf'}. Best is trial 33 with value: 28.1144794871182.\n",
      "C:\\Users\\Mateus\\anaconda3\\lib\\site-packages\\ipykernel_launcher.py:25: FutureWarning: suggest_loguniform has been deprecated in v3.0.0. This feature will be removed in v6.0.0. See https://github.com/optuna/optuna/releases/tag/v3.0.0. Use suggest_float(..., log=True) instead.\n",
      "C:\\Users\\Mateus\\anaconda3\\lib\\site-packages\\ipykernel_launcher.py:26: FutureWarning: suggest_uniform has been deprecated in v3.0.0. This feature will be removed in v6.0.0. See https://github.com/optuna/optuna/releases/tag/v3.0.0. Use suggest_float instead.\n",
      "[I 2024-09-23 22:09:47,139] Trial 39 finished with value: 56.94466340530304 and parameters: {'C': 3.211649874094294e-05, 'epsilon': 0.26838538574673654, 'kernel': 'poly'}. Best is trial 33 with value: 28.1144794871182.\n",
      "C:\\Users\\Mateus\\anaconda3\\lib\\site-packages\\ipykernel_launcher.py:25: FutureWarning: suggest_loguniform has been deprecated in v3.0.0. This feature will be removed in v6.0.0. See https://github.com/optuna/optuna/releases/tag/v3.0.0. Use suggest_float(..., log=True) instead.\n",
      "C:\\Users\\Mateus\\anaconda3\\lib\\site-packages\\ipykernel_launcher.py:26: FutureWarning: suggest_uniform has been deprecated in v3.0.0. This feature will be removed in v6.0.0. See https://github.com/optuna/optuna/releases/tag/v3.0.0. Use suggest_float instead.\n",
      "[I 2024-09-23 22:09:51,006] Trial 40 finished with value: 32.40484408165791 and parameters: {'C': 8.46654462392487, 'epsilon': 0.17738235258902274, 'kernel': 'rbf'}. Best is trial 33 with value: 28.1144794871182.\n",
      "C:\\Users\\Mateus\\anaconda3\\lib\\site-packages\\ipykernel_launcher.py:25: FutureWarning: suggest_loguniform has been deprecated in v3.0.0. This feature will be removed in v6.0.0. See https://github.com/optuna/optuna/releases/tag/v3.0.0. Use suggest_float(..., log=True) instead.\n",
      "C:\\Users\\Mateus\\anaconda3\\lib\\site-packages\\ipykernel_launcher.py:26: FutureWarning: suggest_uniform has been deprecated in v3.0.0. This feature will be removed in v6.0.0. See https://github.com/optuna/optuna/releases/tag/v3.0.0. Use suggest_float instead.\n",
      "[I 2024-09-23 22:09:55,269] Trial 41 finished with value: 28.304517383068088 and parameters: {'C': 87.88247664805534, 'epsilon': 0.04714071946738964, 'kernel': 'rbf'}. Best is trial 33 with value: 28.1144794871182.\n",
      "C:\\Users\\Mateus\\anaconda3\\lib\\site-packages\\ipykernel_launcher.py:25: FutureWarning: suggest_loguniform has been deprecated in v3.0.0. This feature will be removed in v6.0.0. See https://github.com/optuna/optuna/releases/tag/v3.0.0. Use suggest_float(..., log=True) instead.\n",
      "C:\\Users\\Mateus\\anaconda3\\lib\\site-packages\\ipykernel_launcher.py:26: FutureWarning: suggest_uniform has been deprecated in v3.0.0. This feature will be removed in v6.0.0. See https://github.com/optuna/optuna/releases/tag/v3.0.0. Use suggest_float instead.\n",
      "[I 2024-09-23 22:09:59,574] Trial 42 finished with value: 28.102257807015615 and parameters: {'C': 99.77108115157259, 'epsilon': 0.03743270457773274, 'kernel': 'rbf'}. Best is trial 42 with value: 28.102257807015615.\n",
      "C:\\Users\\Mateus\\anaconda3\\lib\\site-packages\\ipykernel_launcher.py:25: FutureWarning: suggest_loguniform has been deprecated in v3.0.0. This feature will be removed in v6.0.0. See https://github.com/optuna/optuna/releases/tag/v3.0.0. Use suggest_float(..., log=True) instead.\n",
      "C:\\Users\\Mateus\\anaconda3\\lib\\site-packages\\ipykernel_launcher.py:26: FutureWarning: suggest_uniform has been deprecated in v3.0.0. This feature will be removed in v6.0.0. See https://github.com/optuna/optuna/releases/tag/v3.0.0. Use suggest_float instead.\n",
      "[I 2024-09-23 22:10:03,312] Trial 43 finished with value: 34.762519116671555 and parameters: {'C': 3.12259557502218, 'epsilon': 0.06332273113046728, 'kernel': 'rbf'}. Best is trial 42 with value: 28.102257807015615.\n",
      "C:\\Users\\Mateus\\anaconda3\\lib\\site-packages\\ipykernel_launcher.py:25: FutureWarning: suggest_loguniform has been deprecated in v3.0.0. This feature will be removed in v6.0.0. See https://github.com/optuna/optuna/releases/tag/v3.0.0. Use suggest_float(..., log=True) instead.\n",
      "C:\\Users\\Mateus\\anaconda3\\lib\\site-packages\\ipykernel_launcher.py:26: FutureWarning: suggest_uniform has been deprecated in v3.0.0. This feature will be removed in v6.0.0. See https://github.com/optuna/optuna/releases/tag/v3.0.0. Use suggest_float instead.\n"
     ]
    },
    {
     "name": "stderr",
     "output_type": "stream",
     "text": [
      "[I 2024-09-23 22:10:07,387] Trial 44 finished with value: 29.95363340276184 and parameters: {'C': 30.874370427448046, 'epsilon': 0.13732842471356896, 'kernel': 'rbf'}. Best is trial 42 with value: 28.102257807015615.\n",
      "C:\\Users\\Mateus\\anaconda3\\lib\\site-packages\\ipykernel_launcher.py:25: FutureWarning: suggest_loguniform has been deprecated in v3.0.0. This feature will be removed in v6.0.0. See https://github.com/optuna/optuna/releases/tag/v3.0.0. Use suggest_float(..., log=True) instead.\n",
      "C:\\Users\\Mateus\\anaconda3\\lib\\site-packages\\ipykernel_launcher.py:26: FutureWarning: suggest_uniform has been deprecated in v3.0.0. This feature will be removed in v6.0.0. See https://github.com/optuna/optuna/releases/tag/v3.0.0. Use suggest_float instead.\n",
      "[I 2024-09-23 22:10:10,953] Trial 45 finished with value: 30.43047260972685 and parameters: {'C': 38.67233608451191, 'epsilon': 0.31462700032471314, 'kernel': 'poly'}. Best is trial 42 with value: 28.102257807015615.\n",
      "C:\\Users\\Mateus\\anaconda3\\lib\\site-packages\\ipykernel_launcher.py:25: FutureWarning: suggest_loguniform has been deprecated in v3.0.0. This feature will be removed in v6.0.0. See https://github.com/optuna/optuna/releases/tag/v3.0.0. Use suggest_float(..., log=True) instead.\n",
      "C:\\Users\\Mateus\\anaconda3\\lib\\site-packages\\ipykernel_launcher.py:26: FutureWarning: suggest_uniform has been deprecated in v3.0.0. This feature will be removed in v6.0.0. See https://github.com/optuna/optuna/releases/tag/v3.0.0. Use suggest_float instead.\n",
      "[I 2024-09-23 22:10:14,809] Trial 46 finished with value: 31.598955470920153 and parameters: {'C': 12.380859274927582, 'epsilon': 0.09191727681720974, 'kernel': 'rbf'}. Best is trial 42 with value: 28.102257807015615.\n",
      "C:\\Users\\Mateus\\anaconda3\\lib\\site-packages\\ipykernel_launcher.py:25: FutureWarning: suggest_loguniform has been deprecated in v3.0.0. This feature will be removed in v6.0.0. See https://github.com/optuna/optuna/releases/tag/v3.0.0. Use suggest_float(..., log=True) instead.\n",
      "C:\\Users\\Mateus\\anaconda3\\lib\\site-packages\\ipykernel_launcher.py:26: FutureWarning: suggest_uniform has been deprecated in v3.0.0. This feature will be removed in v6.0.0. See https://github.com/optuna/optuna/releases/tag/v3.0.0. Use suggest_float instead.\n",
      "[I 2024-09-23 22:10:18,716] Trial 47 finished with value: 56.95452354830197 and parameters: {'C': 1.1495497777025592e-06, 'epsilon': 0.05610319313358481, 'kernel': 'rbf'}. Best is trial 42 with value: 28.102257807015615.\n",
      "C:\\Users\\Mateus\\anaconda3\\lib\\site-packages\\ipykernel_launcher.py:25: FutureWarning: suggest_loguniform has been deprecated in v3.0.0. This feature will be removed in v6.0.0. See https://github.com/optuna/optuna/releases/tag/v3.0.0. Use suggest_float(..., log=True) instead.\n",
      "C:\\Users\\Mateus\\anaconda3\\lib\\site-packages\\ipykernel_launcher.py:26: FutureWarning: suggest_uniform has been deprecated in v3.0.0. This feature will be removed in v6.0.0. See https://github.com/optuna/optuna/releases/tag/v3.0.0. Use suggest_float instead.\n",
      "[I 2024-09-23 22:10:21,075] Trial 48 finished with value: 36.08962334139397 and parameters: {'C': 0.9125592243018267, 'epsilon': 0.02355555249030757, 'kernel': 'linear'}. Best is trial 42 with value: 28.102257807015615.\n",
      "C:\\Users\\Mateus\\anaconda3\\lib\\site-packages\\ipykernel_launcher.py:25: FutureWarning: suggest_loguniform has been deprecated in v3.0.0. This feature will be removed in v6.0.0. See https://github.com/optuna/optuna/releases/tag/v3.0.0. Use suggest_float(..., log=True) instead.\n",
      "C:\\Users\\Mateus\\anaconda3\\lib\\site-packages\\ipykernel_launcher.py:26: FutureWarning: suggest_uniform has been deprecated in v3.0.0. This feature will be removed in v6.0.0. See https://github.com/optuna/optuna/releases/tag/v3.0.0. Use suggest_float instead.\n",
      "[I 2024-09-23 22:10:25,397] Trial 49 finished with value: 28.101311453818518 and parameters: {'C': 99.79862226659922, 'epsilon': 0.07957601995992755, 'kernel': 'rbf'}. Best is trial 49 with value: 28.101311453818518.\n",
      "[I 2024-09-23 22:10:25,399] A new study created in memory with name: no-name-471f9e82-dc40-4716-8ac2-c00fe8004c9a\n",
      "[I 2024-09-23 22:10:25,484] Trial 0 finished with value: 30.339299372486117 and parameters: {'max_depth': 10, 'min_samples_split': 5, 'min_samples_leaf': 2}. Best is trial 0 with value: 30.339299372486117.\n",
      "[I 2024-09-23 22:10:25,540] Trial 1 finished with value: 31.28122223034318 and parameters: {'max_depth': 8, 'min_samples_split': 9, 'min_samples_leaf': 8}. Best is trial 0 with value: 30.339299372486117.\n",
      "[I 2024-09-23 22:10:25,606] Trial 2 finished with value: 30.127035197964553 and parameters: {'max_depth': 18, 'min_samples_split': 13, 'min_samples_leaf': 10}. Best is trial 2 with value: 30.127035197964553.\n"
     ]
    },
    {
     "name": "stdout",
     "output_type": "stream",
     "text": [
      "Best SVR parameters:  {'C': 99.79862226659922, 'epsilon': 0.07957601995992755, 'kernel': 'rbf'}\n",
      "Best SVR MAE score:  28.101311453818518\n"
     ]
    },
    {
     "name": "stderr",
     "output_type": "stream",
     "text": [
      "[I 2024-09-23 22:10:25,643] Trial 3 finished with value: 39.16824358254403 and parameters: {'max_depth': 3, 'min_samples_split': 9, 'min_samples_leaf': 5}. Best is trial 2 with value: 30.127035197964553.\n",
      "[I 2024-09-23 22:10:25,696] Trial 4 finished with value: 35.65677687256031 and parameters: {'max_depth': 5, 'min_samples_split': 16, 'min_samples_leaf': 9}. Best is trial 2 with value: 30.127035197964553.\n",
      "[I 2024-09-23 22:10:25,766] Trial 5 finished with value: 29.61816251214416 and parameters: {'max_depth': 12, 'min_samples_split': 3, 'min_samples_leaf': 4}. Best is trial 5 with value: 29.61816251214416.\n",
      "[I 2024-09-23 22:10:25,832] Trial 6 finished with value: 29.812577547156558 and parameters: {'max_depth': 20, 'min_samples_split': 9, 'min_samples_leaf': 9}. Best is trial 5 with value: 29.61816251214416.\n",
      "[I 2024-09-23 22:10:25,896] Trial 7 finished with value: 30.439289075858294 and parameters: {'max_depth': 9, 'min_samples_split': 14, 'min_samples_leaf': 4}. Best is trial 5 with value: 29.61816251214416.\n",
      "[I 2024-09-23 22:10:25,973] Trial 8 finished with value: 29.775858206636393 and parameters: {'max_depth': 12, 'min_samples_split': 7, 'min_samples_leaf': 6}. Best is trial 5 with value: 29.61816251214416.\n",
      "[I 2024-09-23 22:10:26,072] Trial 9 finished with value: 29.765941810061314 and parameters: {'max_depth': 20, 'min_samples_split': 3, 'min_samples_leaf': 4}. Best is trial 5 with value: 29.61816251214416.\n",
      "[I 2024-09-23 22:10:26,171] Trial 10 finished with value: 29.617946635582893 and parameters: {'max_depth': 15, 'min_samples_split': 20, 'min_samples_leaf': 1}. Best is trial 10 with value: 29.617946635582893.\n",
      "[I 2024-09-23 22:10:26,245] Trial 11 finished with value: 29.617946635582893 and parameters: {'max_depth': 15, 'min_samples_split': 20, 'min_samples_leaf': 1}. Best is trial 10 with value: 29.617946635582893.\n",
      "[I 2024-09-23 22:10:26,328] Trial 12 finished with value: 29.617946635582893 and parameters: {'max_depth': 15, 'min_samples_split': 20, 'min_samples_leaf': 1}. Best is trial 10 with value: 29.617946635582893.\n",
      "[I 2024-09-23 22:10:26,430] Trial 13 finished with value: 29.68952899252261 and parameters: {'max_depth': 15, 'min_samples_split': 19, 'min_samples_leaf': 1}. Best is trial 10 with value: 29.617946635582893.\n",
      "[I 2024-09-23 22:10:26,522] Trial 14 finished with value: 29.614943584347685 and parameters: {'max_depth': 15, 'min_samples_split': 17, 'min_samples_leaf': 2}. Best is trial 14 with value: 29.614943584347685.\n",
      "[I 2024-09-23 22:10:26,623] Trial 15 finished with value: 29.400207879417543 and parameters: {'max_depth': 17, 'min_samples_split': 17, 'min_samples_leaf': 3}. Best is trial 15 with value: 29.400207879417543.\n",
      "[I 2024-09-23 22:10:26,718] Trial 16 finished with value: 29.400207879417543 and parameters: {'max_depth': 17, 'min_samples_split': 17, 'min_samples_leaf': 3}. Best is trial 15 with value: 29.400207879417543.\n",
      "[I 2024-09-23 22:10:26,818] Trial 17 finished with value: 29.55208250022887 and parameters: {'max_depth': 18, 'min_samples_split': 16, 'min_samples_leaf': 3}. Best is trial 15 with value: 29.400207879417543.\n",
      "[I 2024-09-23 22:10:26,902] Trial 18 finished with value: 29.653244888023274 and parameters: {'max_depth': 17, 'min_samples_split': 12, 'min_samples_leaf': 6}. Best is trial 15 with value: 29.400207879417543.\n",
      "[I 2024-09-23 22:10:26,976] Trial 19 finished with value: 29.417982557896465 and parameters: {'max_depth': 13, 'min_samples_split': 17, 'min_samples_leaf': 3}. Best is trial 15 with value: 29.400207879417543.\n",
      "[I 2024-09-23 22:10:27,036] Trial 20 finished with value: 32.24500071819649 and parameters: {'max_depth': 7, 'min_samples_split': 14, 'min_samples_leaf': 5}. Best is trial 15 with value: 29.400207879417543.\n",
      "[I 2024-09-23 22:10:27,118] Trial 21 finished with value: 29.400207879417543 and parameters: {'max_depth': 17, 'min_samples_split': 17, 'min_samples_leaf': 3}. Best is trial 15 with value: 29.400207879417543.\n",
      "[I 2024-09-23 22:10:27,208] Trial 22 finished with value: 29.45993997169567 and parameters: {'max_depth': 17, 'min_samples_split': 18, 'min_samples_leaf': 3}. Best is trial 15 with value: 29.400207879417543.\n",
      "[I 2024-09-23 22:10:27,291] Trial 23 finished with value: 29.79655937901356 and parameters: {'max_depth': 19, 'min_samples_split': 15, 'min_samples_leaf': 2}. Best is trial 15 with value: 29.400207879417543.\n",
      "[I 2024-09-23 22:10:27,378] Trial 24 finished with value: 29.818770094050848 and parameters: {'max_depth': 17, 'min_samples_split': 11, 'min_samples_leaf': 3}. Best is trial 15 with value: 29.400207879417543.\n",
      "[I 2024-09-23 22:10:27,455] Trial 25 finished with value: 29.531255816133687 and parameters: {'max_depth': 14, 'min_samples_split': 18, 'min_samples_leaf': 5}. Best is trial 15 with value: 29.400207879417543.\n",
      "[I 2024-09-23 22:10:27,540] Trial 26 finished with value: 29.540536854792606 and parameters: {'max_depth': 17, 'min_samples_split': 15, 'min_samples_leaf': 4}. Best is trial 15 with value: 29.400207879417543.\n",
      "[I 2024-09-23 22:10:27,617] Trial 27 finished with value: 29.806387193497063 and parameters: {'max_depth': 19, 'min_samples_split': 11, 'min_samples_leaf': 7}. Best is trial 15 with value: 29.400207879417543.\n",
      "[I 2024-09-23 22:10:27,699] Trial 28 finished with value: 29.619942792177007 and parameters: {'max_depth': 13, 'min_samples_split': 18, 'min_samples_leaf': 2}. Best is trial 15 with value: 29.400207879417543.\n",
      "[I 2024-09-23 22:10:27,787] Trial 29 finished with value: 29.71905525543757 and parameters: {'max_depth': 16, 'min_samples_split': 13, 'min_samples_leaf': 3}. Best is trial 15 with value: 29.400207879417543.\n",
      "[I 2024-09-23 22:10:27,892] Trial 30 finished with value: 29.997625649853042 and parameters: {'max_depth': 10, 'min_samples_split': 16, 'min_samples_leaf': 2}. Best is trial 15 with value: 29.400207879417543.\n",
      "[I 2024-09-23 22:10:27,971] Trial 31 finished with value: 29.417982557896465 and parameters: {'max_depth': 13, 'min_samples_split': 17, 'min_samples_leaf': 3}. Best is trial 15 with value: 29.400207879417543.\n",
      "[I 2024-09-23 22:10:28,041] Trial 32 finished with value: 29.67082294987629 and parameters: {'max_depth': 11, 'min_samples_split': 17, 'min_samples_leaf': 4}. Best is trial 15 with value: 29.400207879417543.\n",
      "[I 2024-09-23 22:10:28,126] Trial 33 finished with value: 29.416772183530895 and parameters: {'max_depth': 18, 'min_samples_split': 19, 'min_samples_leaf': 3}. Best is trial 15 with value: 29.400207879417543.\n",
      "[I 2024-09-23 22:10:28,224] Trial 34 finished with value: 29.552602745268455 and parameters: {'max_depth': 19, 'min_samples_split': 19, 'min_samples_leaf': 2}. Best is trial 15 with value: 29.400207879417543.\n",
      "[I 2024-09-23 22:10:28,307] Trial 35 finished with value: 29.580583400122322 and parameters: {'max_depth': 18, 'min_samples_split': 19, 'min_samples_leaf': 5}. Best is trial 15 with value: 29.400207879417543.\n",
      "[I 2024-09-23 22:10:28,418] Trial 36 finished with value: 29.460193382962085 and parameters: {'max_depth': 16, 'min_samples_split': 15, 'min_samples_leaf': 4}. Best is trial 15 with value: 29.400207879417543.\n",
      "[I 2024-09-23 22:10:28,471] Trial 37 finished with value: 42.21040325097613 and parameters: {'max_depth': 2, 'min_samples_split': 13, 'min_samples_leaf': 2}. Best is trial 15 with value: 29.400207879417543.\n",
      "[I 2024-09-23 22:10:28,556] Trial 38 finished with value: 29.759046421124545 and parameters: {'max_depth': 20, 'min_samples_split': 18, 'min_samples_leaf': 7}. Best is trial 15 with value: 29.400207879417543.\n",
      "[I 2024-09-23 22:10:28,610] Trial 39 finished with value: 33.768140288848045 and parameters: {'max_depth': 6, 'min_samples_split': 7, 'min_samples_leaf': 3}. Best is trial 15 with value: 29.400207879417543.\n",
      "[I 2024-09-23 22:10:28,690] Trial 40 finished with value: 29.43530289796801 and parameters: {'max_depth': 16, 'min_samples_split': 14, 'min_samples_leaf': 4}. Best is trial 15 with value: 29.400207879417543.\n",
      "[I 2024-09-23 22:10:28,776] Trial 41 finished with value: 29.438712118805817 and parameters: {'max_depth': 18, 'min_samples_split': 17, 'min_samples_leaf': 3}. Best is trial 15 with value: 29.400207879417543.\n",
      "[I 2024-09-23 22:10:28,850] Trial 42 finished with value: 29.509598762940573 and parameters: {'max_depth': 13, 'min_samples_split': 16, 'min_samples_leaf': 3}. Best is trial 15 with value: 29.400207879417543.\n"
     ]
    },
    {
     "name": "stderr",
     "output_type": "stream",
     "text": [
      "[I 2024-09-23 22:10:28,937] Trial 43 finished with value: 29.422169879331552 and parameters: {'max_depth': 14, 'min_samples_split': 16, 'min_samples_leaf': 4}. Best is trial 15 with value: 29.400207879417543.\n",
      "[I 2024-09-23 22:10:29,016] Trial 44 finished with value: 30.127035197964553 and parameters: {'max_depth': 19, 'min_samples_split': 19, 'min_samples_leaf': 10}. Best is trial 15 with value: 29.400207879417543.\n",
      "[I 2024-09-23 22:10:29,101] Trial 45 finished with value: 29.594964879407605 and parameters: {'max_depth': 16, 'min_samples_split': 20, 'min_samples_leaf': 5}. Best is trial 15 with value: 29.400207879417543.\n",
      "[I 2024-09-23 22:10:29,178] Trial 46 finished with value: 30.822452814834584 and parameters: {'max_depth': 9, 'min_samples_split': 2, 'min_samples_leaf': 1}. Best is trial 15 with value: 29.400207879417543.\n",
      "[I 2024-09-23 22:10:29,264] Trial 47 finished with value: 29.484722193514337 and parameters: {'max_depth': 14, 'min_samples_split': 18, 'min_samples_leaf': 3}. Best is trial 15 with value: 29.400207879417543.\n",
      "[I 2024-09-23 22:10:29,354] Trial 48 finished with value: 29.80283893234003 and parameters: {'max_depth': 12, 'min_samples_split': 17, 'min_samples_leaf': 2}. Best is trial 15 with value: 29.400207879417543.\n",
      "[I 2024-09-23 22:10:29,435] Trial 49 finished with value: 29.55937887981519 and parameters: {'max_depth': 20, 'min_samples_split': 15, 'min_samples_leaf': 6}. Best is trial 15 with value: 29.400207879417543.\n"
     ]
    },
    {
     "name": "stdout",
     "output_type": "stream",
     "text": [
      "Best Decision Tree parameters:  {'max_depth': 17, 'min_samples_split': 17, 'min_samples_leaf': 3}\n",
      "Best Decision Tree MAE score:  29.400207879417543\n"
     ]
    }
   ],
   "source": [
    "# Otimizar Hiperparâmetros\n",
    "# 1. Ridge Regression\n",
    "study_ridge = optuna.create_study(direction='minimize')\n",
    "study_ridge.optimize(objective_ridge, n_trials=50)\n",
    "\n",
    "# 2. Support Vector Regression\n",
    "study_svr = optuna.create_study(direction='minimize')\n",
    "study_svr.optimize(objective_svr, n_trials=50)\n",
    "\n",
    "# 3. Decision Tree Regressor\n",
    "study_tree = optuna.create_study(direction='minimize')\n",
    "study_tree.optimize(objective_tree, n_trials=50)"
   ]
  },
  {
   "cell_type": "code",
   "execution_count": 62,
   "metadata": {},
   "outputs": [
    {
     "name": "stdout",
     "output_type": "stream",
     "text": [
      "Best Ridge Regression parameters:  {'alpha': 1.0038785486465014e-06}\n",
      "Best Ridge Regression MAE score:  36.34199812457766\n",
      "Best SVR parameters:  {'C': 99.79862226659922, 'epsilon': 0.07957601995992755, 'kernel': 'rbf'}\n",
      "Best SVR MAE score:  28.101311453818518\n",
      "Best Decision Tree parameters:  {'max_depth': 17, 'min_samples_split': 17, 'min_samples_leaf': 3}\n",
      "Best Decision Tree MAE score:  29.400207879417543\n"
     ]
    }
   ],
   "source": [
    "print(\"Best Ridge Regression parameters: \", study_ridge.best_params)\n",
    "print(\"Best Ridge Regression MAE score: \", study_ridge.best_value)\n",
    "print(\"Best SVR parameters: \", study_svr.best_params)\n",
    "print(\"Best SVR MAE score: \", study_svr.best_value)\n",
    "print(\"Best Decision Tree parameters: \", study_tree.best_params)\n",
    "print(\"Best Decision Tree MAE score: \", study_tree.best_value)"
   ]
  },
  {
   "cell_type": "code",
   "execution_count": 40,
   "metadata": {},
   "outputs": [
    {
     "name": "stdout",
     "output_type": "stream",
     "text": [
      "Ridge Regression Results: {'mae': 35.34425321569969, 'mse': 2153.2153263621885, 'r2': 0.5733014968786018}\n",
      "SVR Results: {'mae': 28.2802837018753, 'mse': 1475.668493281776, 'r2': 0.7075696380767689}\n",
      "Decision Tree Results: {'mae': 29.504505845679933, 'mse': 1499.2459725858396, 'r2': 0.7028973347528757}\n"
     ]
    }
   ],
   "source": [
    "# Avaliar os modelos finais com os melhores parâmetros\n",
    "# Avaliar Ridge Regression\n",
    "ridge_best = Ridge(**study_ridge.best_params)\n",
    "ridge_best.fit(X_train, y_train)\n",
    "ridge_pred = ridge_best.predict(X_test)\n",
    "ridge_results = {\n",
    "    'mae': mean_absolute_error(y_test, ridge_pred),\n",
    "    'mse': mean_squared_error(y_test, ridge_pred),\n",
    "    'r2': r2_score(y_test, ridge_pred)\n",
    "}\n",
    "\n",
    "# Avaliar SVR\n",
    "svr_best = SVR(**study_svr.best_params)\n",
    "svr_best.fit(X_train, y_train)\n",
    "svr_pred = svr_best.predict(X_test)\n",
    "svr_results = {\n",
    "    'mae': mean_absolute_error(y_test, svr_pred),\n",
    "    'mse': mean_squared_error(y_test, svr_pred),\n",
    "    'r2': r2_score(y_test, svr_pred)\n",
    "}\n",
    "\n",
    "# Avaliar Decision Tree Regressor\n",
    "tree_best = DecisionTreeRegressor(**study_tree.best_params)\n",
    "tree_best.fit(X_train, y_train)\n",
    "tree_pred = tree_best.predict(X_test)\n",
    "tree_results = {\n",
    "    'mae': mean_absolute_error(y_test, tree_pred),\n",
    "    'mse': mean_squared_error(y_test, tree_pred),\n",
    "    'r2': r2_score(y_test, tree_pred)\n",
    "}\n",
    "\n",
    "# Imprimir os resultados finais\n",
    "print(\"Ridge Regression Results:\", ridge_results)\n",
    "print(\"SVR Results:\", svr_results)\n",
    "print(\"Decision Tree Results:\", tree_results)"
   ]
  },
  {
   "cell_type": "code",
   "execution_count": 41,
   "metadata": {},
   "outputs": [
    {
     "data": {
      "image/png": "[encoded data removed]",
      "text/plain": [
       "<Figure size 576x432 with 1 Axes>"
      ]
     },
     "metadata": {
      "needs_background": "light"
     },
     "output_type": "display_data"
    }
   ],
   "source": [
    "# Gráfico de dispersão (scatter plot) das previsões vs valores reais\n",
    "plt.figure(figsize=(8, 6))\n",
    "plt.scatter(y_test, svr_pred, alpha=0.6, color='b')\n",
    "plt.plot([y_test.min(), y_test.max()], [y_test.min(), y_test.max()], 'r--')  # Linha de perfeição (y=x)\n",
    "plt.title('Previsões vs Valores Reais (SVR)', fontsize=14)\n",
    "plt.xlabel('Valores Reais', fontsize=12)\n",
    "plt.ylabel('Previsões', fontsize=12)\n",
    "plt.grid(True)\n",
    "plt.show()"
   ]
  },
  {
   "cell_type": "code",
   "execution_count": 45,
   "metadata": {},
   "outputs": [
    {
     "data": {
      "image/png": "[encoded data removed]",
      "text/plain": [
       "<Figure size 576x432 with 1 Axes>"
      ]
     },
     "metadata": {
      "needs_background": "light"
     },
     "output_type": "display_data"
    }
   ],
   "source": [
    "# Histograma dos resíduos (erros de previsão)\n",
    "residuos = y_test - svr_pred\n",
    "plt.figure(figsize=(8, 6))\n",
    "sns.distplot(residuos, kde=True, color='blue', bins=30)\n",
    "plt.title('Distribuição dos Resíduos (SVR)', fontsize=14)\n",
    "plt.xlabel('Erro (Resíduos)', fontsize=12)\n",
    "plt.ylabel('Frequência', fontsize=12)\n",
    "plt.grid(True)\n",
    "plt.show()"
   ]
  },
  {
   "cell_type": "code",
   "execution_count": 46,
   "metadata": {},
   "outputs": [
    {
     "data": {
      "image/png": "[encoded data removed]",
      "text/plain": [
       "<Figure size 576x432 with 1 Axes>"
      ]
     },
     "metadata": {
      "needs_background": "light"
     },
     "output_type": "display_data"
    }
   ],
   "source": [
    "plt.figure(figsize=(8, 6))\n",
    "plt.scatter(y_test, residuos, alpha=0.6, color='b')\n",
    "plt.axhline(0, color='r', linestyle='--')  # Linha de referência em zero\n",
    "plt.title('Resíduos vs Valores Reais (SVR)', fontsize=14)\n",
    "plt.xlabel('Valores Reais', fontsize=12)\n",
    "plt.ylabel('Resíduos', fontsize=12)\n",
    "plt.grid(True)\n",
    "plt.show()"
   ]
  },
  {
   "cell_type": "code",
   "execution_count": 56,
   "metadata": {
    "scrolled": false
   },
   "outputs": [
    {
     "name": "stdout",
     "output_type": "stream",
     "text": [
      "                                       Importance\n",
      "curso_smoothed                          18.611339\n",
      "QT_INSCRICAO                            10.829508\n",
      "QT_VAGAS_CONCORRENCIA                    5.623530\n",
      "IA_Q5                                    5.046452\n",
      "IGC                                      4.164389\n",
      "POP                                      3.732275\n",
      "GRUPO_HIERARQUIA_URBANA                  3.548805\n",
      "CI                                       2.874119\n",
      "DS_REGIAO_CAMPUS_Norte                   2.693966\n",
      "DS_REGIAO_CAMPUS_Nordeste                1.735216\n",
      "DS_REGIAO_CAMPUS_Sul                     1.603329\n",
      "DS_CATEGORIA_ADM                         0.877201\n",
      "DS_REGIAO_CAMPUS_Sudeste                 0.770375\n",
      "DS_REGIAO_CAMPUS_Centro_Oeste            0.607541\n",
      "DS_GRAU_Bacharelado                      0.463188\n",
      "DS_TURNO_Integral                        0.375810\n",
      "DS_GRAU_Licenciatura                     0.365659\n",
      "DS_TURNO_Matutino                        0.316434\n",
      "DS_TURNO_Noturno                         0.293310\n",
      "DS_TURNO_Vespertino                      0.122428\n",
      "DS_GRAU_Área Básica de Ingresso (ABI)    0.014873\n"
     ]
    },
    {
     "data": {
      "text/plain": [
       "<Figure size 720x432 with 0 Axes>"
      ]
     },
     "metadata": {},
     "output_type": "display_data"
    },
    {
     "data": {
      "image/png": "[encoded data removed]",
      "text/plain": [
       "<Figure size 432x288 with 1 Axes>"
      ]
     },
     "metadata": {
      "needs_background": "light"
     },
     "output_type": "display_data"
    }
   ],
   "source": [
    "# Avaliar a importância das features usando Permutation Importance\n",
    "result = permutation_importance(svr_best, X_test, y_test, n_repeats=10, random_state=42, scoring='neg_mean_absolute_error')\n",
    "\n",
    "# Exibir a importância das features\n",
    "importance_df = pd.DataFrame(result.importances_mean, index=X.columns, columns=['Importance'])\\\n",
    "                    .sort_values(by='Importance', ascending=False)\n",
    "print(importance_df)\n",
    "\n",
    "# Gráfico da importância das variáveis\n",
    "plt.figure(figsize=(10, 6))\n",
    "importance_df.plot(kind='barh', legend=False)\n",
    "plt.title('Permutation Importance (SVR)', fontsize=14)\n",
    "plt.xlabel('Importance', fontsize=12)\n",
    "plt.ylabel('Features', fontsize=12)\n",
    "plt.grid(True)\n",
    "plt.show()"
   ]
  }
 ],
 "metadata": {
  "kernelspec": {
   "display_name": "Python 3",
   "language": "python",
   "name": "python3"
  },
  "language_info": {
   "codemirror_mode": {
    "name": "ipython",
    "version": 3
   },
   "file_extension": ".py",
   "mimetype": "text/x-python",
   "name": "python",
   "nbconvert_exporter": "python",
   "pygments_lexer": "ipython3",
   "version": "3.7.6"
  }
 },
 "nbformat": 4,
 "nbformat_minor": 4
}
